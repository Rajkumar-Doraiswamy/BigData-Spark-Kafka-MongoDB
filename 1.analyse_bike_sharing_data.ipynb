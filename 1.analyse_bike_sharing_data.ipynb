{
 "cells": [
  {
   "cell_type": "code",
   "execution_count": null,
   "metadata": {},
   "outputs": [],
   "source": [
    "# Last amended: 15th August, 2019\n",
    "# My folder: /home/ashok/Documents/spark/2.bike_sharing_dataset\n",
    "# VM: lubuntu_spark.7z\n",
    "# Ref: https://docs.databricks.com/spark/latest/mllib/decision-trees.html#gbt-regression-using-mllib-pipelines"
   ]
  },
  {
   "cell_type": "markdown",
   "metadata": {},
   "source": [
    "## Analyzing a bike sharing dataset\n",
    "\n",
    "### Objectives\n",
    "----------\n",
    "\tTo demonstrate creating an ML Pipeline to i) preprocess\n",
    "\ta dataset, ii) train a Machine Learning model, and iii) make\n",
    "\tpredictions.\n",
    "\n",
    "### Data:\n",
    "-----\n",
    "\tThe dataset contains bike rental info from\n",
    "\t2011 and 2012 in the Capital bikeshare system, plus\n",
    "\tadditional relevant information such as weather.\n",
    "\tThis dataset is from Fanaee-T and Gama (2013) and\n",
    "\tis hosted by the UCI Machine Learning Repository.\n",
    "\n",
    "Fields :\n",
    "\tFeatures:\n",
    "\t\t- instant: record index; Serial number\n",
    "\t\t- dteday : date\n",
    "\t\t- season : season (1:springer, 2:summer, 3:fall, 4:winter)\n",
    "\t\t- yr : year (0: 2011, 1:2012) Format: yyyy-mm-dd\n",
    "\t\t- mnth : month ( 1 to 12)\n",
    "\t\t- hr : hour (0 to 23)\n",
    "\t\t- holiday : weather day is holiday or not (extracted from [Web Link])\n",
    "\t\t- weekday : day of the week\n",
    "\t\t- workingday : if day is neither weekend nor holiday is 1, otherwise is 0.\n",
    "\t\t+ weathersit : 1 (clear), 2 (mist), 3(light snow), 4 (heavy rain)\n",
    "\t\t- temp : Normalized temperature in Celsius.\n",
    "\t\t- atemp: Normalized feeling temperature in Celsius.\n",
    "\t\t- hum: Normalized humidity. \n",
    "\t\t- windspeed: Normalized wind speed.\n",
    "\tTarget or label fields:\n",
    "\t\t- casual: count of casual users         \n",
    "\t\t- registered: count of registered users\n",
    "\t\t- cnt: count of total rental bikes including both casual and registered\n",
    "\t\n",
    "\n",
    "### Goal:\n",
    "------\n",
    "\tWe want to learn to predict bike rental\n",
    "\tcounts (per hour) from information such as day of\n",
    "\tthe week, weather, season, etc. Having good\n",
    "\tpredictions of customer demand allows a business or\n",
    "\tservice to prepare and increase supply as needed.\n",
    "\tOur target will be:  'cnt'\n",
    "\n",
    "### Approach:\n",
    "----------\n",
    "\t We will use Spark ML Pipelines, which help\n",
    "\tusers piece together parts of a workflow such as\n",
    "\tfeature processing and model training. We will also\n",
    "\tdemonstrate model selection (a.k.a. hyperparameter\n",
    "\ttuning) using Cross Validation in order to fine-tune\n",
    "\tand improve our ML model."
   ]
  },
  {
   "cell_type": "code",
   "execution_count": 1,
   "metadata": {},
   "outputs": [
    {
     "data": {
      "text/html": [
       "<style>.container { width:100% !important; }</style>"
      ],
      "text/plain": [
       "<IPython.core.display.HTML object>"
      ]
     },
     "metadata": {},
     "output_type": "display_data"
    }
   ],
   "source": [
    "# 1. Increase the width of notebook \n",
    "#    to display all columns of data\n",
    "from IPython.core.display import display, HTML\n",
    "display(HTML(\"<style>.container { width:100% !important; }</style>\"))"
   ]
  },
  {
   "cell_type": "code",
   "execution_count": 2,
   "metadata": {},
   "outputs": [],
   "source": [
    "# 1.1 Show multiple outputs of a single cell\n",
    "from IPython.core.interactiveshell import InteractiveShell\n",
    "InteractiveShell.ast_node_interactivity = \"all\""
   ]
  },
  {
   "cell_type": "markdown",
   "metadata": {},
   "source": [
    "### Explore data"
   ]
  },
  {
   "cell_type": "code",
   "execution_count": 5,
   "metadata": {},
   "outputs": [],
   "source": [
    "# 2. Read, transform and understand the data\n",
    "#      https://spark.apache.org/docs/latest/api/python/pyspark.sql.html#pyspark.sql.DataFrameReader.csv\n",
    "#    pyspark creates a spark-session variable: spark\n",
    "df = spark.read.csv(\n",
    "                   path = \"hdfs://localhost:9000/user/ashok/data_files/hour.csv\",   # path to hadoop\n",
    "                   header = True,\n",
    "                   inferSchema= True,           # Infer datatypes automatically\n",
    "                   sep = \",\" ,                  # Can be any character (check \\t)\n",
    "                   dateFormat = \"yyyy-mm-dd\"    # Automatic transformation to 'timestamp' format\n",
    "                   )\n"
   ]
  },
  {
   "cell_type": "code",
   "execution_count": 6,
   "metadata": {},
   "outputs": [
    {
     "data": {
      "text/plain": [
       "pyspark.sql.dataframe.DataFrame"
      ]
     },
     "execution_count": 6,
     "metadata": {},
     "output_type": "execute_result"
    }
   ],
   "source": [
    "# 2.1 What is the nature of df:\n",
    "type(df)                     # pyspark.sql.dataframe.DataFrame"
   ]
  },
  {
   "cell_type": "code",
   "execution_count": 5,
   "metadata": {},
   "outputs": [
    {
     "name": "stdout",
     "output_type": "stream",
     "text": [
      "+-------+-------------------+------+---+----+---+-------+-------+----------+----------+----+------+----+---------+------+----------+---+\n",
      "|instant|             dteday|season| yr|mnth| hr|holiday|weekday|workingday|weathersit|temp| atemp| hum|windspeed|casual|registered|cnt|\n",
      "+-------+-------------------+------+---+----+---+-------+-------+----------+----------+----+------+----+---------+------+----------+---+\n",
      "|      1|2011-01-01 00:00:00|     1|  0|   1|  0|      0|      6|         0|         1|0.24|0.2879|0.81|      0.0|     3|        13| 16|\n",
      "|      2|2011-01-01 00:00:00|     1|  0|   1|  1|      0|      6|         0|         1|0.22|0.2727| 0.8|      0.0|     8|        32| 40|\n",
      "|      3|2011-01-01 00:00:00|     1|  0|   1|  2|      0|      6|         0|         1|0.22|0.2727| 0.8|      0.0|     5|        27| 32|\n",
      "+-------+-------------------+------+---+----+---+-------+-------+----------+----------+----+------+----+---------+------+----------+---+\n",
      "only showing top 3 rows\n",
      "\n"
     ]
    }
   ],
   "source": [
    "# 2.2 Show data. Note that 'dteday' is timestamp type\n",
    "df.show(3)"
   ]
  },
  {
   "cell_type": "code",
   "execution_count": 7,
   "metadata": {},
   "outputs": [
    {
     "data": {
      "text/plain": [
       "DataFrame[instant: int, dteday: timestamp, season: int, yr: int, mnth: int, hr: int, holiday: int, weekday: int, workingday: int, weathersit: int, temp: double, atemp: double, hum: double, windspeed: double, casual: int, registered: int, cnt: int]"
      ]
     },
     "execution_count": 7,
     "metadata": {},
     "output_type": "execute_result"
    },
    {
     "data": {
      "text/plain": [
       "True"
      ]
     },
     "execution_count": 7,
     "metadata": {},
     "output_type": "execute_result"
    }
   ],
   "source": [
    "# 2.3 We also cache the data so that we only read it from disk once.\n",
    "df.cache()\n",
    "df.is_cached            # Checks if df is cached"
   ]
  },
  {
   "cell_type": "code",
   "execution_count": 7,
   "metadata": {},
   "outputs": [
    {
     "data": {
      "text/plain": [
       "17379"
      ]
     },
     "execution_count": 7,
     "metadata": {},
     "output_type": "execute_result"
    },
    {
     "data": {
      "text/plain": [
       "17"
      ]
     },
     "execution_count": 7,
     "metadata": {},
     "output_type": "execute_result"
    },
    {
     "data": {
      "text/plain": [
       "(17379, 17)"
      ]
     },
     "execution_count": 7,
     "metadata": {},
     "output_type": "execute_result"
    }
   ],
   "source": [
    "# 2.4 There is NO 'df.shape'  command.\n",
    "#         Instead, do as follows:\n",
    "\n",
    "#     a) How many rows?\n",
    "\n",
    "df.count()                # 17379\n",
    "\n",
    "#     b) How many columns?\n",
    "\n",
    "len(df.columns)\n",
    "\n",
    "#\tc) Both together:\n",
    "\n",
    "df.count(), len(df.columns)\n"
   ]
  },
  {
   "cell_type": "code",
   "execution_count": 8,
   "metadata": {},
   "outputs": [
    {
     "data": {
      "text/plain": [
       "['instant',\n",
       " 'dteday',\n",
       " 'season',\n",
       " 'yr',\n",
       " 'mnth',\n",
       " 'hr',\n",
       " 'holiday',\n",
       " 'weekday',\n",
       " 'workingday',\n",
       " 'weathersit',\n",
       " 'temp',\n",
       " 'atemp',\n",
       " 'hum',\n",
       " 'windspeed',\n",
       " 'casual',\n",
       " 'registered',\n",
       " 'cnt']"
      ]
     },
     "execution_count": 8,
     "metadata": {},
     "output_type": "execute_result"
    }
   ],
   "source": [
    "# 3. The dataset has three target/label columns.\n",
    "#      All three are related. So we can consider only\n",
    "#      one of them:\n",
    "#\tLabel columns are:\n",
    "#\t\t    casual: count of casual users\n",
    "#\t\t    registered: count of registered users\n",
    "#\t\t    cnt: count of total rental bikes including both casual and registered\n",
    "#                (in fact cnt has some very direct relationship with casual and registered)\n",
    "#    We will concern ourselves with only 'cnt'. Also drop 'dteday' columns (ie date columns)\n",
    "# 3.1\n",
    "cols = df.columns\n",
    "cols         # It is a list of 17 elements"
   ]
  },
  {
   "cell_type": "code",
   "execution_count": 9,
   "metadata": {},
   "outputs": [
    {
     "name": "stdout",
     "output_type": "stream",
     "text": [
      "+-------+-------------------+------+---+----+---+-------+-------+----------+----------+\n",
      "|instant|             dteday|season| yr|mnth| hr|holiday|weekday|workingday|weathersit|\n",
      "+-------+-------------------+------+---+----+---+-------+-------+----------+----------+\n",
      "|      1|2011-01-01 00:00:00|     1|  0|   1|  0|      0|      6|         0|         1|\n",
      "|      2|2011-01-01 00:00:00|     1|  0|   1|  1|      0|      6|         0|         1|\n",
      "|      3|2011-01-01 00:00:00|     1|  0|   1|  2|      0|      6|         0|         1|\n",
      "+-------+-------------------+------+---+----+---+-------+-------+----------+----------+\n",
      "only showing top 3 rows\n",
      "\n",
      "+----+------+----+---------+------+----------+---+\n",
      "|temp| atemp| hum|windspeed|casual|registered|cnt|\n",
      "+----+------+----+---------+------+----------+---+\n",
      "|0.24|0.2879|0.81|      0.0|     3|        13| 16|\n",
      "|0.22|0.2727| 0.8|      0.0|     8|        32| 40|\n",
      "|0.22|0.2727| 0.8|      0.0|     5|        27| 32|\n",
      "+----+------+----+---------+------+----------+---+\n",
      "only showing top 3 rows\n",
      "\n"
     ]
    }
   ],
   "source": [
    "# 3.2 Show database in parts:\n",
    "df.select(cols[:10]).show(3)\n",
    "df.select(cols[10:]).show(3)"
   ]
  },
  {
   "cell_type": "code",
   "execution_count": 10,
   "metadata": {},
   "outputs": [
    {
     "name": "stdout",
     "output_type": "stream",
     "text": [
      "+-------+-------------------+------+----------+\n",
      "|instant|             dteday|casual|registered|\n",
      "+-------+-------------------+------+----------+\n",
      "|      1|2011-01-01 00:00:00|     3|        13|\n",
      "|      2|2011-01-01 00:00:00|     8|        32|\n",
      "|      3|2011-01-01 00:00:00|     5|        27|\n",
      "+-------+-------------------+------+----------+\n",
      "only showing top 3 rows\n",
      "\n"
     ]
    }
   ],
   "source": [
    "# 3.3  Note that earlier df is being 'overwritten'\n",
    "#         instant: Merely serial number\n",
    "#        dteday: Date in the form: 2011-01-03\n",
    "#                In a sep col, 2011, is coded as 0 and 2012 as 1\n",
    "#\t\t\t     All other date related inf is available in other cols.\n",
    "#\t\t\t     So drop this column\n",
    "\n",
    "# 3.3.1 Which columns to dorp?\n",
    "\n",
    "columns_to_drop = ['instant', 'dteday','casual','registered']\n",
    "df.select(columns_to_drop).show(3)\n"
   ]
  },
  {
   "cell_type": "code",
   "execution_count": 11,
   "metadata": {},
   "outputs": [],
   "source": [
    "# 3.3.2 Multiple columns must be specified in string form, as:\n",
    "#            df.drop(\"col1\", \"col2\",\"col3\")  AND not as a list.\n",
    "#           Use unpack operator (*), to unpack the list.\n",
    "#           Unpack operator is generally used as arguments to a\n",
    "#           function, as foo(*args).\n",
    "\n",
    "df= df.drop(*columns_to_drop)"
   ]
  },
  {
   "cell_type": "code",
   "execution_count": 12,
   "metadata": {},
   "outputs": [],
   "source": [
    "# OR, drop individually:\n",
    "df = df.drop(\"instant\").drop(\"dteday\").drop(\"casual\").drop(\"registered\")"
   ]
  },
  {
   "cell_type": "code",
   "execution_count": 13,
   "metadata": {},
   "outputs": [
    {
     "name": "stdout",
     "output_type": "stream",
     "text": [
      "root\n",
      " |-- season: integer (nullable = true)\n",
      " |-- yr: integer (nullable = true)\n",
      " |-- mnth: integer (nullable = true)\n",
      " |-- hr: integer (nullable = true)\n",
      " |-- holiday: integer (nullable = true)\n",
      " |-- weekday: integer (nullable = true)\n",
      " |-- workingday: integer (nullable = true)\n",
      " |-- weathersit: integer (nullable = true)\n",
      " |-- temp: double (nullable = true)\n",
      " |-- atemp: double (nullable = true)\n",
      " |-- hum: double (nullable = true)\n",
      " |-- windspeed: double (nullable = true)\n",
      " |-- cnt: integer (nullable = true)\n",
      "\n"
     ]
    },
    {
     "data": {
      "text/plain": [
       "[('season', 'int'),\n",
       " ('yr', 'int'),\n",
       " ('mnth', 'int'),\n",
       " ('hr', 'int'),\n",
       " ('holiday', 'int'),\n",
       " ('weekday', 'int'),\n",
       " ('workingday', 'int'),\n",
       " ('weathersit', 'int'),\n",
       " ('temp', 'double'),\n",
       " ('atemp', 'double'),\n",
       " ('hum', 'double'),\n",
       " ('windspeed', 'double'),\n",
       " ('cnt', 'int')]"
      ]
     },
     "execution_count": 13,
     "metadata": {},
     "output_type": "execute_result"
    }
   ],
   "source": [
    "# 3.3 Show database structure.\n",
    "#         Note that some columns are of type 'int'\n",
    "#         and other of type 'float'\n",
    "\n",
    "df.printSchema()\n",
    "df.dtypes"
   ]
  },
  {
   "cell_type": "code",
   "execution_count": 14,
   "metadata": {},
   "outputs": [],
   "source": [
    "# 4.  Cast all int columns using Spark SQL to a numeric type (DoubleType).\n",
    "#      Ref:  http://spark.apache.org/docs/2.1.0/api/python/pyspark.sql.html#module-pyspark.sql.functions\n",
    "\n",
    "# 4.1 Call necessary libraries\n",
    "# 4.1.1 col() returns a Column (values) based on a given\n",
    "#             column name. col() is used within select statement\n",
    "#             or within withColumn()  \n",
    "\n",
    "from pyspark.sql.functions import col"
   ]
  },
  {
   "cell_type": "code",
   "execution_count": 15,
   "metadata": {},
   "outputs": [
    {
     "name": "stdout",
     "output_type": "stream",
     "text": [
      "+---+\n",
      "|cnt|\n",
      "+---+\n",
      "| 16|\n",
      "| 40|\n",
      "| 32|\n",
      "+---+\n",
      "only showing top 3 rows\n",
      "\n",
      "+---+\n",
      "|cnt|\n",
      "+---+\n",
      "| 16|\n",
      "| 40|\n",
      "| 32|\n",
      "+---+\n",
      "only showing top 3 rows\n",
      "\n",
      "+---+\n",
      "|cnt|\n",
      "+---+\n",
      "| 16|\n",
      "| 40|\n",
      "| 32|\n",
      "+---+\n",
      "only showing top 3 rows\n",
      "\n"
     ]
    }
   ],
   "source": [
    "# Just try. All three work.\n",
    "df.select(col(\"cnt\")).show(3)\n",
    "df.select(df[\"cnt\"]).show(3)\n",
    "df.select(\"cnt\").show(3)"
   ]
  },
  {
   "cell_type": "code",
   "execution_count": 16,
   "metadata": {},
   "outputs": [],
   "source": [
    "# 4.1.2 Import class 'DoubleType' that represents double\n",
    "#       data type:\n",
    "\n",
    "from pyspark.sql.types import DoubleType"
   ]
  },
  {
   "cell_type": "code",
   "execution_count": 17,
   "metadata": {},
   "outputs": [],
   "source": [
    "# 4.2 Casting an individual column:\n",
    "#        withColumn()  returns a new DataFrame by adding a\n",
    "#        column or replacing the existing column that has the\n",
    "#        same name. So here, we replace:\n",
    "#    Syntax:\n",
    "#          withColumn(colName, col)[source]\n",
    "#             Returns a new DataFrame by adding a column or replacing \n",
    "#                 the existing column that has the same name.\n",
    "\n",
    "df = df.withColumn(\"cnt\", col(\"cnt\").cast(DoubleType()))"
   ]
  },
  {
   "cell_type": "code",
   "execution_count": 18,
   "metadata": {},
   "outputs": [
    {
     "ename": "TypeError",
     "evalue": "'Column' object is not callable",
     "output_type": "error",
     "traceback": [
      "\u001b[0;31m---------------------------------------------------------------------------\u001b[0m",
      "\u001b[0;31mTypeError\u001b[0m                                 Traceback (most recent call last)",
      "\u001b[0;32m<ipython-input-18-b163f60e519a>\u001b[0m in \u001b[0;36m<module>\u001b[0;34m\u001b[0m\n\u001b[1;32m      1\u001b[0m \u001b[0;31m# 4.3 This fails:\u001b[0m\u001b[0;34m\u001b[0m\u001b[0;34m\u001b[0m\u001b[0;34m\u001b[0m\u001b[0m\n\u001b[0;32m----> 2\u001b[0;31m \u001b[0mdf\u001b[0m\u001b[0;34m[\u001b[0m\u001b[0;34m\"cnt\"\u001b[0m\u001b[0;34m]\u001b[0m\u001b[0;34m.\u001b[0m\u001b[0mshow\u001b[0m\u001b[0;34m(\u001b[0m\u001b[0;34m)\u001b[0m\u001b[0;34m\u001b[0m\u001b[0;34m\u001b[0m\u001b[0m\n\u001b[0m",
      "\u001b[0;31mTypeError\u001b[0m: 'Column' object is not callable"
     ]
    }
   ],
   "source": [
    "# 4.3 This fails:\n",
    "df[\"cnt\"].show()"
   ]
  },
  {
   "cell_type": "code",
   "execution_count": 19,
   "metadata": {},
   "outputs": [
    {
     "data": {
      "text/plain": [
       "[('season', 'int'),\n",
       " ('yr', 'int'),\n",
       " ('mnth', 'int'),\n",
       " ('hr', 'int'),\n",
       " ('holiday', 'int'),\n",
       " ('weekday', 'int'),\n",
       " ('workingday', 'int'),\n",
       " ('weathersit', 'int'),\n",
       " ('temp', 'double'),\n",
       " ('atemp', 'double'),\n",
       " ('hum', 'double'),\n",
       " ('windspeed', 'double'),\n",
       " ('cnt', 'double')]"
      ]
     },
     "execution_count": 19,
     "metadata": {},
     "output_type": "execute_result"
    }
   ],
   "source": [
    "df.dtypes"
   ]
  },
  {
   "cell_type": "code",
   "execution_count": 20,
   "metadata": {},
   "outputs": [],
   "source": [
    "# But this succeeds. Cast to double:\n",
    "df = df.withColumn(\"cnt\", df[\"cnt\"].cast(DoubleType()))"
   ]
  },
  {
   "cell_type": "code",
   "execution_count": 21,
   "metadata": {},
   "outputs": [
    {
     "data": {
      "text/plain": [
       "[('season', 'int'),\n",
       " ('yr', 'int'),\n",
       " ('mnth', 'int'),\n",
       " ('hr', 'int'),\n",
       " ('holiday', 'int'),\n",
       " ('weekday', 'int'),\n",
       " ('workingday', 'int'),\n",
       " ('weathersit', 'int'),\n",
       " ('temp', 'double'),\n",
       " ('atemp', 'double'),\n",
       " ('hum', 'double'),\n",
       " ('windspeed', 'double'),\n",
       " ('cnt', 'double')]"
      ]
     },
     "execution_count": 21,
     "metadata": {},
     "output_type": "execute_result"
    },
    {
     "data": {
      "text/plain": [
       "['season',\n",
       " 'yr',\n",
       " 'mnth',\n",
       " 'hr',\n",
       " 'holiday',\n",
       " 'weekday',\n",
       " 'workingday',\n",
       " 'weathersit']"
      ]
     },
     "execution_count": 21,
     "metadata": {},
     "output_type": "execute_result"
    }
   ],
   "source": [
    "# 4.3 We will now cast the rest of  columns into doubletype\n",
    "#         in one go as:\n",
    "# 4.3.1\n",
    "df.dtypes\n",
    "int_cols =   [  i[0] for i in df.dtypes if i[1] == 'int' ] \n",
    "int_cols\n"
   ]
  },
  {
   "cell_type": "code",
   "execution_count": 22,
   "metadata": {},
   "outputs": [
    {
     "data": {
      "text/plain": [
       "[('season', 'double'),\n",
       " ('yr', 'double'),\n",
       " ('mnth', 'double'),\n",
       " ('hr', 'double'),\n",
       " ('holiday', 'double'),\n",
       " ('weekday', 'double'),\n",
       " ('workingday', 'double'),\n",
       " ('weathersit', 'double'),\n",
       " ('temp', 'double'),\n",
       " ('atemp', 'double'),\n",
       " ('hum', 'double'),\n",
       " ('windspeed', 'double'),\n",
       " ('cnt', 'double')]"
      ]
     },
     "execution_count": 22,
     "metadata": {},
     "output_type": "execute_result"
    }
   ],
   "source": [
    "# 4.3.2\n",
    "for l in int_cols:\n",
    "    df = df.withColumn(l, col(l).cast(DoubleType()))\n",
    "\n",
    "df.dtypes    "
   ]
  },
  {
   "cell_type": "code",
   "execution_count": 23,
   "metadata": {},
   "outputs": [],
   "source": [
    "# 5. Split the dataset randomly into 70% for\n",
    "#    training and 30% for testing.\n",
    "train, test = df.randomSplit([0.7, 0.3])"
   ]
  },
  {
   "cell_type": "code",
   "execution_count": 24,
   "metadata": {},
   "outputs": [
    {
     "data": {
      "text/plain": [
       "0.7056792680821682"
      ]
     },
     "execution_count": 24,
     "metadata": {},
     "output_type": "execute_result"
    },
    {
     "data": {
      "text/plain": [
       "0.29432073191783187"
      ]
     },
     "execution_count": 24,
     "metadata": {},
     "output_type": "execute_result"
    }
   ],
   "source": [
    "# 5.1\n",
    "train.count()/df.count()\n",
    "test.count()/df.count()"
   ]
  },
  {
   "cell_type": "code",
   "execution_count": 25,
   "metadata": {},
   "outputs": [
    {
     "name": "stdout",
     "output_type": "stream",
     "text": [
      "+------+---+----+---+-------+-------+----------+----------+----+-----+---+---------+---+\n",
      "|season| yr|mnth| hr|holiday|weekday|workingday|weathersit|temp|atemp|hum|windspeed|cnt|\n",
      "+------+---+----+---+-------+-------+----------+----------+----+-----+---+---------+---+\n",
      "|     0|  0|   0|  0|      0|      0|         0|         0|   0|    0|  0|        0|  0|\n",
      "+------+---+----+---+-------+-------+----------+----------+----+-----+---+---------+---+\n",
      "\n"
     ]
    }
   ],
   "source": [
    "# 5.2 Check missing values:\n",
    "#     https://stackoverflow.com/questions/44413132/count-the-number-of-missing-values-in-a-dataframe-spark\n",
    "from pyspark.sql.functions import col,sum\n",
    "df.select(*(sum(col(c).isNull().cast(\"int\")).alias(c) for c in df.columns)).show()"
   ]
  },
  {
   "cell_type": "code",
   "execution_count": null,
   "metadata": {},
   "outputs": [],
   "source": [
    "# 5.3 Scatter plot of numeric columns:\n",
    "\n",
    "# See para #11 below (at the end of code)"
   ]
  },
  {
   "cell_type": "code",
   "execution_count": null,
   "metadata": {},
   "outputs": [],
   "source": [
    "################### BB. Process data  #######################"
   ]
  },
  {
   "cell_type": "markdown",
   "metadata": {},
   "source": [
    "\n",
    "## VectorAssembler: \n",
    "This concatenates all feature columns, whatever type,  into a single feature vector<br>\n",
    "in a new column \"rawFeatures\".<br>\n",
    "\tRef: https://spark.apache.org/docs/latest/ml-features.html#vectorassembler <br>\n",
    "\tVectorAssembler <br>\n",
    "\tAlso see: <br>\n",
    "\thttps://stackoverflow.com/questions/38236389/understanding-output-of-vectorassembler-spark  <br>\n",
    "\t\n",
    "\tVectorAssembler is a transformer that combines a given\n",
    "\tlist of columns into a single vector column. It is useful\n",
    "\tfor combining raw features and features generated by\n",
    "\tdifferent feature transformers into a single feature vector,\n",
    "\tin order to train ML models like logistic regression and\n",
    "\tdecision trees. VectorAssembler accepts the following input\n",
    "\tcolumn types: all numeric types, boolean type, and vector type.\n",
    "\tIn each row, the values of the input columns will be\n",
    "\tconcatenated into a vector in the specified order.\n",
    "\t\n",
    "\tExamples\n",
    "\t\n",
    "\tAssume that we have a DataFrame with the columns\n",
    "\tid, hour, mobile, userFeatures, and clicked:\n",
    "\t\n",
    "\t id | hour    | mobile    | userFeatures            | clicked\n",
    "\t----|---------|-----------|-------------------------|---------\n",
    "\t 0  | 18      | 1.0       | [0.0, 10.0, 0.5]        | 1.0\n",
    "\t\n",
    "\t\n",
    "\t\n",
    "\tuserFeatures is a vector column that contains three user features.\n",
    "\tWe want to combine hour, mobile, and userFeatures into a\n",
    "\tsingle feature vector called features and use it to predict\n",
    "\tclicked or not. If we set VectorAssembler’s input columns to\n",
    "\t hour, mobile, and userFeatures and output column to features,\n",
    "\tafter transformation we should get the following DataFrame:\n",
    "\t\n",
    "\t id | hour    | mobile     | userFeatures        | clicked    | features\n",
    "\t----|---------|----------- |------------------- -|------------|--------------------------------------\n",
    "\t 0  | 18      | 1.0        | [0.0, 10.0, 0.5]    | 1.0        | [18.0, 1.0, 0.0, 10.0, 0.5]\n",
    "\t\n"
   ]
  },
  {
   "cell_type": "code",
   "execution_count": 26,
   "metadata": {},
   "outputs": [],
   "source": [
    "# 6.1 Import VectorAssembler\n",
    "from pyspark.ml.feature import VectorAssembler"
   ]
  },
  {
   "cell_type": "code",
   "execution_count": 27,
   "metadata": {},
   "outputs": [
    {
     "data": {
      "text/plain": [
       "['season',\n",
       " 'yr',\n",
       " 'mnth',\n",
       " 'hr',\n",
       " 'holiday',\n",
       " 'weekday',\n",
       " 'workingday',\n",
       " 'weathersit',\n",
       " 'temp',\n",
       " 'atemp',\n",
       " 'hum',\n",
       " 'windspeed',\n",
       " 'cnt']"
      ]
     },
     "execution_count": 27,
     "metadata": {},
     "output_type": "execute_result"
    },
    {
     "data": {
      "text/plain": [
       "['season',\n",
       " 'yr',\n",
       " 'mnth',\n",
       " 'hr',\n",
       " 'holiday',\n",
       " 'weekday',\n",
       " 'workingday',\n",
       " 'weathersit',\n",
       " 'temp',\n",
       " 'atemp',\n",
       " 'hum',\n",
       " 'windspeed']"
      ]
     },
     "execution_count": 27,
     "metadata": {},
     "output_type": "execute_result"
    }
   ],
   "source": [
    "# 6.2 Which columns to concatenate?\n",
    "featuresCols = df.columns\n",
    "featuresCols\n",
    "# 6.3 Get only predictors.\n",
    "#     .remove()' is a python list method\n",
    "featuresCols.remove('cnt')\n",
    "featuresCols"
   ]
  },
  {
   "cell_type": "code",
   "execution_count": 28,
   "metadata": {},
   "outputs": [],
   "source": [
    "# 6.4   Create an instance of VectorAssembler class.\n",
    "#          This object will be used to transfrom data farme,\n",
    "#           as: vectorassembler.fit(df)\n",
    "\n",
    "vectorassembler = VectorAssembler(\n",
    "                                  inputCols=featuresCols,\n",
    "                                  outputCol=\"rawFeatures\"\n",
    "                                 )"
   ]
  },
  {
   "cell_type": "code",
   "execution_count": 29,
   "metadata": {},
   "outputs": [
    {
     "data": {
      "text/plain": [
       "VectorAssembler_19923e64a036"
      ]
     },
     "execution_count": 29,
     "metadata": {},
     "output_type": "execute_result"
    }
   ],
   "source": [
    "vectorassembler"
   ]
  },
  {
   "cell_type": "code",
   "execution_count": 30,
   "metadata": {},
   "outputs": [
    {
     "name": "stdout",
     "output_type": "stream",
     "text": [
      "+------+---+----+---+-------+-------+----------+----------+----+------+----+---------+----+--------------------+\n",
      "|season| yr|mnth| hr|holiday|weekday|workingday|weathersit|temp| atemp| hum|windspeed| cnt|         rawFeatures|\n",
      "+------+---+----+---+-------+-------+----------+----------+----+------+----+---------+----+--------------------+\n",
      "|   1.0|0.0| 1.0|0.0|    0.0|    0.0|       0.0|       1.0|0.04|0.0758|0.57|   0.1045|22.0|[1.0,0.0,1.0,0.0,...|\n",
      "|   1.0|0.0| 1.0|0.0|    0.0|    0.0|       0.0|       1.0| 0.1|0.0758|0.42|   0.3881|25.0|[1.0,0.0,1.0,0.0,...|\n",
      "|   1.0|0.0| 1.0|0.0|    0.0|    0.0|       0.0|       1.0|0.16|0.1818| 0.8|   0.1045|33.0|[1.0,0.0,1.0,0.0,...|\n",
      "+------+---+----+---+-------+-------+----------+----------+----+------+----+---------+----+--------------------+\n",
      "only showing top 3 rows\n",
      "\n",
      "+---------------------------------------------------------+\n",
      "|rawFeatures                                              |\n",
      "+---------------------------------------------------------+\n",
      "|[1.0,0.0,1.0,0.0,0.0,0.0,0.0,1.0,0.04,0.0758,0.57,0.1045]|\n",
      "|[1.0,0.0,1.0,0.0,0.0,0.0,0.0,1.0,0.1,0.0758,0.42,0.3881] |\n",
      "|[1.0,0.0,1.0,0.0,0.0,0.0,0.0,1.0,0.16,0.1818,0.8,0.1045] |\n",
      "+---------------------------------------------------------+\n",
      "only showing top 3 rows\n",
      "\n"
     ]
    }
   ],
   "source": [
    "# 6.5 Transform and  have a look at the output.\n",
    "#     Note that we will not be using the resulting\n",
    "#     'output' anywhere as we will be using pipeline.\n",
    "#     This code is merely for demo\n",
    "output = vectorassembler.transform(train)\n",
    "output.show(3)\n",
    "# 6.5.1 Just see the 'rawFeatures' column\n",
    "output.select('rawFeatures').show(3,truncate=False)\n"
   ]
  },
  {
   "cell_type": "markdown",
   "metadata": {},
   "source": [
    "# VectorIndexer\n",
    "\n",
    "Ref: https://spark.apache.org/docs/latest/ml-features.html#vectorindexer <br>\n",
    "\n",
    "VectorIndexer helps index categorical features in datasets of Vectors.<br>\n",
    "It can both automatically decide which features are categorical and <br>\n",
    "convert original values to category indices. Specifically, it does the following: <br>\n",
    "\n",
    "    Take an input column of type Vector and a parameter maxCategories.\n",
    "    Decide which features should be categorical based on the number\n",
    "    of distinct values, where features with at most maxCategories\n",
    "    are declared categorical.\n",
    "\n",
    "    Compute 0-based category indices for each categorical feature.\n",
    "    Index categorical features and transform original feature values\n",
    "    to indices. E.g.: Feature 0 has unique values {-1.0, 0.0}, and\n",
    "    feature 1 values {1.0, 3.0, 5.0}. If maxCategories = 2, then\n",
    "    feature 0 will be declared categorical and use indices {0, 1},\n",
    "    and feature 1 will be declared continuous.\n",
    "\n",
    "    Features with at most 'maxCategories' are declared categorical.\n",
    "\n",
    "Indexing categorical features allows algorithms such as Decision Trees <br>\n",
    "and Tree Ensembles to treat categorical features appropriately, improving <br>\n",
    "performance. \n",
    "\n",
    "In the case of our data, following columns should be categorical:\n",
    "\n",
    "- holiday : weather day is holiday or not (extracted from [Web Link])\n",
    "- weekday : day of the week\n",
    "- workingday : if day is neither weekend nor holiday is 1, otherwise is 0.\n",
    "- weathersit : 1 (clear), 2 (mist), 3(light snow), 4 (heavy rain)\n",
    "- season : season (1:springer, 2:summer, 3:fall, 4:winter)"
   ]
  },
  {
   "cell_type": "markdown",
   "metadata": {},
   "source": [
    "### StringIndexer vs VectorIndexer\n",
    "Ref:  https://stackoverflow.com/questions/44195535/what-is-stringindexer-vectorindexer-and-how-to-use-them <br>\n",
    "\n",
    "\tString Indexer - Use it if you want the ML algorithm\n",
    "\t to identify column as categorical variable or if want\n",
    "\tto convert the textual data to numeric data keeping\n",
    "\tthe categorical context. For example, converting\n",
    "\t days(Monday, Tuesday...) to numeric representation.\n",
    "     Same as sklearn's LabelEncoder()\n",
    "\n",
    "\tVector Indexer- use this if we do not know the types of\n",
    "\tdata incoming. so we leave the logic of differentiating\n",
    "\tbetween categorical and non categorical data to the\n",
    "\talgorithm using Vector Indexer.\n",
    "\te,g - Data coming from 3rd Party API, where data is hidden\n",
    "\tand is ingested directly to the training model."
   ]
  },
  {
   "cell_type": "markdown",
   "metadata": {},
   "source": [
    "### OneHotEncoder vs VectorIndexer\n",
    "Ref: https://stackoverflow.com/questions/54222750/addressing-categorical-features-with-one-hot-encoding-and-vector-assembler-vs-ve <br>\n",
    "The two are totally different. VectorIndexer will reindex the indicies of a categorical column. It will start from 0 rather than any other number. And at the same time a metadata will be added that the column is categorical. In tree-based algorithms such transformation and metadata are helpful (for example, column will not be bifurcated at 1.5). <br>\n",
    "OneHotEncoding will be useful in all cases of machine learning whether tree-based or not. Thus VectorIndexing is not a replacement for OneHotEncoding."
   ]
  },
  {
   "cell_type": "code",
   "execution_count": 34,
   "metadata": {},
   "outputs": [],
   "source": [
    "# 7.1\n",
    "#     Identify categorical features and indexes them.\n",
    "#     Note that columns need not be 'int' type.\n",
    "\n",
    "from pyspark.ml.feature import VectorIndexer\n",
    "\n",
    "# 7.2  Instantiate the object first\n",
    "vectorindexer = VectorIndexer(inputCol=\"rawFeatures\",\n",
    "                              outputCol=\"features\",\n",
    "                              maxCategories=7\n",
    "                              )"
   ]
  },
  {
   "cell_type": "code",
   "execution_count": 35,
   "metadata": {},
   "outputs": [
    {
     "name": "stdout",
     "output_type": "stream",
     "text": [
      "+---------------------------------------------------------+---------------------------------------------------------+\n",
      "|rawFeatures                                              |features                                                 |\n",
      "+---------------------------------------------------------+---------------------------------------------------------+\n",
      "|[1.0,0.0,1.0,0.0,0.0,0.0,0.0,1.0,0.04,0.0758,0.57,0.1045]|[0.0,0.0,1.0,0.0,0.0,0.0,0.0,0.0,0.04,0.0758,0.57,0.1045]|\n",
      "|[1.0,0.0,1.0,0.0,0.0,0.0,0.0,1.0,0.1,0.0758,0.42,0.3881] |[0.0,0.0,1.0,0.0,0.0,0.0,0.0,0.0,0.1,0.0758,0.42,0.3881] |\n",
      "|[1.0,0.0,1.0,0.0,0.0,0.0,0.0,1.0,0.16,0.1818,0.8,0.1045] |[0.0,0.0,1.0,0.0,0.0,0.0,0.0,0.0,0.16,0.1818,0.8,0.1045] |\n",
      "+---------------------------------------------------------+---------------------------------------------------------+\n",
      "only showing top 3 rows\n",
      "\n"
     ]
    },
    {
     "data": {
      "text/plain": [
       "{0: {1.0: 0, 2.0: 1, 3.0: 2, 4.0: 3}, 5: {0.0: 0, 5.0: 5, 1.0: 1, 6.0: 6, 2.0: 2, 3.0: 3, 4.0: 4}, 1: {0.0: 0, 1.0: 1}, 6: {0.0: 0, 1.0: 1}, 7: {1.0: 0, 2.0: 1, 3.0: 2, 4.0: 3}, 4: {0.0: 0, 1.0: 1}}"
      ]
     },
     "execution_count": 35,
     "metadata": {},
     "output_type": "execute_result"
    }
   ],
   "source": [
    "# 7.3 Before using pipelines, let us see what would\n",
    "#     be the output of transformation.\n",
    "\n",
    "model = vectorindexer.fit(output)          # 'output' is from VentorAssembler\n",
    "data = model.transform(output)\n",
    "\n",
    "# 7.4 Look at the result\n",
    "data.select('rawFeatures', 'features').show(3, truncate= False)\n",
    "\n",
    "# 7.5 And how categorical mappings have been conducted?\n",
    "model.categoryMaps"
   ]
  },
  {
   "cell_type": "markdown",
   "metadata": {},
   "source": [
    "################### CC. Perform Modeling  #####################"
   ]
  },
  {
   "cell_type": "code",
   "execution_count": 36,
   "metadata": {},
   "outputs": [],
   "source": [
    "# 8. Call gradient boosting regression and other libraries\n",
    "#    Spark ML API: https://spark.apache.org/docs/2.2.0/api/python/pyspark.ml.html#pyspark-ml-package\n",
    "\n",
    "from pyspark.ml import Pipeline\n",
    "from pyspark.ml.regression import GBTRegressor\n",
    "from pyspark.ml.tuning import CrossValidator, ParamGridBuilder\n",
    "from pyspark.ml.evaluation import RegressionEvaluator\n",
    "import time"
   ]
  },
  {
   "cell_type": "code",
   "execution_count": 37,
   "metadata": {},
   "outputs": [
    {
     "name": "stdout",
     "output_type": "stream",
     "text": [
      "Help on class GBTRegressor in module pyspark.ml.regression:\n",
      "\n",
      "class GBTRegressor(pyspark.ml.wrapper.JavaEstimator, pyspark.ml.param.shared.HasFeaturesCol, pyspark.ml.param.shared.HasLabelCol, pyspark.ml.param.shared.HasPredictionCol, pyspark.ml.param.shared.HasMaxIter, GBTParams, pyspark.ml.param.shared.HasCheckpointInterval, pyspark.ml.param.shared.HasStepSize, pyspark.ml.param.shared.HasSeed, pyspark.ml.util.JavaMLWritable, pyspark.ml.util.JavaMLReadable, TreeRegressorParams)\n",
      " |  GBTRegressor(featuresCol='features', labelCol='label', predictionCol='prediction', maxDepth=5, maxBins=32, minInstancesPerNode=1, minInfoGain=0.0, maxMemoryInMB=256, cacheNodeIds=False, subsamplingRate=1.0, checkpointInterval=10, lossType='squared', maxIter=20, stepSize=0.1, seed=None, impurity='variance', featureSubsetStrategy='all')\n",
      " |  \n",
      " |  `Gradient-Boosted Trees (GBTs) <http://en.wikipedia.org/wiki/Gradient_boosting>`_\n",
      " |  learning algorithm for regression.\n",
      " |  It supports both continuous and categorical features.\n",
      " |  \n",
      " |  >>> from numpy import allclose\n",
      " |  >>> from pyspark.ml.linalg import Vectors\n",
      " |  >>> df = spark.createDataFrame([\n",
      " |  ...     (1.0, Vectors.dense(1.0)),\n",
      " |  ...     (0.0, Vectors.sparse(1, [], []))], [\"label\", \"features\"])\n",
      " |  >>> gbt = GBTRegressor(maxIter=5, maxDepth=2, seed=42)\n",
      " |  >>> print(gbt.getImpurity())\n",
      " |  variance\n",
      " |  >>> print(gbt.getFeatureSubsetStrategy())\n",
      " |  all\n",
      " |  >>> model = gbt.fit(df)\n",
      " |  >>> model.featureImportances\n",
      " |  SparseVector(1, {0: 1.0})\n",
      " |  >>> model.numFeatures\n",
      " |  1\n",
      " |  >>> allclose(model.treeWeights, [1.0, 0.1, 0.1, 0.1, 0.1])\n",
      " |  True\n",
      " |  >>> test0 = spark.createDataFrame([(Vectors.dense(-1.0),)], [\"features\"])\n",
      " |  >>> model.transform(test0).head().prediction\n",
      " |  0.0\n",
      " |  >>> test1 = spark.createDataFrame([(Vectors.sparse(1, [0], [1.0]),)], [\"features\"])\n",
      " |  >>> model.transform(test1).head().prediction\n",
      " |  1.0\n",
      " |  >>> gbtr_path = temp_path + \"gbtr\"\n",
      " |  >>> gbt.save(gbtr_path)\n",
      " |  >>> gbt2 = GBTRegressor.load(gbtr_path)\n",
      " |  >>> gbt2.getMaxDepth()\n",
      " |  2\n",
      " |  >>> model_path = temp_path + \"gbtr_model\"\n",
      " |  >>> model.save(model_path)\n",
      " |  >>> model2 = GBTRegressionModel.load(model_path)\n",
      " |  >>> model.featureImportances == model2.featureImportances\n",
      " |  True\n",
      " |  >>> model.treeWeights == model2.treeWeights\n",
      " |  True\n",
      " |  >>> model.trees\n",
      " |  [DecisionTreeRegressionModel (uid=...) of depth..., DecisionTreeRegressionModel...]\n",
      " |  >>> validation = spark.createDataFrame([(0.0, Vectors.dense(-1.0))],\n",
      " |  ...              [\"label\", \"features\"])\n",
      " |  >>> model.evaluateEachIteration(validation, \"squared\")\n",
      " |  [0.0, 0.0, 0.0, 0.0, 0.0]\n",
      " |  \n",
      " |  .. versionadded:: 1.4.0\n",
      " |  \n",
      " |  Method resolution order:\n",
      " |      GBTRegressor\n",
      " |      pyspark.ml.wrapper.JavaEstimator\n",
      " |      pyspark.ml.wrapper.JavaParams\n",
      " |      pyspark.ml.wrapper.JavaWrapper\n",
      " |      pyspark.ml.base.Estimator\n",
      " |      pyspark.ml.param.shared.HasFeaturesCol\n",
      " |      pyspark.ml.param.shared.HasLabelCol\n",
      " |      pyspark.ml.param.shared.HasPredictionCol\n",
      " |      pyspark.ml.param.shared.HasMaxIter\n",
      " |      GBTParams\n",
      " |      TreeEnsembleParams\n",
      " |      pyspark.ml.param.shared.DecisionTreeParams\n",
      " |      pyspark.ml.param.shared.HasCheckpointInterval\n",
      " |      pyspark.ml.param.shared.HasStepSize\n",
      " |      pyspark.ml.param.shared.HasSeed\n",
      " |      pyspark.ml.util.JavaMLWritable\n",
      " |      pyspark.ml.util.MLWritable\n",
      " |      pyspark.ml.util.JavaMLReadable\n",
      " |      pyspark.ml.util.MLReadable\n",
      " |      TreeRegressorParams\n",
      " |      pyspark.ml.param.Params\n",
      " |      pyspark.ml.util.Identifiable\n",
      " |      builtins.object\n",
      " |  \n",
      " |  Methods defined here:\n",
      " |  \n",
      " |  __init__(self, featuresCol='features', labelCol='label', predictionCol='prediction', maxDepth=5, maxBins=32, minInstancesPerNode=1, minInfoGain=0.0, maxMemoryInMB=256, cacheNodeIds=False, subsamplingRate=1.0, checkpointInterval=10, lossType='squared', maxIter=20, stepSize=0.1, seed=None, impurity='variance', featureSubsetStrategy='all')\n",
      " |      __init__(self, featuresCol=\"features\", labelCol=\"label\", predictionCol=\"prediction\",                  maxDepth=5, maxBins=32, minInstancesPerNode=1, minInfoGain=0.0,                  maxMemoryInMB=256, cacheNodeIds=False, subsamplingRate=1.0,                  checkpointInterval=10, lossType=\"squared\", maxIter=20, stepSize=0.1, seed=None,                  impurity=\"variance\", featureSubsetStrategy=\"all\")\n",
      " |  \n",
      " |  getLossType(self)\n",
      " |      Gets the value of lossType or its default value.\n",
      " |      \n",
      " |      .. versionadded:: 1.4.0\n",
      " |  \n",
      " |  setFeatureSubsetStrategy(self, value)\n",
      " |      Sets the value of :py:attr:`featureSubsetStrategy`.\n",
      " |      \n",
      " |      .. versionadded:: 2.4.0\n",
      " |  \n",
      " |  setLossType(self, value)\n",
      " |      Sets the value of :py:attr:`lossType`.\n",
      " |      \n",
      " |      .. versionadded:: 1.4.0\n",
      " |  \n",
      " |  setParams(self, featuresCol='features', labelCol='label', predictionCol='prediction', maxDepth=5, maxBins=32, minInstancesPerNode=1, minInfoGain=0.0, maxMemoryInMB=256, cacheNodeIds=False, subsamplingRate=1.0, checkpointInterval=10, lossType='squared', maxIter=20, stepSize=0.1, seed=None, impuriy='variance', featureSubsetStrategy='all')\n",
      " |      setParams(self, featuresCol=\"features\", labelCol=\"label\", predictionCol=\"prediction\",                   maxDepth=5, maxBins=32, minInstancesPerNode=1, minInfoGain=0.0,                   maxMemoryInMB=256, cacheNodeIds=False, subsamplingRate=1.0,                   checkpointInterval=10, lossType=\"squared\", maxIter=20, stepSize=0.1, seed=None,                   impurity=\"variance\", featureSubsetStrategy=\"all\")\n",
      " |      Sets params for Gradient Boosted Tree Regression.\n",
      " |      \n",
      " |      .. versionadded:: 1.4.0\n",
      " |  \n",
      " |  ----------------------------------------------------------------------\n",
      " |  Data and other attributes defined here:\n",
      " |  \n",
      " |  lossType = Param(parent='undefined', name='lossType', doc='...ensitive...\n",
      " |  \n",
      " |  stepSize = Param(parent='undefined', name='stepSize', doc='...r shrink...\n",
      " |  \n",
      " |  ----------------------------------------------------------------------\n",
      " |  Data and other attributes inherited from pyspark.ml.wrapper.JavaEstimator:\n",
      " |  \n",
      " |  __metaclass__ = <class 'abc.ABCMeta'>\n",
      " |      Metaclass for defining Abstract Base Classes (ABCs).\n",
      " |      \n",
      " |      Use this metaclass to create an ABC.  An ABC can be subclassed\n",
      " |      directly, and then acts as a mix-in class.  You can also register\n",
      " |      unrelated concrete classes (even built-in classes) and unrelated\n",
      " |      ABCs as 'virtual subclasses' -- these and their descendants will\n",
      " |      be considered subclasses of the registering ABC by the built-in\n",
      " |      issubclass() function, but the registering ABC won't show up in\n",
      " |      their MRO (Method Resolution Order) nor will method\n",
      " |      implementations defined by the registering ABC be callable (not\n",
      " |      even via super()).\n",
      " |  \n",
      " |  ----------------------------------------------------------------------\n",
      " |  Methods inherited from pyspark.ml.wrapper.JavaParams:\n",
      " |  \n",
      " |  copy(self, extra=None)\n",
      " |      Creates a copy of this instance with the same uid and some\n",
      " |      extra params. This implementation first calls Params.copy and\n",
      " |      then make a copy of the companion Java pipeline component with\n",
      " |      extra params. So both the Python wrapper and the Java pipeline\n",
      " |      component get copied.\n",
      " |      \n",
      " |      :param extra: Extra parameters to copy to the new instance\n",
      " |      :return: Copy of this instance\n",
      " |  \n",
      " |  ----------------------------------------------------------------------\n",
      " |  Methods inherited from pyspark.ml.wrapper.JavaWrapper:\n",
      " |  \n",
      " |  __del__(self)\n",
      " |  \n",
      " |  ----------------------------------------------------------------------\n",
      " |  Data descriptors inherited from pyspark.ml.wrapper.JavaWrapper:\n",
      " |  \n",
      " |  __dict__\n",
      " |      dictionary for instance variables (if defined)\n",
      " |  \n",
      " |  __weakref__\n",
      " |      list of weak references to the object (if defined)\n",
      " |  \n",
      " |  ----------------------------------------------------------------------\n",
      " |  Methods inherited from pyspark.ml.base.Estimator:\n",
      " |  \n",
      " |  fit(self, dataset, params=None)\n",
      " |      Fits a model to the input dataset with optional parameters.\n",
      " |      \n",
      " |      :param dataset: input dataset, which is an instance of :py:class:`pyspark.sql.DataFrame`\n",
      " |      :param params: an optional param map that overrides embedded params. If a list/tuple of\n",
      " |                     param maps is given, this calls fit on each param map and returns a list of\n",
      " |                     models.\n",
      " |      :returns: fitted model(s)\n",
      " |      \n",
      " |      .. versionadded:: 1.3.0\n",
      " |  \n",
      " |  fitMultiple(self, dataset, paramMaps)\n",
      " |      Fits a model to the input dataset for each param map in `paramMaps`.\n",
      " |      \n",
      " |      :param dataset: input dataset, which is an instance of :py:class:`pyspark.sql.DataFrame`.\n",
      " |      :param paramMaps: A Sequence of param maps.\n",
      " |      :return: A thread safe iterable which contains one model for each param map. Each\n",
      " |               call to `next(modelIterator)` will return `(index, model)` where model was fit\n",
      " |               using `paramMaps[index]`. `index` values may not be sequential.\n",
      " |      \n",
      " |      .. note:: DeveloperApi\n",
      " |      .. note:: Experimental\n",
      " |      \n",
      " |      .. versionadded:: 2.3.0\n",
      " |  \n",
      " |  ----------------------------------------------------------------------\n",
      " |  Methods inherited from pyspark.ml.param.shared.HasFeaturesCol:\n",
      " |  \n",
      " |  getFeaturesCol(self)\n",
      " |      Gets the value of featuresCol or its default value.\n",
      " |  \n",
      " |  setFeaturesCol(self, value)\n",
      " |      Sets the value of :py:attr:`featuresCol`.\n",
      " |  \n",
      " |  ----------------------------------------------------------------------\n",
      " |  Data and other attributes inherited from pyspark.ml.param.shared.HasFeaturesCol:\n",
      " |  \n",
      " |  featuresCol = Param(parent='undefined', name='featuresCol', doc='featu...\n",
      " |  \n",
      " |  ----------------------------------------------------------------------\n",
      " |  Methods inherited from pyspark.ml.param.shared.HasLabelCol:\n",
      " |  \n",
      " |  getLabelCol(self)\n",
      " |      Gets the value of labelCol or its default value.\n",
      " |  \n",
      " |  setLabelCol(self, value)\n",
      " |      Sets the value of :py:attr:`labelCol`.\n",
      " |  \n",
      " |  ----------------------------------------------------------------------\n",
      " |  Data and other attributes inherited from pyspark.ml.param.shared.HasLabelCol:\n",
      " |  \n",
      " |  labelCol = Param(parent='undefined', name='labelCol', doc='label colum...\n",
      " |  \n",
      " |  ----------------------------------------------------------------------\n",
      " |  Methods inherited from pyspark.ml.param.shared.HasPredictionCol:\n",
      " |  \n",
      " |  getPredictionCol(self)\n",
      " |      Gets the value of predictionCol or its default value.\n",
      " |  \n",
      " |  setPredictionCol(self, value)\n",
      " |      Sets the value of :py:attr:`predictionCol`.\n",
      " |  \n",
      " |  ----------------------------------------------------------------------\n",
      " |  Data and other attributes inherited from pyspark.ml.param.shared.HasPredictionCol:\n",
      " |  \n",
      " |  predictionCol = Param(parent='undefined', name='predictionCol', doc='p...\n",
      " |  \n",
      " |  ----------------------------------------------------------------------\n",
      " |  Methods inherited from pyspark.ml.param.shared.HasMaxIter:\n",
      " |  \n",
      " |  getMaxIter(self)\n",
      " |      Gets the value of maxIter or its default value.\n",
      " |  \n",
      " |  setMaxIter(self, value)\n",
      " |      Sets the value of :py:attr:`maxIter`.\n",
      " |  \n",
      " |  ----------------------------------------------------------------------\n",
      " |  Data and other attributes inherited from pyspark.ml.param.shared.HasMaxIter:\n",
      " |  \n",
      " |  maxIter = Param(parent='undefined', name='maxIter', doc='max number of...\n",
      " |  \n",
      " |  ----------------------------------------------------------------------\n",
      " |  Data and other attributes inherited from GBTParams:\n",
      " |  \n",
      " |  supportedLossTypes = ['squared', 'absolute']\n",
      " |  \n",
      " |  ----------------------------------------------------------------------\n",
      " |  Methods inherited from TreeEnsembleParams:\n",
      " |  \n",
      " |  getFeatureSubsetStrategy(self)\n",
      " |      Gets the value of featureSubsetStrategy or its default value.\n",
      " |      \n",
      " |      .. versionadded:: 1.4.0\n",
      " |  \n",
      " |  getSubsamplingRate(self)\n",
      " |      Gets the value of subsamplingRate or its default value.\n",
      " |      \n",
      " |      .. versionadded:: 1.4.0\n",
      " |  \n",
      " |  setSubsamplingRate(self, value)\n",
      " |      Sets the value of :py:attr:`subsamplingRate`.\n",
      " |      \n",
      " |      .. versionadded:: 1.4.0\n",
      " |  \n",
      " |  ----------------------------------------------------------------------\n",
      " |  Data and other attributes inherited from TreeEnsembleParams:\n",
      " |  \n",
      " |  featureSubsetStrategy = Param(parent='undefined', name='featureSubsetS...\n",
      " |  \n",
      " |  subsamplingRate = Param(parent='undefined', name='subsamplingRate'...r...\n",
      " |  \n",
      " |  supportedFeatureSubsetStrategies = ['auto', 'all', 'onethird', 'sqrt',...\n",
      " |  \n",
      " |  ----------------------------------------------------------------------\n",
      " |  Methods inherited from pyspark.ml.param.shared.DecisionTreeParams:\n",
      " |  \n",
      " |  getCacheNodeIds(self)\n",
      " |      Gets the value of cacheNodeIds or its default value.\n",
      " |  \n",
      " |  getMaxBins(self)\n",
      " |      Gets the value of maxBins or its default value.\n",
      " |  \n",
      " |  getMaxDepth(self)\n",
      " |      Gets the value of maxDepth or its default value.\n",
      " |  \n",
      " |  getMaxMemoryInMB(self)\n",
      " |      Gets the value of maxMemoryInMB or its default value.\n",
      " |  \n",
      " |  getMinInfoGain(self)\n",
      " |      Gets the value of minInfoGain or its default value.\n",
      " |  \n",
      " |  getMinInstancesPerNode(self)\n",
      " |      Gets the value of minInstancesPerNode or its default value.\n",
      " |  \n",
      " |  setCacheNodeIds(self, value)\n",
      " |      Sets the value of :py:attr:`cacheNodeIds`.\n",
      " |  \n",
      " |  setMaxBins(self, value)\n",
      " |      Sets the value of :py:attr:`maxBins`.\n",
      " |  \n",
      " |  setMaxDepth(self, value)\n",
      " |      Sets the value of :py:attr:`maxDepth`.\n",
      " |  \n",
      " |  setMaxMemoryInMB(self, value)\n",
      " |      Sets the value of :py:attr:`maxMemoryInMB`.\n",
      " |  \n",
      " |  setMinInfoGain(self, value)\n",
      " |      Sets the value of :py:attr:`minInfoGain`.\n",
      " |  \n",
      " |  setMinInstancesPerNode(self, value)\n",
      " |      Sets the value of :py:attr:`minInstancesPerNode`.\n",
      " |  \n",
      " |  ----------------------------------------------------------------------\n",
      " |  Data and other attributes inherited from pyspark.ml.param.shared.DecisionTreeParams:\n",
      " |  \n",
      " |  cacheNodeIds = Param(parent='undefined', name='cacheNodeIds', d...ed o...\n",
      " |  \n",
      " |  maxBins = Param(parent='undefined', name='maxBins', doc='M...mber of c...\n",
      " |  \n",
      " |  maxDepth = Param(parent='undefined', name='maxDepth', doc='...; depth ...\n",
      " |  \n",
      " |  maxMemoryInMB = Param(parent='undefined', name='maxMemoryInMB', ...ati...\n",
      " |  \n",
      " |  minInfoGain = Param(parent='undefined', name='minInfoGain', do...in fo...\n",
      " |  \n",
      " |  minInstancesPerNode = Param(parent='undefined', name='minInstancesPerN...\n",
      " |  \n",
      " |  ----------------------------------------------------------------------\n",
      " |  Methods inherited from pyspark.ml.param.shared.HasCheckpointInterval:\n",
      " |  \n",
      " |  getCheckpointInterval(self)\n",
      " |      Gets the value of checkpointInterval or its default value.\n",
      " |  \n",
      " |  setCheckpointInterval(self, value)\n",
      " |      Sets the value of :py:attr:`checkpointInterval`.\n",
      " |  \n",
      " |  ----------------------------------------------------------------------\n",
      " |  Data and other attributes inherited from pyspark.ml.param.shared.HasCheckpointInterval:\n",
      " |  \n",
      " |  checkpointInterval = Param(parent='undefined', name='checkpointInterv....\n",
      " |  \n",
      " |  ----------------------------------------------------------------------\n",
      " |  Methods inherited from pyspark.ml.param.shared.HasStepSize:\n",
      " |  \n",
      " |  getStepSize(self)\n",
      " |      Gets the value of stepSize or its default value.\n",
      " |  \n",
      " |  setStepSize(self, value)\n",
      " |      Sets the value of :py:attr:`stepSize`.\n",
      " |  \n",
      " |  ----------------------------------------------------------------------\n",
      " |  Methods inherited from pyspark.ml.param.shared.HasSeed:\n",
      " |  \n",
      " |  getSeed(self)\n",
      " |      Gets the value of seed or its default value.\n",
      " |  \n",
      " |  setSeed(self, value)\n",
      " |      Sets the value of :py:attr:`seed`.\n",
      " |  \n",
      " |  ----------------------------------------------------------------------\n",
      " |  Data and other attributes inherited from pyspark.ml.param.shared.HasSeed:\n",
      " |  \n",
      " |  seed = Param(parent='undefined', name='seed', doc='random seed.')\n",
      " |  \n",
      " |  ----------------------------------------------------------------------\n",
      " |  Methods inherited from pyspark.ml.util.JavaMLWritable:\n",
      " |  \n",
      " |  write(self)\n",
      " |      Returns an MLWriter instance for this ML instance.\n",
      " |  \n",
      " |  ----------------------------------------------------------------------\n",
      " |  Methods inherited from pyspark.ml.util.MLWritable:\n",
      " |  \n",
      " |  save(self, path)\n",
      " |      Save this ML instance to the given path, a shortcut of 'write().save(path)'.\n",
      " |  \n",
      " |  ----------------------------------------------------------------------\n",
      " |  Class methods inherited from pyspark.ml.util.JavaMLReadable:\n",
      " |  \n",
      " |  read() from builtins.type\n",
      " |      Returns an MLReader instance for this class.\n",
      " |  \n",
      " |  ----------------------------------------------------------------------\n",
      " |  Class methods inherited from pyspark.ml.util.MLReadable:\n",
      " |  \n",
      " |  load(path) from builtins.type\n",
      " |      Reads an ML instance from the input path, a shortcut of `read().load(path)`.\n",
      " |  \n",
      " |  ----------------------------------------------------------------------\n",
      " |  Methods inherited from TreeRegressorParams:\n",
      " |  \n",
      " |  getImpurity(self)\n",
      " |      Gets the value of impurity or its default value.\n",
      " |      \n",
      " |      .. versionadded:: 1.4.0\n",
      " |  \n",
      " |  setImpurity(self, value)\n",
      " |      Sets the value of :py:attr:`impurity`.\n",
      " |      \n",
      " |      .. versionadded:: 1.4.0\n",
      " |  \n",
      " |  ----------------------------------------------------------------------\n",
      " |  Data and other attributes inherited from TreeRegressorParams:\n",
      " |  \n",
      " |  impurity = Param(parent='undefined', name='impurity', doc='...(case-in...\n",
      " |  \n",
      " |  supportedImpurities = ['variance']\n",
      " |  \n",
      " |  ----------------------------------------------------------------------\n",
      " |  Methods inherited from pyspark.ml.param.Params:\n",
      " |  \n",
      " |  explainParam(self, param)\n",
      " |      Explains a single param and returns its name, doc, and optional\n",
      " |      default value and user-supplied value in a string.\n",
      " |  \n",
      " |  explainParams(self)\n",
      " |      Returns the documentation of all params with their optionally\n",
      " |      default values and user-supplied values.\n",
      " |  \n",
      " |  extractParamMap(self, extra=None)\n",
      " |      Extracts the embedded default param values and user-supplied\n",
      " |      values, and then merges them with extra values from input into\n",
      " |      a flat param map, where the latter value is used if there exist\n",
      " |      conflicts, i.e., with ordering: default param values <\n",
      " |      user-supplied values < extra.\n",
      " |      \n",
      " |      :param extra: extra param values\n",
      " |      :return: merged param map\n",
      " |  \n",
      " |  getOrDefault(self, param)\n",
      " |      Gets the value of a param in the user-supplied param map or its\n",
      " |      default value. Raises an error if neither is set.\n",
      " |  \n",
      " |  getParam(self, paramName)\n",
      " |      Gets a param by its name.\n",
      " |  \n",
      " |  hasDefault(self, param)\n",
      " |      Checks whether a param has a default value.\n",
      " |  \n",
      " |  hasParam(self, paramName)\n",
      " |      Tests whether this instance contains a param with a given\n",
      " |      (string) name.\n",
      " |  \n",
      " |  isDefined(self, param)\n",
      " |      Checks whether a param is explicitly set by user or has\n",
      " |      a default value.\n",
      " |  \n",
      " |  isSet(self, param)\n",
      " |      Checks whether a param is explicitly set by user.\n",
      " |  \n",
      " |  set(self, param, value)\n",
      " |      Sets a parameter in the embedded param map.\n",
      " |  \n",
      " |  ----------------------------------------------------------------------\n",
      " |  Data descriptors inherited from pyspark.ml.param.Params:\n",
      " |  \n",
      " |  params\n",
      " |      Returns all params ordered by name. The default implementation\n",
      " |      uses :py:func:`dir` to get all attributes of type\n",
      " |      :py:class:`Param`.\n",
      " |  \n",
      " |  ----------------------------------------------------------------------\n",
      " |  Methods inherited from pyspark.ml.util.Identifiable:\n",
      " |  \n",
      " |  __repr__(self)\n",
      " |      Return repr(self).\n",
      "\n"
     ]
    }
   ],
   "source": [
    "help(GBTRegressor)"
   ]
  },
  {
   "cell_type": "code",
   "execution_count": 38,
   "metadata": {},
   "outputs": [],
   "source": [
    "## Instantiating Objects\n",
    "# 9.1 Instantiate the regressor object\n",
    "#     Takes the \"features\" column and learns to predict \"cnt\"\n",
    "\n",
    "gbt = GBTRegressor(labelCol=\"cnt\")\n"
   ]
  },
  {
   "cell_type": "markdown",
   "metadata": {},
   "source": [
    "### Model selection (a.k.a. hyperparameter tuning)\n",
    "\n",
    "An important task in ML is model selection, or using data to find the best model or parameters for a given task. This is also called tuning. Tuning may be done for individual Estimators such as LogisticRegression, or for entire Pipelines which include multiple algorithms, featurization, and other steps. Users can tune an entire Pipeline at once, rather than tuning each element in the Pipeline separately.\n",
    "\n",
    "MLlib supports model selection using tools such as _CrossValidator_ and _TrainValidationSplit_. These tools require the following items:\n",
    "\n",
    "-    Estimator: algorithm or Pipeline to tune\n",
    "-    Set of ParamMaps: parameters to choose from, sometimes called a “parameter grid” to search over\n",
    "-    Evaluator: metric to measure how well a fitted Model does on held-out test data\n",
    "\n",
    "At a high level, these model selection tools work as follows:\n",
    "\n",
    "-    They split the input data into separate training and test datasets.\n",
    "-    For each (training, test) pair, they iterate through the set of ParamMaps:\n",
    "    -        For each ParamMap, they fit the Estimator using those parameters, get the fitted Model, and evaluate the Model’s performance using the _Evaluator_.\n",
    "-   They select the Model produced by the best-performing set of parameters.\n",
    "\n",
    "The _Evaluator_ can be a _RegressionEvaluator_ for regression problems, a _BinaryClassificationEvaluator_ for binary data, or a _MulticlassClassificationEvaluator_ for multiclass problems. The default metric used to choose the best ParamMap can be overridden by the setMetricName method in each of these evaluators.\n",
    "\n",
    "To help construct the parameter grid, users can use the _ParamGridBuilder_ utility."
   ]
  },
  {
   "cell_type": "code",
   "execution_count": 39,
   "metadata": {},
   "outputs": [],
   "source": [
    "# 9.2 Define and build grid of parameters\n",
    "#     Model tuning: https://spark.apache.org/docs/2.2.0/ml-tuning.html\n",
    "#     ParamGridBuilder API: https://spark.apache.org/docs/2.2.0/api/python/pyspark.ml.html#pyspark.ml.tuning.ParamGridBuilder\n",
    "\n",
    "# Try deoth of 2 and 5. Iterations of 10 and 100\n",
    "paramGrid = ParamGridBuilder()\\\n",
    "                         .addGrid(gbt.maxDepth, [2, 5]) \\\n",
    "                         .addGrid(gbt.maxIter, [10, 100])\\\n",
    "                         .build()\n"
   ]
  },
  {
   "cell_type": "code",
   "execution_count": 40,
   "metadata": {},
   "outputs": [],
   "source": [
    "# 9.3 Instantiate evaluator object\n",
    "#     We are performing cross validation\n",
    "#     Results of prediction are made on held-back data\n",
    "#     during cross-validation\n",
    "#     Given a fitted gbt object, it\n",
    "#     API: https://spark.apache.org/docs/2.2.0/api/python/pyspark.ml.html#pyspark.ml.evaluation.RegressionEvaluator\n",
    "\n",
    "evaluator = RegressionEvaluator(\n",
    "                               metricName=\"rmse\",                   # This is default\n",
    "                               labelCol=\"gbt.getLabelCol()\",          # Actual col value\n",
    "                               predictionCol=gbt.getPredictionCol() # predicted col value\n",
    "                               )"
   ]
  },
  {
   "cell_type": "code",
   "execution_count": 41,
   "metadata": {},
   "outputs": [],
   "source": [
    "# 9.4 Create CV object:\n",
    "#     Cross Validator API: https://spark.apache.org/docs/2.2.0/api/python/pyspark.ml.html#pyspark.ml.tuning.CrossValidator\n",
    "cv = CrossValidator(estimator=gbt,\n",
    "                    evaluator=evaluator,\n",
    "                    estimatorParamMaps=paramGrid\n",
    "                    )"
   ]
  },
  {
   "cell_type": "markdown",
   "metadata": {},
   "source": [
    "### Pipeline\n",
    "https://spark.apache.org/docs/2.2.0/api/python/pyspark.ml.html#pyspark.ml.Pipeline <br>\n",
    "A simple pipeline, which acts as an estimator. A Pipeline consists of a sequence of stages, each of which is either an _Estimator_ or a _Transformer_. When _Pipeline.fit()_ is called, the stages are executed in order. If a stage is an _Estimator_, its _Estimator.fit()_ method will be called on the input dataset to fit a model. Then the model, which is a transformer, will be used to transform the dataset as the input to the next stage. If a stage is a _Transformer_, its _Transformer.transform()_ method will be called to produce the dataset for the next stage. The fitted model from a Pipeline is a PipelineModel, which consists of fitted models and transformers, corresponding to the pipeline stages. If stages is an empty list, the pipeline acts as an identity transformer."
   ]
  },
  {
   "cell_type": "code",
   "execution_count": 42,
   "metadata": {},
   "outputs": [],
   "source": [
    "# 9.5 Instantiate pipeline objects\n",
    "#     Pipeline API: https://spark.apache.org/docs/2.2.0/api/python/pyspark.ml.html#pyspark.ml.Pipeline\n",
    "\n",
    "pipeline = Pipeline(stages=[vectorassembler, vectorindexer, cv])"
   ]
  },
  {
   "cell_type": "code",
   "execution_count": 43,
   "metadata": {},
   "outputs": [
    {
     "data": {
      "text/plain": [
       "15.470971667766571"
      ]
     },
     "execution_count": 43,
     "metadata": {},
     "output_type": "execute_result"
    }
   ],
   "source": [
    "# 10. Run the pipeline. This will run complete pipe\n",
    "#     including transform() methods of vectorassembler & vectorindexer\n",
    "#     but transform() method of cv is not run. For cv,\n",
    "#     it is just modeling and fitting; no transformation.\n",
    "#    CONSUMES LOTS OF MEMORY. THINGS MAY SLOW DOWN\n",
    "#    OR CONNECTIONS MAY BREAK\n",
    "\n",
    "start = time.time()\n",
    "pipelineModel = pipeline.fit(train)\n",
    "end = time.time()\n",
    "(end - start)/60           # Takes 15 minutes\n"
   ]
  },
  {
   "cell_type": "markdown",
   "metadata": {},
   "source": [
    "############# DD. Predictions & evaluation  ######################"
   ]
  },
  {
   "cell_type": "code",
   "execution_count": 44,
   "metadata": {},
   "outputs": [
    {
     "data": {
      "text/plain": [
       "pyspark.sql.dataframe.DataFrame"
      ]
     },
     "execution_count": 44,
     "metadata": {},
     "output_type": "execute_result"
    },
    {
     "data": {
      "text/plain": [
       "['season',\n",
       " 'yr',\n",
       " 'mnth',\n",
       " 'hr',\n",
       " 'holiday',\n",
       " 'weekday',\n",
       " 'workingday',\n",
       " 'weathersit',\n",
       " 'temp',\n",
       " 'atemp',\n",
       " 'hum',\n",
       " 'windspeed',\n",
       " 'cnt',\n",
       " 'rawFeatures',\n",
       " 'features',\n",
       " 'prediction']"
      ]
     },
     "execution_count": 44,
     "metadata": {},
     "output_type": "execute_result"
    }
   ],
   "source": [
    "# 10.1 Make predictions on test data using the best model\n",
    "#      But for pipeline, we would have to separately process\n",
    "#     'test' data first\n",
    "\n",
    "predictions = pipelineModel.transform(test)\n",
    "type(predictions)               # Spark Dataframe\n",
    "predictions.columns"
   ]
  },
  {
   "cell_type": "code",
   "execution_count": 45,
   "metadata": {},
   "outputs": [
    {
     "name": "stdout",
     "output_type": "stream",
     "text": [
      "+----+------------------+------+---+----+---+-------+-------+----------+----------+----+------+----+---------+\n",
      "| cnt|        prediction|season| yr|mnth| hr|holiday|weekday|workingday|weathersit|temp| atemp| hum|windspeed|\n",
      "+----+------------------+------+---+----+---+-------+-------+----------+----------+----+------+----+---------+\n",
      "|17.0|   75.822301863756|   1.0|0.0| 1.0|0.0|    0.0|    0.0|       0.0|       2.0|0.46|0.4545|0.88|   0.2985|\n",
      "| 7.0| 12.06072832961763|   1.0|0.0| 1.0|0.0|    0.0|    1.0|       1.0|       1.0|0.06|0.0606|0.41|    0.194|\n",
      "| 5.0|20.498667425402143|   1.0|0.0| 1.0|0.0|    0.0|    1.0|       1.0|       1.0|0.22| 0.197|0.44|   0.3582|\n",
      "|13.0|   24.215032894854|   1.0|0.0| 1.0|0.0|    0.0|    4.0|       1.0|       1.0|0.26|0.2273|0.56|   0.3881|\n",
      "+----+------------------+------+---+----+---+-------+-------+----------+----------+----+------+----+---------+\n",
      "only showing top 4 rows\n",
      "\n"
     ]
    }
   ],
   "source": [
    "# 10.2 Show all columns including predicted column\n",
    "#      featuresCols: See para 6.2 above\n",
    "\n",
    "predictions.select(\"cnt\", \"prediction\", *featuresCols).show(4)"
   ]
  },
  {
   "cell_type": "code",
   "execution_count": 46,
   "metadata": {},
   "outputs": [],
   "source": [
    "# 10.3 Evaluate results\n",
    "# Ref: http://spark.apache.org/docs/2.2.0/api/python/pyspark.ml.html#pyspark.ml.evaluation.RegressionEvaluator\n",
    "# Create evaluator object.  class is, as:\n",
    "#  RegressionEvaluator(self, predictionCol=\"prediction\", labelCol=\"label\", metricName=\"rmse\")\n",
    "# 10.4\n",
    "eval = RegressionEvaluator(predictionCol=\"prediction\",\n",
    "                           labelCol = 'cnt',\n",
    "                            metricName=\"rmse\"\n",
    "                          )"
   ]
  },
  {
   "cell_type": "code",
   "execution_count": 47,
   "metadata": {},
   "outputs": [
    {
     "name": "stdout",
     "output_type": "stream",
     "text": [
      "RMSE on our test set: 44.1445\n"
     ]
    }
   ],
   "source": [
    "# 10.5\n",
    "rmse = eval.evaluate(predictions)\n",
    "# 10.6\n",
    "print (\"RMSE on our test set: %g\" % rmse)"
   ]
  },
  {
   "cell_type": "markdown",
   "metadata": {},
   "source": [
    "################### I am done ###################"
   ]
  },
  {
   "cell_type": "code",
   "execution_count": 48,
   "metadata": {},
   "outputs": [
    {
     "data": {
      "text/plain": [
       "[]"
      ]
     },
     "execution_count": 48,
     "metadata": {},
     "output_type": "execute_result"
    },
    {
     "data": {
      "text/plain": [
       "[]"
      ]
     },
     "execution_count": 48,
     "metadata": {},
     "output_type": "execute_result"
    },
    {
     "data": {
      "text/plain": [
       "[]"
      ]
     },
     "execution_count": 48,
     "metadata": {},
     "output_type": "execute_result"
    },
    {
     "data": {
      "text/plain": [
       "[]"
      ]
     },
     "execution_count": 48,
     "metadata": {},
     "output_type": "execute_result"
    },
    {
     "data": {
      "text/plain": [
       "[]"
      ]
     },
     "execution_count": 48,
     "metadata": {},
     "output_type": "execute_result"
    },
    {
     "data": {
      "text/plain": [
       "[]"
      ]
     },
     "execution_count": 48,
     "metadata": {},
     "output_type": "execute_result"
    },
    {
     "data": {
      "text/plain": [
       "[]"
      ]
     },
     "execution_count": 48,
     "metadata": {},
     "output_type": "execute_result"
    },
    {
     "data": {
      "text/plain": [
       "[]"
      ]
     },
     "execution_count": 48,
     "metadata": {},
     "output_type": "execute_result"
    },
    {
     "data": {
      "text/plain": [
       "[]"
      ]
     },
     "execution_count": 48,
     "metadata": {},
     "output_type": "execute_result"
    },
    {
     "data": {
      "text/plain": [
       "[]"
      ]
     },
     "execution_count": 48,
     "metadata": {},
     "output_type": "execute_result"
    },
    {
     "data": {
      "text/plain": [
       "[]"
      ]
     },
     "execution_count": 48,
     "metadata": {},
     "output_type": "execute_result"
    },
    {
     "data": {
      "text/plain": [
       "[]"
      ]
     },
     "execution_count": 48,
     "metadata": {},
     "output_type": "execute_result"
    },
    {
     "data": {
      "text/plain": [
       "[]"
      ]
     },
     "execution_count": 48,
     "metadata": {},
     "output_type": "execute_result"
    },
    {
     "data": {
      "text/plain": [
       "[]"
      ]
     },
     "execution_count": 48,
     "metadata": {},
     "output_type": "execute_result"
    },
    {
     "data": {
      "text/plain": [
       "[]"
      ]
     },
     "execution_count": 48,
     "metadata": {},
     "output_type": "execute_result"
    },
    {
     "data": {
      "text/plain": [
       "[]"
      ]
     },
     "execution_count": 48,
     "metadata": {},
     "output_type": "execute_result"
    },
    {
     "data": {
      "text/plain": [
       "[]"
      ]
     },
     "execution_count": 48,
     "metadata": {},
     "output_type": "execute_result"
    },
    {
     "data": {
      "text/plain": [
       "[]"
      ]
     },
     "execution_count": 48,
     "metadata": {},
     "output_type": "execute_result"
    },
    {
     "data": {
      "text/plain": [
       "[]"
      ]
     },
     "execution_count": 48,
     "metadata": {},
     "output_type": "execute_result"
    },
    {
     "data": {
      "text/plain": [
       "[]"
      ]
     },
     "execution_count": 48,
     "metadata": {},
     "output_type": "execute_result"
    },
    {
     "data": {
      "text/plain": [
       "[]"
      ]
     },
     "execution_count": 48,
     "metadata": {},
     "output_type": "execute_result"
    },
    {
     "data": {
      "text/plain": [
       "[]"
      ]
     },
     "execution_count": 48,
     "metadata": {},
     "output_type": "execute_result"
    },
    {
     "data": {
      "text/plain": [
       "[]"
      ]
     },
     "execution_count": 48,
     "metadata": {},
     "output_type": "execute_result"
    },
    {
     "data": {
      "text/plain": [
       "[]"
      ]
     },
     "execution_count": 48,
     "metadata": {},
     "output_type": "execute_result"
    },
    {
     "data": {
      "text/plain": [
       "[]"
      ]
     },
     "execution_count": 48,
     "metadata": {},
     "output_type": "execute_result"
    },
    {
     "data": {
      "text/plain": [
       "[]"
      ]
     },
     "execution_count": 48,
     "metadata": {},
     "output_type": "execute_result"
    },
    {
     "data": {
      "image/png": "[encoded data removed]",
      "text/plain": [
       "<Figure size 720x720 with 169 Axes>"
      ]
     },
     "metadata": {
      "needs_background": "light"
     },
     "output_type": "display_data"
    }
   ],
   "source": [
    "# 11. Scatter matrix among numeric columns\n",
    "import pandas as pd\n",
    "import matplotlib.pyplot as plt\n",
    "%matplotlib inline\n",
    "\n",
    "# 11.1 Take a sample\n",
    "numeric_features = [t[0] for t in df.dtypes if t[1] == 'int' or t[1] == 'double']\n",
    "sampled_data = df.select(numeric_features).sample(False, 0.6).toPandas()\n",
    "\n",
    "# 11.2 Plot now\n",
    "axs = pd.plotting.scatter_matrix(sampled_data, figsize=(10, 10))\n",
    "n = len(sampled_data.columns)\n",
    "for i in range(n):\n",
    "    v = axs[i, 0]\n",
    "    v.yaxis.label.set_rotation(0)\n",
    "    v.yaxis.label.set_ha('right')\n",
    "    v.set_yticks(())\n",
    "    h = axs[n-1, i]\n",
    "    h.xaxis.label.set_rotation(90)\n",
    "    h.set_xticks(())"
   ]
  },
  {
   "cell_type": "code",
   "execution_count": null,
   "metadata": {},
   "outputs": [],
   "source": []
  }
 ],
 "metadata": {
  "kernelspec": {
   "display_name": "Python 3",
   "language": "python",
   "name": "python3"
  },
  "language_info": {
   "codemirror_mode": {
    "name": "ipython",
    "version": 3
   },
   "file_extension": ".py",
   "mimetype": "text/x-python",
   "name": "python",
   "nbconvert_exporter": "python",
   "pygments_lexer": "ipython3",
   "version": "3.7.3"
  }
 },
 "nbformat": 4,
 "nbformat_minor": 2
}
