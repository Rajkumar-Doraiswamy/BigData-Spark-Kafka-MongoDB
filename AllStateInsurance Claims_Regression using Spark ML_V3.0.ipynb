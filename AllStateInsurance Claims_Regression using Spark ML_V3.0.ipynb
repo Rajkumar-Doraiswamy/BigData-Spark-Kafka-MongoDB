{
 "cells": [
  {
   "cell_type": "markdown",
   "metadata": {},
   "source": [
    "A. Basic\n",
    "\n",
    "i)   Start hadoop\n",
    "ii) Transfer 'train.csv' file from local file system to hadoop:  hdfs://localhost:9000/user/ashok/data_files/\n",
    "iii) Read Data and perform basic data exploration. Especially see which all variables are 'string' data types and which not. This is our 'original' data\n",
    "\n",
    "B. Objects creation:\n",
    "\n",
    "i)  List all categorical columns and create objects to StringIndex all these categorical columns\n",
    "ii) Prepare (one) object to OneHotEncode categorical columns (received from above)\n",
    "iii)  Prepare a (one) list of all numerical and OneHotEncoded columns. Exclude 'loss' column from this list.\n",
    "vi) Create a VectorAssembler object to assemble all the columns as in the (iii) above\n",
    "v) Create an object to perform modeling using GBTRegressor\n",
    "vi) Create a pipeline object\n",
    "\n",
    "C. Fitting and Modeling:\n",
    "\n",
    "i) Split your 'original' data into train and test sets\n",
    "ii) Fit the pipeline object on the 'train' data\n",
    "iii)  Make predictions for 'test' data\n",
    "iv) Evaluate results using RegressionEvaluator as used in bikesharing dataset problem."
   ]
  },
  {
   "cell_type": "code",
   "execution_count": 1,
   "metadata": {},
   "outputs": [],
   "source": [
    "# 1.0 Call libraries\n",
    "# 1.0 Encode 'string' column to index-column. \n",
    "#     Indexing begins from 0.\n",
    "from pyspark.ml.feature import StringIndexer\n",
    "# 1.1 OHE an indexed column after StringIndexing\n",
    "#     and create one another column\n",
    "from pyspark.ml.feature import OneHotEncoderEstimator\n",
    "# 1.2 Assemble numerical and OHE data in one column\n",
    "from pyspark.ml.feature import VectorAssembler\n",
    "# 1.3 Scale Vector-Assmbled data. Individual columns\n",
    "#     will have to be scaled 'manually' using withColumn()\n",
    "#     statement and writing your own scaling formula\n",
    "from pyspark.ml.feature import StandardScaler\n",
    "# 1.4 Vector Index one column assembled+scaled as above\n",
    "from pyspark.ml.feature import VectorIndexer\n",
    "\n",
    "# 1.5 Import ML estimator. It is a classification problem\n",
    "from pyspark.ml.classification import RandomForestClassifier\n",
    "\n",
    "# 1.6 Create a pipeline model for all stages\n",
    "from pyspark.ml import Pipeline\n",
    "\n",
    "# 1.7 Misc functions\n",
    "# 1.7.1 Call an important group of sql functions\n",
    "from pyspark.sql.functions import col,sum\n",
    "# 1.7.2 Unlike in other languages, in spark\n",
    "#       type-classes are to be separateky imported\n",
    "#       They are not part of core classes or modules\n",
    "from pyspark.sql.types import DoubleType\n",
    "\n",
    "# 1.8 Binary classification results evaluator\n",
    "from pyspark.ml.evaluation import BinaryClassificationEvaluator\n",
    "\n",
    "# 1.9\n",
    "import os, time\n",
    "from pyspark.ml import Pipeline\n",
    "from pyspark.ml.regression import GBTRegressor\n",
    "from pyspark.ml.tuning import CrossValidator, ParamGridBuilder\n",
    "from pyspark.ml.evaluation import RegressionEvaluator\n",
    "import time"
   ]
  },
  {
   "cell_type": "code",
   "execution_count": 2,
   "metadata": {},
   "outputs": [
    {
     "data": {
      "text/html": [
       "<style>.container { width:100% !important; }</style>"
      ],
      "text/plain": [
       "<IPython.core.display.HTML object>"
      ]
     },
     "metadata": {},
     "output_type": "display_data"
    }
   ],
   "source": [
    "# 2. Increase the width of notebook \n",
    "#    to display all columns of data\n",
    "from IPython.core.display import display, HTML\n",
    "display(HTML(\"<style>.container { width:100% !important; }</style>\"))"
   ]
  },
  {
   "cell_type": "code",
   "execution_count": 3,
   "metadata": {},
   "outputs": [],
   "source": [
    "# 2.1 Show multiple outputs of a single cell\n",
    "from IPython.core.interactiveshell import InteractiveShell\n",
    "InteractiveShell.ast_node_interactivity = \"all\""
   ]
  },
  {
   "cell_type": "code",
   "execution_count": 5,
   "metadata": {},
   "outputs": [],
   "source": [
    "df = spark.read.csv(\n",
    "                   path = \"hdfs://localhost:9000/user/ashok/data_files/train.csv\",   # path to hadoop\n",
    "                   header = True,\n",
    "                   inferSchema= True,           # Infer datatypes automatically\n",
    "                   sep = \",\"                   # Can be any character (check \\t)\n",
    "                   )\n"
   ]
  },
  {
   "cell_type": "code",
   "execution_count": 7,
   "metadata": {},
   "outputs": [
    {
     "data": {
      "text/plain": [
       "188318"
      ]
     },
     "execution_count": 7,
     "metadata": {},
     "output_type": "execute_result"
    },
    {
     "data": {
      "text/plain": [
       "132"
      ]
     },
     "execution_count": 7,
     "metadata": {},
     "output_type": "execute_result"
    },
    {
     "name": "stdout",
     "output_type": "stream",
     "text": [
      "['id', 'cat1', 'cat2', 'cat3', 'cat4', 'cat5', 'cat6', 'cat7', 'cat8', 'cat9', 'cat10', 'cat11', 'cat12', 'cat13', 'cat14', 'cat15', 'cat16', 'cat17', 'cat18', 'cat19', 'cat20', 'cat21', 'cat22', 'cat23', 'cat24', 'cat25', 'cat26', 'cat27', 'cat28', 'cat29', 'cat30', 'cat31', 'cat32', 'cat33', 'cat34', 'cat35', 'cat36', 'cat37', 'cat38', 'cat39', 'cat40', 'cat41', 'cat42', 'cat43', 'cat44', 'cat45', 'cat46', 'cat47', 'cat48', 'cat49', 'cat50', 'cat51', 'cat52', 'cat53', 'cat54', 'cat55', 'cat56', 'cat57', 'cat58', 'cat59', 'cat60', 'cat61', 'cat62', 'cat63', 'cat64', 'cat65', 'cat66', 'cat67', 'cat68', 'cat69', 'cat70', 'cat71', 'cat72', 'cat73', 'cat74', 'cat75', 'cat76', 'cat77', 'cat78', 'cat79', 'cat80', 'cat81', 'cat82', 'cat83', 'cat84', 'cat85', 'cat86', 'cat87', 'cat88', 'cat89', 'cat90', 'cat91', 'cat92', 'cat93', 'cat94', 'cat95', 'cat96', 'cat97', 'cat98', 'cat99', 'cat100', 'cat101', 'cat102', 'cat103', 'cat104', 'cat105', 'cat106', 'cat107', 'cat108', 'cat109', 'cat110', 'cat111', 'cat112', 'cat113', 'cat114', 'cat115', 'cat116', 'cont1', 'cont2', 'cont3', 'cont4', 'cont5', 'cont6', 'cont7', 'cont8', 'cont9', 'cont10', 'cont11', 'cont12', 'cont13', 'cont14', 'loss']\n"
     ]
    }
   ],
   "source": [
    "# 3.1 Data shape\n",
    "df.count()           \n",
    "cols = df.columns\n",
    "len(cols)            \n",
    "print(cols)"
   ]
  },
  {
   "cell_type": "code",
   "execution_count": 6,
   "metadata": {},
   "outputs": [
    {
     "name": "stdout",
     "output_type": "stream",
     "text": [
      "+---+----+----+----+----+----+----+----+----+----+-----+-----+-----+-----+-----+-----+-----+-----+-----+-----+-----+-----+-----+-----+-----+-----+-----+-----+-----+-----+-----+-----+-----+-----+-----+-----+-----+-----+-----+-----+-----+-----+-----+-----+-----+-----+-----+-----+-----+-----+-----+-----+-----+-----+-----+-----+-----+-----+-----+-----+-----+-----+-----+-----+-----+-----+-----+-----+-----+-----+-----+-----+-----+-----+-----+-----+-----+-----+-----+-----+-----+-----+-----+-----+-----+-----+-----+-----+-----+-----+-----+-----+-----+-----+-----+-----+-----+-----+-----+-----+------+------+------+------+------+------+------+------+------+------+------+------+------+------+------+------+------+--------+--------+--------+--------+--------+--------+--------+-------+-------+-------+--------+--------+--------+--------+-------+\n",
      "| id|cat1|cat2|cat3|cat4|cat5|cat6|cat7|cat8|cat9|cat10|cat11|cat12|cat13|cat14|cat15|cat16|cat17|cat18|cat19|cat20|cat21|cat22|cat23|cat24|cat25|cat26|cat27|cat28|cat29|cat30|cat31|cat32|cat33|cat34|cat35|cat36|cat37|cat38|cat39|cat40|cat41|cat42|cat43|cat44|cat45|cat46|cat47|cat48|cat49|cat50|cat51|cat52|cat53|cat54|cat55|cat56|cat57|cat58|cat59|cat60|cat61|cat62|cat63|cat64|cat65|cat66|cat67|cat68|cat69|cat70|cat71|cat72|cat73|cat74|cat75|cat76|cat77|cat78|cat79|cat80|cat81|cat82|cat83|cat84|cat85|cat86|cat87|cat88|cat89|cat90|cat91|cat92|cat93|cat94|cat95|cat96|cat97|cat98|cat99|cat100|cat101|cat102|cat103|cat104|cat105|cat106|cat107|cat108|cat109|cat110|cat111|cat112|cat113|cat114|cat115|cat116|   cont1|   cont2|   cont3|   cont4|   cont5|   cont6|   cont7|  cont8|  cont9| cont10|  cont11|  cont12|  cont13|  cont14|   loss|\n",
      "+---+----+----+----+----+----+----+----+----+----+-----+-----+-----+-----+-----+-----+-----+-----+-----+-----+-----+-----+-----+-----+-----+-----+-----+-----+-----+-----+-----+-----+-----+-----+-----+-----+-----+-----+-----+-----+-----+-----+-----+-----+-----+-----+-----+-----+-----+-----+-----+-----+-----+-----+-----+-----+-----+-----+-----+-----+-----+-----+-----+-----+-----+-----+-----+-----+-----+-----+-----+-----+-----+-----+-----+-----+-----+-----+-----+-----+-----+-----+-----+-----+-----+-----+-----+-----+-----+-----+-----+-----+-----+-----+-----+-----+-----+-----+-----+-----+------+------+------+------+------+------+------+------+------+------+------+------+------+------+------+------+------+--------+--------+--------+--------+--------+--------+--------+-------+-------+-------+--------+--------+--------+--------+-------+\n",
      "|  1|   A|   B|   A|   B|   A|   A|   A|   A|   B|    A|    B|    A|    A|    A|    A|    A|    A|    A|    A|    A|    A|    A|    B|    A|    A|    A|    A|    A|    A|    A|    A|    A|    A|    A|    A|    A|    A|    A|    A|    A|    A|    A|    A|    A|    A|    A|    A|    A|    A|    A|    A|    A|    A|    A|    A|    A|    A|    A|    A|    A|    A|    A|    A|    A|    A|    A|    A|    A|    A|    A|    A|    A|    A|    A|    B|    A|    D|    B|    B|    D|    D|    B|    D|    C|    B|    D|    B|    A|    A|    A|    A|    A|    D|    B|    C|    E|    A|    C|    T|     B|     G|     A|     A|     I|     E|     G|     J|     G|    BU|    BC|     C|    AS|     S|     A|     O|    LB|  0.7263|0.245921|0.187583|0.789639|0.310061|0.718367| 0.33506| 0.3026|0.67135| 0.8351|0.569745|0.594646|0.822493|0.714843|2213.18|\n",
      "|  2|   A|   B|   A|   A|   A|   A|   A|   A|   B|    B|    A|    A|    A|    A|    A|    A|    A|    A|    A|    A|    A|    A|    A|    A|    A|    A|    A|    A|    A|    A|    A|    A|    A|    A|    A|    A|    A|    A|    A|    A|    A|    A|    A|    A|    A|    A|    A|    A|    A|    A|    A|    A|    A|    A|    A|    A|    A|    A|    A|    A|    A|    A|    A|    A|    A|    A|    A|    A|    A|    A|    A|    A|    A|    A|    A|    A|    D|    B|    B|    D|    D|    A|    B|    C|    B|    D|    B|    A|    A|    A|    A|    A|    D|    D|    C|    E|    E|    D|    T|     L|     F|     A|     A|     E|     E|     I|     K|     K|    BI|    CQ|     A|    AV|    BM|     A|     O|    DP|0.330514|0.737068|0.592681|0.614134|0.885834|0.438917|0.436585|0.60087|0.35127|0.43919|0.338312|0.366307|0.611431|0.304496| 1283.6|\n",
      "|  5|   A|   B|   A|   A|   B|   A|   A|   A|   B|    B|    B|    B|    B|    A|    A|    A|    A|    A|    A|    A|    A|    A|    A|    A|    A|    A|    A|    A|    A|    A|    A|    A|    A|    A|    A|    B|    A|    A|    A|    A|    A|    A|    A|    A|    A|    A|    A|    A|    A|    A|    A|    A|    A|    A|    A|    A|    A|    A|    A|    A|    A|    A|    A|    A|    A|    A|    A|    A|    A|    A|    A|    A|    A|    A|    A|    A|    D|    B|    B|    B|    D|    B|    D|    C|    B|    B|    B|    A|    A|    A|    A|    A|    D|    D|    C|    E|    E|    A|    D|     L|     O|     A|     B|     E|     F|     H|     F|     A|    AB|    DK|     A|     C|    AF|     A|     I|    GK|0.261841|0.358319|0.484196|0.236924|0.397069|0.289648|0.315545| 0.2732|0.26076|0.32446|0.381398|0.373424|0.195709|0.774425|3005.09|\n",
      "+---+----+----+----+----+----+----+----+----+----+-----+-----+-----+-----+-----+-----+-----+-----+-----+-----+-----+-----+-----+-----+-----+-----+-----+-----+-----+-----+-----+-----+-----+-----+-----+-----+-----+-----+-----+-----+-----+-----+-----+-----+-----+-----+-----+-----+-----+-----+-----+-----+-----+-----+-----+-----+-----+-----+-----+-----+-----+-----+-----+-----+-----+-----+-----+-----+-----+-----+-----+-----+-----+-----+-----+-----+-----+-----+-----+-----+-----+-----+-----+-----+-----+-----+-----+-----+-----+-----+-----+-----+-----+-----+-----+-----+-----+-----+-----+-----+------+------+------+------+------+------+------+------+------+------+------+------+------+------+------+------+------+--------+--------+--------+--------+--------+--------+--------+-------+-------+-------+--------+--------+--------+--------+-------+\n",
      "only showing top 3 rows\n",
      "\n"
     ]
    }
   ],
   "source": [
    "df.show(3)"
   ]
  },
  {
   "cell_type": "code",
   "execution_count": 8,
   "metadata": {},
   "outputs": [
    {
     "data": {
      "text/plain": [
       "DataFrame[id: int, cat1: string, cat2: string, cat3: string, cat4: string, cat5: string, cat6: string, cat7: string, cat8: string, cat9: string, cat10: string, cat11: string, cat12: string, cat13: string, cat14: string, cat15: string, cat16: string, cat17: string, cat18: string, cat19: string, cat20: string, cat21: string, cat22: string, cat23: string, cat24: string, cat25: string, cat26: string, cat27: string, cat28: string, cat29: string, cat30: string, cat31: string, cat32: string, cat33: string, cat34: string, cat35: string, cat36: string, cat37: string, cat38: string, cat39: string, cat40: string, cat41: string, cat42: string, cat43: string, cat44: string, cat45: string, cat46: string, cat47: string, cat48: string, cat49: string, cat50: string, cat51: string, cat52: string, cat53: string, cat54: string, cat55: string, cat56: string, cat57: string, cat58: string, cat59: string, cat60: string, cat61: string, cat62: string, cat63: string, cat64: string, cat65: string, cat66: string, cat67: string, cat68: string, cat69: string, cat70: string, cat71: string, cat72: string, cat73: string, cat74: string, cat75: string, cat76: string, cat77: string, cat78: string, cat79: string, cat80: string, cat81: string, cat82: string, cat83: string, cat84: string, cat85: string, cat86: string, cat87: string, cat88: string, cat89: string, cat90: string, cat91: string, cat92: string, cat93: string, cat94: string, cat95: string, cat96: string, cat97: string, cat98: string, cat99: string, cat100: string, cat101: string, cat102: string, cat103: string, cat104: string, cat105: string, cat106: string, cat107: string, cat108: string, cat109: string, cat110: string, cat111: string, cat112: string, cat113: string, cat114: string, cat115: string, cat116: string, cont1: double, cont2: double, cont3: double, cont4: double, cont5: double, cont6: double, cont7: double, cont8: double, cont9: double, cont10: double, cont11: double, cont12: double, cont13: double, cont14: double, loss: double]"
      ]
     },
     "execution_count": 8,
     "metadata": {},
     "output_type": "execute_result"
    },
    {
     "data": {
      "text/plain": [
       "True"
      ]
     },
     "execution_count": 8,
     "metadata": {},
     "output_type": "execute_result"
    }
   ],
   "source": [
    "df.cache()\n",
    "df.is_cached "
   ]
  },
  {
   "cell_type": "code",
   "execution_count": 9,
   "metadata": {},
   "outputs": [
    {
     "name": "stdout",
     "output_type": "stream",
     "text": [
      "+---+----+----+----+----+----+----+----+----+----+-----+-----+-----+-----+-----+-----+-----+-----+-----+-----+-----+-----+-----+-----+-----+-----+-----+-----+-----+-----+\n",
      "| id|cat1|cat2|cat3|cat4|cat5|cat6|cat7|cat8|cat9|cat10|cat11|cat12|cat13|cat14|cat15|cat16|cat17|cat18|cat19|cat20|cat21|cat22|cat23|cat24|cat25|cat26|cat27|cat28|cat29|\n",
      "+---+----+----+----+----+----+----+----+----+----+-----+-----+-----+-----+-----+-----+-----+-----+-----+-----+-----+-----+-----+-----+-----+-----+-----+-----+-----+-----+\n",
      "|  1|   A|   B|   A|   B|   A|   A|   A|   A|   B|    A|    B|    A|    A|    A|    A|    A|    A|    A|    A|    A|    A|    A|    B|    A|    A|    A|    A|    A|    A|\n",
      "|  2|   A|   B|   A|   A|   A|   A|   A|   A|   B|    B|    A|    A|    A|    A|    A|    A|    A|    A|    A|    A|    A|    A|    A|    A|    A|    A|    A|    A|    A|\n",
      "|  5|   A|   B|   A|   A|   B|   A|   A|   A|   B|    B|    B|    B|    B|    A|    A|    A|    A|    A|    A|    A|    A|    A|    A|    A|    A|    A|    A|    A|    A|\n",
      "+---+----+----+----+----+----+----+----+----+----+-----+-----+-----+-----+-----+-----+-----+-----+-----+-----+-----+-----+-----+-----+-----+-----+-----+-----+-----+-----+\n",
      "only showing top 3 rows\n",
      "\n"
     ]
    }
   ],
   "source": [
    "df.select(cols[:30]).show(3)"
   ]
  },
  {
   "cell_type": "code",
   "execution_count": 10,
   "metadata": {},
   "outputs": [
    {
     "name": "stdout",
     "output_type": "stream",
     "text": [
      "+---+----+----+----+----+----+----+----+----+----+-----+-----+-----+-----+-----+-----+-----+-----+-----+-----+-----+-----+-----+-----+-----+-----+-----+-----+-----+-----+-----+-----+-----+-----+-----+-----+-----+-----+-----+-----+-----+-----+-----+-----+-----+-----+-----+-----+-----+-----+-----+-----+-----+-----+-----+-----+-----+-----+-----+-----+-----+-----+-----+-----+-----+-----+-----+-----+-----+-----+-----+-----+-----+-----+-----+-----+-----+-----+-----+-----+-----+-----+-----+-----+-----+-----+-----+-----+-----+-----+-----+-----+-----+-----+-----+-----+-----+-----+-----+-----+------+------+------+------+------+------+------+------+------+------+------+------+------+------+------+------+------+-----+-----+-----+-----+-----+-----+-----+-----+-----+------+------+------+------+------+----+\n",
      "| id|cat1|cat2|cat3|cat4|cat5|cat6|cat7|cat8|cat9|cat10|cat11|cat12|cat13|cat14|cat15|cat16|cat17|cat18|cat19|cat20|cat21|cat22|cat23|cat24|cat25|cat26|cat27|cat28|cat29|cat30|cat31|cat32|cat33|cat34|cat35|cat36|cat37|cat38|cat39|cat40|cat41|cat42|cat43|cat44|cat45|cat46|cat47|cat48|cat49|cat50|cat51|cat52|cat53|cat54|cat55|cat56|cat57|cat58|cat59|cat60|cat61|cat62|cat63|cat64|cat65|cat66|cat67|cat68|cat69|cat70|cat71|cat72|cat73|cat74|cat75|cat76|cat77|cat78|cat79|cat80|cat81|cat82|cat83|cat84|cat85|cat86|cat87|cat88|cat89|cat90|cat91|cat92|cat93|cat94|cat95|cat96|cat97|cat98|cat99|cat100|cat101|cat102|cat103|cat104|cat105|cat106|cat107|cat108|cat109|cat110|cat111|cat112|cat113|cat114|cat115|cat116|cont1|cont2|cont3|cont4|cont5|cont6|cont7|cont8|cont9|cont10|cont11|cont12|cont13|cont14|loss|\n",
      "+---+----+----+----+----+----+----+----+----+----+-----+-----+-----+-----+-----+-----+-----+-----+-----+-----+-----+-----+-----+-----+-----+-----+-----+-----+-----+-----+-----+-----+-----+-----+-----+-----+-----+-----+-----+-----+-----+-----+-----+-----+-----+-----+-----+-----+-----+-----+-----+-----+-----+-----+-----+-----+-----+-----+-----+-----+-----+-----+-----+-----+-----+-----+-----+-----+-----+-----+-----+-----+-----+-----+-----+-----+-----+-----+-----+-----+-----+-----+-----+-----+-----+-----+-----+-----+-----+-----+-----+-----+-----+-----+-----+-----+-----+-----+-----+-----+------+------+------+------+------+------+------+------+------+------+------+------+------+------+------+------+------+-----+-----+-----+-----+-----+-----+-----+-----+-----+------+------+------+------+------+----+\n",
      "|  0|   0|   0|   0|   0|   0|   0|   0|   0|   0|    0|    0|    0|    0|    0|    0|    0|    0|    0|    0|    0|    0|    0|    0|    0|    0|    0|    0|    0|    0|    0|    0|    0|    0|    0|    0|    0|    0|    0|    0|    0|    0|    0|    0|    0|    0|    0|    0|    0|    0|    0|    0|    0|    0|    0|    0|    0|    0|    0|    0|    0|    0|    0|    0|    0|    0|    0|    0|    0|    0|    0|    0|    0|    0|    0|    0|    0|    0|    0|    0|    0|    0|    0|    0|    0|    0|    0|    0|    0|    0|    0|    0|    0|    0|    0|    0|    0|    0|    0|    0|     0|     0|     0|     0|     0|     0|     0|     0|     0|     0|     0|     0|     0|     0|     0|     0|     0|    0|    0|    0|    0|    0|    0|    0|    0|    0|     0|     0|     0|     0|     0|   0|\n",
      "+---+----+----+----+----+----+----+----+----+----+-----+-----+-----+-----+-----+-----+-----+-----+-----+-----+-----+-----+-----+-----+-----+-----+-----+-----+-----+-----+-----+-----+-----+-----+-----+-----+-----+-----+-----+-----+-----+-----+-----+-----+-----+-----+-----+-----+-----+-----+-----+-----+-----+-----+-----+-----+-----+-----+-----+-----+-----+-----+-----+-----+-----+-----+-----+-----+-----+-----+-----+-----+-----+-----+-----+-----+-----+-----+-----+-----+-----+-----+-----+-----+-----+-----+-----+-----+-----+-----+-----+-----+-----+-----+-----+-----+-----+-----+-----+-----+------+------+------+------+------+------+------+------+------+------+------+------+------+------+------+------+------+-----+-----+-----+-----+-----+-----+-----+-----+-----+------+------+------+------+------+----+\n",
      "\n"
     ]
    }
   ],
   "source": [
    "df.select(*(sum(df[c].isNull().cast(\"int\")).alias(c) for c in cols[::])).show() "
   ]
  },
  {
   "cell_type": "code",
   "execution_count": 11,
   "metadata": {},
   "outputs": [
    {
     "name": "stdout",
     "output_type": "stream",
     "text": [
      "root\n",
      " |-- id: integer (nullable = true)\n",
      " |-- cat1: string (nullable = true)\n",
      " |-- cat2: string (nullable = true)\n",
      " |-- cat3: string (nullable = true)\n",
      " |-- cat4: string (nullable = true)\n",
      " |-- cat5: string (nullable = true)\n",
      " |-- cat6: string (nullable = true)\n",
      " |-- cat7: string (nullable = true)\n",
      " |-- cat8: string (nullable = true)\n",
      " |-- cat9: string (nullable = true)\n",
      " |-- cat10: string (nullable = true)\n",
      " |-- cat11: string (nullable = true)\n",
      " |-- cat12: string (nullable = true)\n",
      " |-- cat13: string (nullable = true)\n",
      " |-- cat14: string (nullable = true)\n",
      " |-- cat15: string (nullable = true)\n",
      " |-- cat16: string (nullable = true)\n",
      " |-- cat17: string (nullable = true)\n",
      " |-- cat18: string (nullable = true)\n",
      " |-- cat19: string (nullable = true)\n",
      " |-- cat20: string (nullable = true)\n",
      " |-- cat21: string (nullable = true)\n",
      " |-- cat22: string (nullable = true)\n",
      " |-- cat23: string (nullable = true)\n",
      " |-- cat24: string (nullable = true)\n",
      " |-- cat25: string (nullable = true)\n",
      " |-- cat26: string (nullable = true)\n",
      " |-- cat27: string (nullable = true)\n",
      " |-- cat28: string (nullable = true)\n",
      " |-- cat29: string (nullable = true)\n",
      " |-- cat30: string (nullable = true)\n",
      " |-- cat31: string (nullable = true)\n",
      " |-- cat32: string (nullable = true)\n",
      " |-- cat33: string (nullable = true)\n",
      " |-- cat34: string (nullable = true)\n",
      " |-- cat35: string (nullable = true)\n",
      " |-- cat36: string (nullable = true)\n",
      " |-- cat37: string (nullable = true)\n",
      " |-- cat38: string (nullable = true)\n",
      " |-- cat39: string (nullable = true)\n",
      " |-- cat40: string (nullable = true)\n",
      " |-- cat41: string (nullable = true)\n",
      " |-- cat42: string (nullable = true)\n",
      " |-- cat43: string (nullable = true)\n",
      " |-- cat44: string (nullable = true)\n",
      " |-- cat45: string (nullable = true)\n",
      " |-- cat46: string (nullable = true)\n",
      " |-- cat47: string (nullable = true)\n",
      " |-- cat48: string (nullable = true)\n",
      " |-- cat49: string (nullable = true)\n",
      " |-- cat50: string (nullable = true)\n",
      " |-- cat51: string (nullable = true)\n",
      " |-- cat52: string (nullable = true)\n",
      " |-- cat53: string (nullable = true)\n",
      " |-- cat54: string (nullable = true)\n",
      " |-- cat55: string (nullable = true)\n",
      " |-- cat56: string (nullable = true)\n",
      " |-- cat57: string (nullable = true)\n",
      " |-- cat58: string (nullable = true)\n",
      " |-- cat59: string (nullable = true)\n",
      " |-- cat60: string (nullable = true)\n",
      " |-- cat61: string (nullable = true)\n",
      " |-- cat62: string (nullable = true)\n",
      " |-- cat63: string (nullable = true)\n",
      " |-- cat64: string (nullable = true)\n",
      " |-- cat65: string (nullable = true)\n",
      " |-- cat66: string (nullable = true)\n",
      " |-- cat67: string (nullable = true)\n",
      " |-- cat68: string (nullable = true)\n",
      " |-- cat69: string (nullable = true)\n",
      " |-- cat70: string (nullable = true)\n",
      " |-- cat71: string (nullable = true)\n",
      " |-- cat72: string (nullable = true)\n",
      " |-- cat73: string (nullable = true)\n",
      " |-- cat74: string (nullable = true)\n",
      " |-- cat75: string (nullable = true)\n",
      " |-- cat76: string (nullable = true)\n",
      " |-- cat77: string (nullable = true)\n",
      " |-- cat78: string (nullable = true)\n",
      " |-- cat79: string (nullable = true)\n",
      " |-- cat80: string (nullable = true)\n",
      " |-- cat81: string (nullable = true)\n",
      " |-- cat82: string (nullable = true)\n",
      " |-- cat83: string (nullable = true)\n",
      " |-- cat84: string (nullable = true)\n",
      " |-- cat85: string (nullable = true)\n",
      " |-- cat86: string (nullable = true)\n",
      " |-- cat87: string (nullable = true)\n",
      " |-- cat88: string (nullable = true)\n",
      " |-- cat89: string (nullable = true)\n",
      " |-- cat90: string (nullable = true)\n",
      " |-- cat91: string (nullable = true)\n",
      " |-- cat92: string (nullable = true)\n",
      " |-- cat93: string (nullable = true)\n",
      " |-- cat94: string (nullable = true)\n",
      " |-- cat95: string (nullable = true)\n",
      " |-- cat96: string (nullable = true)\n",
      " |-- cat97: string (nullable = true)\n",
      " |-- cat98: string (nullable = true)\n",
      " |-- cat99: string (nullable = true)\n",
      " |-- cat100: string (nullable = true)\n",
      " |-- cat101: string (nullable = true)\n",
      " |-- cat102: string (nullable = true)\n",
      " |-- cat103: string (nullable = true)\n",
      " |-- cat104: string (nullable = true)\n",
      " |-- cat105: string (nullable = true)\n",
      " |-- cat106: string (nullable = true)\n",
      " |-- cat107: string (nullable = true)\n",
      " |-- cat108: string (nullable = true)\n",
      " |-- cat109: string (nullable = true)\n",
      " |-- cat110: string (nullable = true)\n",
      " |-- cat111: string (nullable = true)\n",
      " |-- cat112: string (nullable = true)\n",
      " |-- cat113: string (nullable = true)\n",
      " |-- cat114: string (nullable = true)\n",
      " |-- cat115: string (nullable = true)\n",
      " |-- cat116: string (nullable = true)\n",
      " |-- cont1: double (nullable = true)\n",
      " |-- cont2: double (nullable = true)\n",
      " |-- cont3: double (nullable = true)\n",
      " |-- cont4: double (nullable = true)\n",
      " |-- cont5: double (nullable = true)\n",
      " |-- cont6: double (nullable = true)\n",
      " |-- cont7: double (nullable = true)\n",
      " |-- cont8: double (nullable = true)\n",
      " |-- cont9: double (nullable = true)\n",
      " |-- cont10: double (nullable = true)\n",
      " |-- cont11: double (nullable = true)\n",
      " |-- cont12: double (nullable = true)\n",
      " |-- cont13: double (nullable = true)\n",
      " |-- cont14: double (nullable = true)\n",
      " |-- loss: double (nullable = true)\n",
      "\n"
     ]
    }
   ],
   "source": [
    "df.printSchema()"
   ]
  },
  {
   "cell_type": "code",
   "execution_count": 12,
   "metadata": {},
   "outputs": [],
   "source": [
    "df=df.drop('id')"
   ]
  },
  {
   "cell_type": "code",
   "execution_count": 13,
   "metadata": {},
   "outputs": [
    {
     "data": {
      "text/plain": [
       "[('cat1', 'string'),\n",
       " ('cat2', 'string'),\n",
       " ('cat3', 'string'),\n",
       " ('cat4', 'string'),\n",
       " ('cat5', 'string'),\n",
       " ('cat6', 'string'),\n",
       " ('cat7', 'string'),\n",
       " ('cat8', 'string'),\n",
       " ('cat9', 'string'),\n",
       " ('cat10', 'string'),\n",
       " ('cat11', 'string'),\n",
       " ('cat12', 'string'),\n",
       " ('cat13', 'string'),\n",
       " ('cat14', 'string'),\n",
       " ('cat15', 'string'),\n",
       " ('cat16', 'string'),\n",
       " ('cat17', 'string'),\n",
       " ('cat18', 'string'),\n",
       " ('cat19', 'string'),\n",
       " ('cat20', 'string'),\n",
       " ('cat21', 'string'),\n",
       " ('cat22', 'string'),\n",
       " ('cat23', 'string'),\n",
       " ('cat24', 'string'),\n",
       " ('cat25', 'string'),\n",
       " ('cat26', 'string'),\n",
       " ('cat27', 'string'),\n",
       " ('cat28', 'string'),\n",
       " ('cat29', 'string'),\n",
       " ('cat30', 'string'),\n",
       " ('cat31', 'string'),\n",
       " ('cat32', 'string'),\n",
       " ('cat33', 'string'),\n",
       " ('cat34', 'string'),\n",
       " ('cat35', 'string'),\n",
       " ('cat36', 'string'),\n",
       " ('cat37', 'string'),\n",
       " ('cat38', 'string'),\n",
       " ('cat39', 'string'),\n",
       " ('cat40', 'string'),\n",
       " ('cat41', 'string'),\n",
       " ('cat42', 'string'),\n",
       " ('cat43', 'string'),\n",
       " ('cat44', 'string'),\n",
       " ('cat45', 'string'),\n",
       " ('cat46', 'string'),\n",
       " ('cat47', 'string'),\n",
       " ('cat48', 'string'),\n",
       " ('cat49', 'string'),\n",
       " ('cat50', 'string'),\n",
       " ('cat51', 'string'),\n",
       " ('cat52', 'string'),\n",
       " ('cat53', 'string'),\n",
       " ('cat54', 'string'),\n",
       " ('cat55', 'string'),\n",
       " ('cat56', 'string'),\n",
       " ('cat57', 'string'),\n",
       " ('cat58', 'string'),\n",
       " ('cat59', 'string'),\n",
       " ('cat60', 'string'),\n",
       " ('cat61', 'string'),\n",
       " ('cat62', 'string'),\n",
       " ('cat63', 'string'),\n",
       " ('cat64', 'string'),\n",
       " ('cat65', 'string'),\n",
       " ('cat66', 'string'),\n",
       " ('cat67', 'string'),\n",
       " ('cat68', 'string'),\n",
       " ('cat69', 'string'),\n",
       " ('cat70', 'string'),\n",
       " ('cat71', 'string'),\n",
       " ('cat72', 'string'),\n",
       " ('cat73', 'string'),\n",
       " ('cat74', 'string'),\n",
       " ('cat75', 'string'),\n",
       " ('cat76', 'string'),\n",
       " ('cat77', 'string'),\n",
       " ('cat78', 'string'),\n",
       " ('cat79', 'string'),\n",
       " ('cat80', 'string'),\n",
       " ('cat81', 'string'),\n",
       " ('cat82', 'string'),\n",
       " ('cat83', 'string'),\n",
       " ('cat84', 'string'),\n",
       " ('cat85', 'string'),\n",
       " ('cat86', 'string'),\n",
       " ('cat87', 'string'),\n",
       " ('cat88', 'string'),\n",
       " ('cat89', 'string'),\n",
       " ('cat90', 'string'),\n",
       " ('cat91', 'string'),\n",
       " ('cat92', 'string'),\n",
       " ('cat93', 'string'),\n",
       " ('cat94', 'string'),\n",
       " ('cat95', 'string'),\n",
       " ('cat96', 'string'),\n",
       " ('cat97', 'string'),\n",
       " ('cat98', 'string'),\n",
       " ('cat99', 'string'),\n",
       " ('cat100', 'string'),\n",
       " ('cat101', 'string'),\n",
       " ('cat102', 'string'),\n",
       " ('cat103', 'string'),\n",
       " ('cat104', 'string'),\n",
       " ('cat105', 'string'),\n",
       " ('cat106', 'string'),\n",
       " ('cat107', 'string'),\n",
       " ('cat108', 'string'),\n",
       " ('cat109', 'string'),\n",
       " ('cat110', 'string'),\n",
       " ('cat111', 'string'),\n",
       " ('cat112', 'string'),\n",
       " ('cat113', 'string'),\n",
       " ('cat114', 'string'),\n",
       " ('cat115', 'string'),\n",
       " ('cat116', 'string'),\n",
       " ('cont1', 'double'),\n",
       " ('cont2', 'double'),\n",
       " ('cont3', 'double'),\n",
       " ('cont4', 'double'),\n",
       " ('cont5', 'double'),\n",
       " ('cont6', 'double'),\n",
       " ('cont7', 'double'),\n",
       " ('cont8', 'double'),\n",
       " ('cont9', 'double'),\n",
       " ('cont10', 'double'),\n",
       " ('cont11', 'double'),\n",
       " ('cont12', 'double'),\n",
       " ('cont13', 'double'),\n",
       " ('cont14', 'double'),\n",
       " ('loss', 'double')]"
      ]
     },
     "execution_count": 13,
     "metadata": {},
     "output_type": "execute_result"
    }
   ],
   "source": [
    "df.dtypes"
   ]
  },
  {
   "cell_type": "code",
   "execution_count": 14,
   "metadata": {},
   "outputs": [
    {
     "data": {
      "text/plain": [
       "['cont1',\n",
       " 'cont2',\n",
       " 'cont3',\n",
       " 'cont4',\n",
       " 'cont5',\n",
       " 'cont6',\n",
       " 'cont7',\n",
       " 'cont8',\n",
       " 'cont9',\n",
       " 'cont10',\n",
       " 'cont11',\n",
       " 'cont12',\n",
       " 'cont13',\n",
       " 'cont14',\n",
       " 'loss']"
      ]
     },
     "execution_count": 14,
     "metadata": {},
     "output_type": "execute_result"
    }
   ],
   "source": [
    "int_columns=[i[0] for i in df.dtypes if i[1]=='double']\n",
    "int_columns"
   ]
  },
  {
   "cell_type": "code",
   "execution_count": 15,
   "metadata": {},
   "outputs": [
    {
     "data": {
      "text/plain": [
       "['cat1',\n",
       " 'cat2',\n",
       " 'cat3',\n",
       " 'cat4',\n",
       " 'cat5',\n",
       " 'cat6',\n",
       " 'cat7',\n",
       " 'cat8',\n",
       " 'cat9',\n",
       " 'cat10',\n",
       " 'cat11',\n",
       " 'cat12',\n",
       " 'cat13',\n",
       " 'cat14',\n",
       " 'cat15',\n",
       " 'cat16',\n",
       " 'cat17',\n",
       " 'cat18',\n",
       " 'cat19',\n",
       " 'cat20',\n",
       " 'cat21',\n",
       " 'cat22',\n",
       " 'cat23',\n",
       " 'cat24',\n",
       " 'cat25',\n",
       " 'cat26',\n",
       " 'cat27',\n",
       " 'cat28',\n",
       " 'cat29',\n",
       " 'cat30',\n",
       " 'cat31',\n",
       " 'cat32',\n",
       " 'cat33',\n",
       " 'cat34',\n",
       " 'cat35',\n",
       " 'cat36',\n",
       " 'cat37',\n",
       " 'cat38',\n",
       " 'cat39',\n",
       " 'cat40',\n",
       " 'cat41',\n",
       " 'cat42',\n",
       " 'cat43',\n",
       " 'cat44',\n",
       " 'cat45',\n",
       " 'cat46',\n",
       " 'cat47',\n",
       " 'cat48',\n",
       " 'cat49',\n",
       " 'cat50',\n",
       " 'cat51',\n",
       " 'cat52',\n",
       " 'cat53',\n",
       " 'cat54',\n",
       " 'cat55',\n",
       " 'cat56',\n",
       " 'cat57',\n",
       " 'cat58',\n",
       " 'cat59',\n",
       " 'cat60',\n",
       " 'cat61',\n",
       " 'cat62',\n",
       " 'cat63',\n",
       " 'cat64',\n",
       " 'cat65',\n",
       " 'cat66',\n",
       " 'cat67',\n",
       " 'cat68',\n",
       " 'cat69',\n",
       " 'cat70',\n",
       " 'cat71',\n",
       " 'cat72',\n",
       " 'cat73',\n",
       " 'cat74',\n",
       " 'cat75',\n",
       " 'cat76',\n",
       " 'cat77',\n",
       " 'cat78',\n",
       " 'cat79',\n",
       " 'cat80',\n",
       " 'cat81',\n",
       " 'cat82',\n",
       " 'cat83',\n",
       " 'cat84',\n",
       " 'cat85',\n",
       " 'cat86',\n",
       " 'cat87',\n",
       " 'cat88',\n",
       " 'cat89',\n",
       " 'cat90',\n",
       " 'cat91',\n",
       " 'cat92',\n",
       " 'cat93',\n",
       " 'cat94',\n",
       " 'cat95',\n",
       " 'cat96',\n",
       " 'cat97',\n",
       " 'cat98',\n",
       " 'cat99',\n",
       " 'cat100',\n",
       " 'cat101',\n",
       " 'cat102',\n",
       " 'cat103',\n",
       " 'cat104',\n",
       " 'cat105',\n",
       " 'cat106',\n",
       " 'cat107',\n",
       " 'cat108',\n",
       " 'cat109',\n",
       " 'cat110',\n",
       " 'cat111',\n",
       " 'cat112',\n",
       " 'cat113',\n",
       " 'cat114',\n",
       " 'cat115',\n",
       " 'cat116']"
      ]
     },
     "execution_count": 15,
     "metadata": {},
     "output_type": "execute_result"
    }
   ],
   "source": [
    "str_columns=[i[0] for i in df.dtypes if i[1]=='string']\n",
    "str_columns"
   ]
  },
  {
   "cell_type": "code",
   "execution_count": 16,
   "metadata": {},
   "outputs": [
    {
     "data": {
      "text/plain": [
       "[('cat1', 'string'),\n",
       " ('cat2', 'string'),\n",
       " ('cat3', 'string'),\n",
       " ('cat4', 'string'),\n",
       " ('cat5', 'string'),\n",
       " ('cat6', 'string'),\n",
       " ('cat7', 'string'),\n",
       " ('cat8', 'string'),\n",
       " ('cat9', 'string'),\n",
       " ('cat10', 'string'),\n",
       " ('cat11', 'string'),\n",
       " ('cat12', 'string'),\n",
       " ('cat13', 'string'),\n",
       " ('cat14', 'string'),\n",
       " ('cat15', 'string'),\n",
       " ('cat16', 'string'),\n",
       " ('cat17', 'string'),\n",
       " ('cat18', 'string'),\n",
       " ('cat19', 'string'),\n",
       " ('cat20', 'string'),\n",
       " ('cat21', 'string'),\n",
       " ('cat22', 'string'),\n",
       " ('cat23', 'string'),\n",
       " ('cat24', 'string'),\n",
       " ('cat25', 'string'),\n",
       " ('cat26', 'string'),\n",
       " ('cat27', 'string'),\n",
       " ('cat28', 'string'),\n",
       " ('cat29', 'string'),\n",
       " ('cat30', 'string'),\n",
       " ('cat31', 'string'),\n",
       " ('cat32', 'string'),\n",
       " ('cat33', 'string'),\n",
       " ('cat34', 'string'),\n",
       " ('cat35', 'string'),\n",
       " ('cat36', 'string'),\n",
       " ('cat37', 'string'),\n",
       " ('cat38', 'string'),\n",
       " ('cat39', 'string'),\n",
       " ('cat40', 'string'),\n",
       " ('cat41', 'string'),\n",
       " ('cat42', 'string'),\n",
       " ('cat43', 'string'),\n",
       " ('cat44', 'string'),\n",
       " ('cat45', 'string'),\n",
       " ('cat46', 'string'),\n",
       " ('cat47', 'string'),\n",
       " ('cat48', 'string'),\n",
       " ('cat49', 'string'),\n",
       " ('cat50', 'string'),\n",
       " ('cat51', 'string'),\n",
       " ('cat52', 'string'),\n",
       " ('cat53', 'string'),\n",
       " ('cat54', 'string'),\n",
       " ('cat55', 'string'),\n",
       " ('cat56', 'string'),\n",
       " ('cat57', 'string'),\n",
       " ('cat58', 'string'),\n",
       " ('cat59', 'string'),\n",
       " ('cat60', 'string'),\n",
       " ('cat61', 'string'),\n",
       " ('cat62', 'string'),\n",
       " ('cat63', 'string'),\n",
       " ('cat64', 'string'),\n",
       " ('cat65', 'string'),\n",
       " ('cat66', 'string'),\n",
       " ('cat67', 'string'),\n",
       " ('cat68', 'string'),\n",
       " ('cat69', 'string'),\n",
       " ('cat70', 'string'),\n",
       " ('cat71', 'string'),\n",
       " ('cat72', 'string'),\n",
       " ('cat73', 'string'),\n",
       " ('cat74', 'string'),\n",
       " ('cat75', 'string'),\n",
       " ('cat76', 'string'),\n",
       " ('cat77', 'string'),\n",
       " ('cat78', 'string'),\n",
       " ('cat79', 'string'),\n",
       " ('cat80', 'string'),\n",
       " ('cat81', 'string'),\n",
       " ('cat82', 'string'),\n",
       " ('cat83', 'string'),\n",
       " ('cat84', 'string'),\n",
       " ('cat85', 'string'),\n",
       " ('cat86', 'string'),\n",
       " ('cat87', 'string'),\n",
       " ('cat88', 'string'),\n",
       " ('cat89', 'string'),\n",
       " ('cat90', 'string'),\n",
       " ('cat91', 'string'),\n",
       " ('cat92', 'string'),\n",
       " ('cat93', 'string'),\n",
       " ('cat94', 'string'),\n",
       " ('cat95', 'string'),\n",
       " ('cat96', 'string'),\n",
       " ('cat97', 'string'),\n",
       " ('cat98', 'string'),\n",
       " ('cat99', 'string'),\n",
       " ('cat100', 'string'),\n",
       " ('cat101', 'string'),\n",
       " ('cat102', 'string'),\n",
       " ('cat103', 'string'),\n",
       " ('cat104', 'string'),\n",
       " ('cat105', 'string'),\n",
       " ('cat106', 'string'),\n",
       " ('cat107', 'string'),\n",
       " ('cat108', 'string'),\n",
       " ('cat109', 'string'),\n",
       " ('cat110', 'string'),\n",
       " ('cat111', 'string'),\n",
       " ('cat112', 'string'),\n",
       " ('cat113', 'string'),\n",
       " ('cat114', 'string'),\n",
       " ('cat115', 'string'),\n",
       " ('cat116', 'string'),\n",
       " ('cont1', 'double'),\n",
       " ('cont2', 'double'),\n",
       " ('cont3', 'double'),\n",
       " ('cont4', 'double'),\n",
       " ('cont5', 'double'),\n",
       " ('cont6', 'double'),\n",
       " ('cont7', 'double'),\n",
       " ('cont8', 'double'),\n",
       " ('cont9', 'double'),\n",
       " ('cont10', 'double'),\n",
       " ('cont11', 'double'),\n",
       " ('cont12', 'double'),\n",
       " ('cont13', 'double'),\n",
       " ('cont14', 'double'),\n",
       " ('loss', 'double')]"
      ]
     },
     "execution_count": 16,
     "metadata": {},
     "output_type": "execute_result"
    }
   ],
   "source": [
    "df.dtypes"
   ]
  },
  {
   "cell_type": "code",
   "execution_count": 17,
   "metadata": {},
   "outputs": [
    {
     "data": {
      "text/plain": [
       "(116, 15)"
      ]
     },
     "execution_count": 17,
     "metadata": {},
     "output_type": "execute_result"
    }
   ],
   "source": [
    "len(str_columns), len(int_columns)"
   ]
  },
  {
   "cell_type": "code",
   "execution_count": 18,
   "metadata": {},
   "outputs": [
    {
     "data": {
      "text/plain": [
       "[StringIndexer_c009d93b09b0,\n",
       " StringIndexer_f5785f889254,\n",
       " StringIndexer_f62542965c38,\n",
       " StringIndexer_f7f4ef28f582,\n",
       " StringIndexer_0861c120a28f,\n",
       " StringIndexer_7bc68788411f,\n",
       " StringIndexer_e2f202c6448f,\n",
       " StringIndexer_8047ce6c4c97,\n",
       " StringIndexer_be0025a91c43,\n",
       " StringIndexer_3ae27d37c736,\n",
       " StringIndexer_77fcb2042432,\n",
       " StringIndexer_c734bb5688f7,\n",
       " StringIndexer_2acd84c40117,\n",
       " StringIndexer_e84161b3c64c,\n",
       " StringIndexer_c8d002409de9,\n",
       " StringIndexer_e506e80fd811,\n",
       " StringIndexer_d2edb679949d,\n",
       " StringIndexer_ca4cf0ce687f,\n",
       " StringIndexer_36f365166576,\n",
       " StringIndexer_f3b6ad07ca32,\n",
       " StringIndexer_b81ce204b318,\n",
       " StringIndexer_a2f1abde9b66,\n",
       " StringIndexer_c3846ade045d,\n",
       " StringIndexer_bc2be7aaefde,\n",
       " StringIndexer_7762f20275f0,\n",
       " StringIndexer_2170ce7cc8e8,\n",
       " StringIndexer_9dde68dc6017,\n",
       " StringIndexer_08ec56474dce,\n",
       " StringIndexer_ee6448e8a5bc,\n",
       " StringIndexer_b9c5b7a444ad,\n",
       " StringIndexer_041b731a7442,\n",
       " StringIndexer_410af5e00b4d,\n",
       " StringIndexer_ae5d487aa0b7,\n",
       " StringIndexer_a1cd9aa0b2a6,\n",
       " StringIndexer_d670f7fdd087,\n",
       " StringIndexer_476e5eae4d29,\n",
       " StringIndexer_1f7bf4c59b6f,\n",
       " StringIndexer_6638ca4c5e02,\n",
       " StringIndexer_33fd1fe6aff1,\n",
       " StringIndexer_285363ae9729,\n",
       " StringIndexer_2823aa8c9a53,\n",
       " StringIndexer_cb580080c377,\n",
       " StringIndexer_b87c041f03b4,\n",
       " StringIndexer_745f3da4b656,\n",
       " StringIndexer_1f0681c35809,\n",
       " StringIndexer_8a9cf4d9f462,\n",
       " StringIndexer_cbd27e3f8643,\n",
       " StringIndexer_b77f8a77c319,\n",
       " StringIndexer_ad81b7c49fbf,\n",
       " StringIndexer_c6f879f2c15a,\n",
       " StringIndexer_6b629e79ae6d,\n",
       " StringIndexer_00701e2e4179,\n",
       " StringIndexer_4b5b7a54276e,\n",
       " StringIndexer_a5b282f39325,\n",
       " StringIndexer_cbec06ed4858,\n",
       " StringIndexer_8d50d3e3b294,\n",
       " StringIndexer_bf065e091fcb,\n",
       " StringIndexer_429bf0a2d319,\n",
       " StringIndexer_6a40b556add7,\n",
       " StringIndexer_bfe4b4e3478f,\n",
       " StringIndexer_d49f24234b71,\n",
       " StringIndexer_fe9210e992d8,\n",
       " StringIndexer_5535be25399d,\n",
       " StringIndexer_042b68b77499,\n",
       " StringIndexer_c5644ded79bf,\n",
       " StringIndexer_d8441a76f920,\n",
       " StringIndexer_1e7082b7557b,\n",
       " StringIndexer_b92f73b91827,\n",
       " StringIndexer_80d2267fa0e6,\n",
       " StringIndexer_36147087b645,\n",
       " StringIndexer_6178ebe2d03b,\n",
       " StringIndexer_bf273653ecaa,\n",
       " StringIndexer_6dfd960ade7a,\n",
       " StringIndexer_45b31aee034c,\n",
       " StringIndexer_d68b297d010c,\n",
       " StringIndexer_a3aeca52043f,\n",
       " StringIndexer_67f1fa3c8f36,\n",
       " StringIndexer_e9e80b0bbc31,\n",
       " StringIndexer_fd5a4cf7344a,\n",
       " StringIndexer_1d63a1bec023,\n",
       " StringIndexer_3aec2f115f2f,\n",
       " StringIndexer_2c4a13875b36,\n",
       " StringIndexer_5d1b96b201eb,\n",
       " StringIndexer_6e2c2583a95b,\n",
       " StringIndexer_38142a244d83,\n",
       " StringIndexer_0722786966ed,\n",
       " StringIndexer_0ded8644c3bb,\n",
       " StringIndexer_b270d88ca628,\n",
       " StringIndexer_d3289630259c,\n",
       " StringIndexer_bde73d193e9c,\n",
       " StringIndexer_674ed15f77fd,\n",
       " StringIndexer_dcb7502a051b,\n",
       " StringIndexer_bbcbef16e539,\n",
       " StringIndexer_a625e3399d53,\n",
       " StringIndexer_02138cbdf57a,\n",
       " StringIndexer_c10e0012a48e,\n",
       " StringIndexer_443145f01898,\n",
       " StringIndexer_7a5df42f2539,\n",
       " StringIndexer_a4612f10dd0c,\n",
       " StringIndexer_d58ec4b03630,\n",
       " StringIndexer_042499962e9a,\n",
       " StringIndexer_741572c39cd4,\n",
       " StringIndexer_095b7bc9ebea,\n",
       " StringIndexer_ff26bccbadac,\n",
       " StringIndexer_f59fe9e06b2e,\n",
       " StringIndexer_76e9dba70db1,\n",
       " StringIndexer_061faa892273,\n",
       " StringIndexer_78a0891d75c5,\n",
       " StringIndexer_e9c98457d1ae,\n",
       " StringIndexer_bd2e300f5d66,\n",
       " StringIndexer_27f3ba056702,\n",
       " StringIndexer_b0d3bef3b482,\n",
       " StringIndexer_7f4017f9bc1a,\n",
       " StringIndexer_100005c5b567,\n",
       " StringIndexer_d918767efe0c,\n",
       " StringIndexer_8ce33e3c3a72]"
      ]
     },
     "execution_count": 18,
     "metadata": {},
     "output_type": "execute_result"
    }
   ],
   "source": [
    "stringindexer_stages = [ StringIndexer(inputCol=c, outputCol='stringindexed_' + c) for c in str_columns]\n",
    "stringindexer_stages"
   ]
  },
  {
   "cell_type": "code",
   "execution_count": 19,
   "metadata": {},
   "outputs": [
    {
     "data": {
      "text/plain": [
       "[OneHotEncoderEstimator_d6637caf4f52]"
      ]
     },
     "execution_count": 19,
     "metadata": {},
     "output_type": "execute_result"
    }
   ],
   "source": [
    "in_cols = ['stringindexed_' + c for c in str_columns]\n",
    "ohe_cols = ['onehotencoded_' + c  for c in str_columns]\n",
    "onehotencoder_stages = [OneHotEncoderEstimator(inputCols=in_cols, outputCols=ohe_cols)]\n",
    "onehotencoder_stages"
   ]
  },
  {
   "cell_type": "code",
   "execution_count": 20,
   "metadata": {},
   "outputs": [
    {
     "data": {
      "text/plain": [
       "(['onehotencoded_cat1',\n",
       "  'onehotencoded_cat2',\n",
       "  'onehotencoded_cat3',\n",
       "  'onehotencoded_cat4',\n",
       "  'onehotencoded_cat5',\n",
       "  'onehotencoded_cat6',\n",
       "  'onehotencoded_cat7',\n",
       "  'onehotencoded_cat8',\n",
       "  'onehotencoded_cat9',\n",
       "  'onehotencoded_cat10',\n",
       "  'onehotencoded_cat11',\n",
       "  'onehotencoded_cat12',\n",
       "  'onehotencoded_cat13',\n",
       "  'onehotencoded_cat14',\n",
       "  'onehotencoded_cat15',\n",
       "  'onehotencoded_cat16',\n",
       "  'onehotencoded_cat17',\n",
       "  'onehotencoded_cat18',\n",
       "  'onehotencoded_cat19',\n",
       "  'onehotencoded_cat20',\n",
       "  'onehotencoded_cat21',\n",
       "  'onehotencoded_cat22',\n",
       "  'onehotencoded_cat23',\n",
       "  'onehotencoded_cat24',\n",
       "  'onehotencoded_cat25',\n",
       "  'onehotencoded_cat26',\n",
       "  'onehotencoded_cat27',\n",
       "  'onehotencoded_cat28',\n",
       "  'onehotencoded_cat29',\n",
       "  'onehotencoded_cat30',\n",
       "  'onehotencoded_cat31',\n",
       "  'onehotencoded_cat32',\n",
       "  'onehotencoded_cat33',\n",
       "  'onehotencoded_cat34',\n",
       "  'onehotencoded_cat35',\n",
       "  'onehotencoded_cat36',\n",
       "  'onehotencoded_cat37',\n",
       "  'onehotencoded_cat38',\n",
       "  'onehotencoded_cat39',\n",
       "  'onehotencoded_cat40',\n",
       "  'onehotencoded_cat41',\n",
       "  'onehotencoded_cat42',\n",
       "  'onehotencoded_cat43',\n",
       "  'onehotencoded_cat44',\n",
       "  'onehotencoded_cat45',\n",
       "  'onehotencoded_cat46',\n",
       "  'onehotencoded_cat47',\n",
       "  'onehotencoded_cat48',\n",
       "  'onehotencoded_cat49',\n",
       "  'onehotencoded_cat50',\n",
       "  'onehotencoded_cat51',\n",
       "  'onehotencoded_cat52',\n",
       "  'onehotencoded_cat53',\n",
       "  'onehotencoded_cat54',\n",
       "  'onehotencoded_cat55',\n",
       "  'onehotencoded_cat56',\n",
       "  'onehotencoded_cat57',\n",
       "  'onehotencoded_cat58',\n",
       "  'onehotencoded_cat59',\n",
       "  'onehotencoded_cat60',\n",
       "  'onehotencoded_cat61',\n",
       "  'onehotencoded_cat62',\n",
       "  'onehotencoded_cat63',\n",
       "  'onehotencoded_cat64',\n",
       "  'onehotencoded_cat65',\n",
       "  'onehotencoded_cat66',\n",
       "  'onehotencoded_cat67',\n",
       "  'onehotencoded_cat68',\n",
       "  'onehotencoded_cat69',\n",
       "  'onehotencoded_cat70',\n",
       "  'onehotencoded_cat71',\n",
       "  'onehotencoded_cat72',\n",
       "  'onehotencoded_cat73',\n",
       "  'onehotencoded_cat74',\n",
       "  'onehotencoded_cat75',\n",
       "  'onehotencoded_cat76',\n",
       "  'onehotencoded_cat77',\n",
       "  'onehotencoded_cat78',\n",
       "  'onehotencoded_cat79',\n",
       "  'onehotencoded_cat80',\n",
       "  'onehotencoded_cat81',\n",
       "  'onehotencoded_cat82',\n",
       "  'onehotencoded_cat83',\n",
       "  'onehotencoded_cat84',\n",
       "  'onehotencoded_cat85',\n",
       "  'onehotencoded_cat86',\n",
       "  'onehotencoded_cat87',\n",
       "  'onehotencoded_cat88',\n",
       "  'onehotencoded_cat89',\n",
       "  'onehotencoded_cat90',\n",
       "  'onehotencoded_cat91',\n",
       "  'onehotencoded_cat92',\n",
       "  'onehotencoded_cat93',\n",
       "  'onehotencoded_cat94',\n",
       "  'onehotencoded_cat95',\n",
       "  'onehotencoded_cat96',\n",
       "  'onehotencoded_cat97',\n",
       "  'onehotencoded_cat98',\n",
       "  'onehotencoded_cat99',\n",
       "  'onehotencoded_cat100',\n",
       "  'onehotencoded_cat101',\n",
       "  'onehotencoded_cat102',\n",
       "  'onehotencoded_cat103',\n",
       "  'onehotencoded_cat104',\n",
       "  'onehotencoded_cat105',\n",
       "  'onehotencoded_cat106',\n",
       "  'onehotencoded_cat107',\n",
       "  'onehotencoded_cat108',\n",
       "  'onehotencoded_cat109',\n",
       "  'onehotencoded_cat110',\n",
       "  'onehotencoded_cat111',\n",
       "  'onehotencoded_cat112',\n",
       "  'onehotencoded_cat113',\n",
       "  'onehotencoded_cat114',\n",
       "  'onehotencoded_cat115',\n",
       "  'onehotencoded_cat116'],\n",
       " 116)"
      ]
     },
     "execution_count": 20,
     "metadata": {},
     "output_type": "execute_result"
    }
   ],
   "source": [
    "ohe_cols, len(ohe_cols)"
   ]
  },
  {
   "cell_type": "code",
   "execution_count": 21,
   "metadata": {},
   "outputs": [
    {
     "data": {
      "text/plain": [
       "['cont1',\n",
       " 'cont2',\n",
       " 'cont3',\n",
       " 'cont4',\n",
       " 'cont5',\n",
       " 'cont6',\n",
       " 'cont7',\n",
       " 'cont8',\n",
       " 'cont9',\n",
       " 'cont10',\n",
       " 'cont11',\n",
       " 'cont12',\n",
       " 'cont13',\n",
       " 'cont14',\n",
       " 'loss']"
      ]
     },
     "execution_count": 21,
     "metadata": {},
     "output_type": "execute_result"
    }
   ],
   "source": [
    "int_columns"
   ]
  },
  {
   "cell_type": "code",
   "execution_count": 24,
   "metadata": {},
   "outputs": [
    {
     "ename": "ValueError",
     "evalue": "list.remove(x): x not in list",
     "output_type": "error",
     "traceback": [
      "\u001b[0;31m---------------------------------------------------------------------------\u001b[0m",
      "\u001b[0;31mValueError\u001b[0m                                Traceback (most recent call last)",
      "\u001b[0;32m<ipython-input-24-0282c4bd68a5>\u001b[0m in \u001b[0;36m<module>\u001b[0;34m\u001b[0m\n\u001b[0;32m----> 1\u001b[0;31m \u001b[0mint_columns\u001b[0m\u001b[0;34m.\u001b[0m\u001b[0mremove\u001b[0m\u001b[0;34m(\u001b[0m\u001b[0;34m'loss'\u001b[0m\u001b[0;34m)\u001b[0m\u001b[0;34m\u001b[0m\u001b[0;34m\u001b[0m\u001b[0m\n\u001b[0m",
      "\u001b[0;31mValueError\u001b[0m: list.remove(x): x not in list"
     ]
    }
   ],
   "source": [
    "int_columns.remove('loss')"
   ]
  },
  {
   "cell_type": "code",
   "execution_count": 23,
   "metadata": {},
   "outputs": [
    {
     "name": "stdout",
     "output_type": "stream",
     "text": [
      "['cont1', 'cont2', 'cont3', 'cont4', 'cont5', 'cont6', 'cont7', 'cont8', 'cont9', 'cont10', 'cont11', 'cont12', 'cont13', 'cont14', 'onehotencoded_cat1', 'onehotencoded_cat2', 'onehotencoded_cat3', 'onehotencoded_cat4', 'onehotencoded_cat5', 'onehotencoded_cat6', 'onehotencoded_cat7', 'onehotencoded_cat8', 'onehotencoded_cat9', 'onehotencoded_cat10', 'onehotencoded_cat11', 'onehotencoded_cat12', 'onehotencoded_cat13', 'onehotencoded_cat14', 'onehotencoded_cat15', 'onehotencoded_cat16', 'onehotencoded_cat17', 'onehotencoded_cat18', 'onehotencoded_cat19', 'onehotencoded_cat20', 'onehotencoded_cat21', 'onehotencoded_cat22', 'onehotencoded_cat23', 'onehotencoded_cat24', 'onehotencoded_cat25', 'onehotencoded_cat26', 'onehotencoded_cat27', 'onehotencoded_cat28', 'onehotencoded_cat29', 'onehotencoded_cat30', 'onehotencoded_cat31', 'onehotencoded_cat32', 'onehotencoded_cat33', 'onehotencoded_cat34', 'onehotencoded_cat35', 'onehotencoded_cat36', 'onehotencoded_cat37', 'onehotencoded_cat38', 'onehotencoded_cat39', 'onehotencoded_cat40', 'onehotencoded_cat41', 'onehotencoded_cat42', 'onehotencoded_cat43', 'onehotencoded_cat44', 'onehotencoded_cat45', 'onehotencoded_cat46', 'onehotencoded_cat47', 'onehotencoded_cat48', 'onehotencoded_cat49', 'onehotencoded_cat50', 'onehotencoded_cat51', 'onehotencoded_cat52', 'onehotencoded_cat53', 'onehotencoded_cat54', 'onehotencoded_cat55', 'onehotencoded_cat56', 'onehotencoded_cat57', 'onehotencoded_cat58', 'onehotencoded_cat59', 'onehotencoded_cat60', 'onehotencoded_cat61', 'onehotencoded_cat62', 'onehotencoded_cat63', 'onehotencoded_cat64', 'onehotencoded_cat65', 'onehotencoded_cat66', 'onehotencoded_cat67', 'onehotencoded_cat68', 'onehotencoded_cat69', 'onehotencoded_cat70', 'onehotencoded_cat71', 'onehotencoded_cat72', 'onehotencoded_cat73', 'onehotencoded_cat74', 'onehotencoded_cat75', 'onehotencoded_cat76', 'onehotencoded_cat77', 'onehotencoded_cat78', 'onehotencoded_cat79', 'onehotencoded_cat80', 'onehotencoded_cat81', 'onehotencoded_cat82', 'onehotencoded_cat83', 'onehotencoded_cat84', 'onehotencoded_cat85', 'onehotencoded_cat86', 'onehotencoded_cat87', 'onehotencoded_cat88', 'onehotencoded_cat89', 'onehotencoded_cat90', 'onehotencoded_cat91', 'onehotencoded_cat92', 'onehotencoded_cat93', 'onehotencoded_cat94', 'onehotencoded_cat95', 'onehotencoded_cat96', 'onehotencoded_cat97', 'onehotencoded_cat98', 'onehotencoded_cat99', 'onehotencoded_cat100', 'onehotencoded_cat101', 'onehotencoded_cat102', 'onehotencoded_cat103', 'onehotencoded_cat104', 'onehotencoded_cat105', 'onehotencoded_cat106', 'onehotencoded_cat107', 'onehotencoded_cat108', 'onehotencoded_cat109', 'onehotencoded_cat110', 'onehotencoded_cat111', 'onehotencoded_cat112', 'onehotencoded_cat113', 'onehotencoded_cat114', 'onehotencoded_cat115', 'onehotencoded_cat116']\n"
     ]
    },
    {
     "data": {
      "text/plain": [
       "130"
      ]
     },
     "execution_count": 23,
     "metadata": {},
     "output_type": "execute_result"
    }
   ],
   "source": [
    "featuresCols = int_columns + ohe_cols\n",
    "print(featuresCols)\n",
    "len(featuresCols)"
   ]
  },
  {
   "cell_type": "code",
   "execution_count": 25,
   "metadata": {},
   "outputs": [],
   "source": [
    "vectorassembler = VectorAssembler(\n",
    "                                  inputCols=featuresCols,\n",
    "                                  outputCol=\"rawFeatures\"\n",
    "                                 )"
   ]
  },
  {
   "cell_type": "code",
   "execution_count": 26,
   "metadata": {},
   "outputs": [
    {
     "data": {
      "text/plain": [
       "VectorAssembler_a51e0edbeb8e"
      ]
     },
     "execution_count": 26,
     "metadata": {},
     "output_type": "execute_result"
    }
   ],
   "source": [
    "vectorassembler"
   ]
  },
  {
   "cell_type": "code",
   "execution_count": null,
   "metadata": {},
   "outputs": [],
   "source": []
  },
  {
   "cell_type": "markdown",
   "metadata": {},
   "source": [
    "# Data splitting and modeling "
   ]
  },
  {
   "cell_type": "code",
   "execution_count": 27,
   "metadata": {},
   "outputs": [],
   "source": [
    "train, test = df.randomSplit([0.7, 0.3])"
   ]
  },
  {
   "cell_type": "code",
   "execution_count": 28,
   "metadata": {},
   "outputs": [
    {
     "data": {
      "text/plain": [
       "(131567, 56751)"
      ]
     },
     "execution_count": 28,
     "metadata": {},
     "output_type": "execute_result"
    }
   ],
   "source": [
    "train.count(), test.count()"
   ]
  },
  {
   "cell_type": "code",
   "execution_count": 29,
   "metadata": {},
   "outputs": [
    {
     "ename": "IndentationError",
     "evalue": "unexpected indent (<ipython-input-29-5da0aab24951>, line 5)",
     "output_type": "error",
     "traceback": [
      "\u001b[0;36m  File \u001b[0;32m\"<ipython-input-29-5da0aab24951>\"\u001b[0;36m, line \u001b[0;32m5\u001b[0m\n\u001b[0;31m    )\u001b[0m\n\u001b[0m    ^\u001b[0m\n\u001b[0;31mIndentationError\u001b[0m\u001b[0;31m:\u001b[0m unexpected indent\n"
     ]
    }
   ],
   "source": [
    "##scaler = StandardScaler(inputCol=\"rawFeatures\",\n",
    "##                        outputCol=\"scaledFeatures\",\n",
    "##                        withStd=True,\n",
    "##                        withMean=True\n",
    "                       )"
   ]
  },
  {
   "cell_type": "code",
   "execution_count": 30,
   "metadata": {},
   "outputs": [],
   "source": [
    "vectorindexer = VectorIndexer(inputCol=\"rawFeatures\",\n",
    "                              outputCol=\"features\",\n",
    "                              maxCategories=5       # Reindex, if no of distinct values less than 5\n",
    "                            )"
   ]
  },
  {
   "cell_type": "markdown",
   "metadata": {},
   "source": [
    "# Build Cross Validation Object on GBTRegressor Algorithm with Params and Metrics for Evaluator"
   ]
  },
  {
   "cell_type": "code",
   "execution_count": 32,
   "metadata": {},
   "outputs": [],
   "source": [
    "gbt = GBTRegressor(labelCol=\"loss\")"
   ]
  },
  {
   "cell_type": "code",
   "execution_count": 33,
   "metadata": {},
   "outputs": [],
   "source": [
    "paramGrid = ParamGridBuilder()\\\n",
    "                         .addGrid(gbt.maxDepth, [2, 5]) \\\n",
    "                         .addGrid(gbt.maxIter, [10, 100])\\\n",
    "                         .build()\n"
   ]
  },
  {
   "cell_type": "code",
   "execution_count": 34,
   "metadata": {},
   "outputs": [],
   "source": [
    "evaluator = RegressionEvaluator(\n",
    "                               metricName=\"rmse\",                   # This is default\n",
    "                               labelCol=\"loss\",          # Actual col value\n",
    "                               predictionCol=gbt.getPredictionCol() # predicted col value\n",
    "                               )"
   ]
  },
  {
   "cell_type": "code",
   "execution_count": 35,
   "metadata": {},
   "outputs": [],
   "source": [
    "cv = CrossValidator(estimator=gbt,\n",
    "                    evaluator=evaluator,\n",
    "                    estimatorParamMaps=paramGrid\n",
    "                    )"
   ]
  },
  {
   "cell_type": "markdown",
   "metadata": {},
   "source": [
    "# 9.2 Create pipeline model"
   ]
  },
  {
   "cell_type": "code",
   "execution_count": 36,
   "metadata": {},
   "outputs": [],
   "source": [
    "\n",
    "pipeline = Pipeline(stages=[*stringindexer_stages,*onehotencoder_stages,vectorassembler,vectorindexer, gbt])"
   ]
  },
  {
   "cell_type": "markdown",
   "metadata": {},
   "source": [
    "# Run the Pipeline"
   ]
  },
  {
   "cell_type": "code",
   "execution_count": 37,
   "metadata": {},
   "outputs": [
    {
     "data": {
      "text/plain": [
       "21.596311223506927"
      ]
     },
     "execution_count": 37,
     "metadata": {},
     "output_type": "execute_result"
    }
   ],
   "source": [
    "start = time.time()\n",
    "pipelineModel = pipeline.fit(train)\n",
    "end = time.time()\n",
    "(end - start)/60"
   ]
  },
  {
   "cell_type": "markdown",
   "metadata": {},
   "source": [
    "# Test Predictions & evaluation"
   ]
  },
  {
   "cell_type": "code",
   "execution_count": 38,
   "metadata": {},
   "outputs": [
    {
     "data": {
      "text/plain": [
       "pyspark.sql.dataframe.DataFrame"
      ]
     },
     "execution_count": 38,
     "metadata": {},
     "output_type": "execute_result"
    },
    {
     "data": {
      "text/plain": [
       "['cat1',\n",
       " 'cat2',\n",
       " 'cat3',\n",
       " 'cat4',\n",
       " 'cat5',\n",
       " 'cat6',\n",
       " 'cat7',\n",
       " 'cat8',\n",
       " 'cat9',\n",
       " 'cat10',\n",
       " 'cat11',\n",
       " 'cat12',\n",
       " 'cat13',\n",
       " 'cat14',\n",
       " 'cat15',\n",
       " 'cat16',\n",
       " 'cat17',\n",
       " 'cat18',\n",
       " 'cat19',\n",
       " 'cat20',\n",
       " 'cat21',\n",
       " 'cat22',\n",
       " 'cat23',\n",
       " 'cat24',\n",
       " 'cat25',\n",
       " 'cat26',\n",
       " 'cat27',\n",
       " 'cat28',\n",
       " 'cat29',\n",
       " 'cat30',\n",
       " 'cat31',\n",
       " 'cat32',\n",
       " 'cat33',\n",
       " 'cat34',\n",
       " 'cat35',\n",
       " 'cat36',\n",
       " 'cat37',\n",
       " 'cat38',\n",
       " 'cat39',\n",
       " 'cat40',\n",
       " 'cat41',\n",
       " 'cat42',\n",
       " 'cat43',\n",
       " 'cat44',\n",
       " 'cat45',\n",
       " 'cat46',\n",
       " 'cat47',\n",
       " 'cat48',\n",
       " 'cat49',\n",
       " 'cat50',\n",
       " 'cat51',\n",
       " 'cat52',\n",
       " 'cat53',\n",
       " 'cat54',\n",
       " 'cat55',\n",
       " 'cat56',\n",
       " 'cat57',\n",
       " 'cat58',\n",
       " 'cat59',\n",
       " 'cat60',\n",
       " 'cat61',\n",
       " 'cat62',\n",
       " 'cat63',\n",
       " 'cat64',\n",
       " 'cat65',\n",
       " 'cat66',\n",
       " 'cat67',\n",
       " 'cat68',\n",
       " 'cat69',\n",
       " 'cat70',\n",
       " 'cat71',\n",
       " 'cat72',\n",
       " 'cat73',\n",
       " 'cat74',\n",
       " 'cat75',\n",
       " 'cat76',\n",
       " 'cat77',\n",
       " 'cat78',\n",
       " 'cat79',\n",
       " 'cat80',\n",
       " 'cat81',\n",
       " 'cat82',\n",
       " 'cat83',\n",
       " 'cat84',\n",
       " 'cat85',\n",
       " 'cat86',\n",
       " 'cat87',\n",
       " 'cat88',\n",
       " 'cat89',\n",
       " 'cat90',\n",
       " 'cat91',\n",
       " 'cat92',\n",
       " 'cat93',\n",
       " 'cat94',\n",
       " 'cat95',\n",
       " 'cat96',\n",
       " 'cat97',\n",
       " 'cat98',\n",
       " 'cat99',\n",
       " 'cat100',\n",
       " 'cat101',\n",
       " 'cat102',\n",
       " 'cat103',\n",
       " 'cat104',\n",
       " 'cat105',\n",
       " 'cat106',\n",
       " 'cat107',\n",
       " 'cat108',\n",
       " 'cat109',\n",
       " 'cat110',\n",
       " 'cat111',\n",
       " 'cat112',\n",
       " 'cat113',\n",
       " 'cat114',\n",
       " 'cat115',\n",
       " 'cat116',\n",
       " 'cont1',\n",
       " 'cont2',\n",
       " 'cont3',\n",
       " 'cont4',\n",
       " 'cont5',\n",
       " 'cont6',\n",
       " 'cont7',\n",
       " 'cont8',\n",
       " 'cont9',\n",
       " 'cont10',\n",
       " 'cont11',\n",
       " 'cont12',\n",
       " 'cont13',\n",
       " 'cont14',\n",
       " 'loss',\n",
       " 'stringindexed_cat1',\n",
       " 'stringindexed_cat2',\n",
       " 'stringindexed_cat3',\n",
       " 'stringindexed_cat4',\n",
       " 'stringindexed_cat5',\n",
       " 'stringindexed_cat6',\n",
       " 'stringindexed_cat7',\n",
       " 'stringindexed_cat8',\n",
       " 'stringindexed_cat9',\n",
       " 'stringindexed_cat10',\n",
       " 'stringindexed_cat11',\n",
       " 'stringindexed_cat12',\n",
       " 'stringindexed_cat13',\n",
       " 'stringindexed_cat14',\n",
       " 'stringindexed_cat15',\n",
       " 'stringindexed_cat16',\n",
       " 'stringindexed_cat17',\n",
       " 'stringindexed_cat18',\n",
       " 'stringindexed_cat19',\n",
       " 'stringindexed_cat20',\n",
       " 'stringindexed_cat21',\n",
       " 'stringindexed_cat22',\n",
       " 'stringindexed_cat23',\n",
       " 'stringindexed_cat24',\n",
       " 'stringindexed_cat25',\n",
       " 'stringindexed_cat26',\n",
       " 'stringindexed_cat27',\n",
       " 'stringindexed_cat28',\n",
       " 'stringindexed_cat29',\n",
       " 'stringindexed_cat30',\n",
       " 'stringindexed_cat31',\n",
       " 'stringindexed_cat32',\n",
       " 'stringindexed_cat33',\n",
       " 'stringindexed_cat34',\n",
       " 'stringindexed_cat35',\n",
       " 'stringindexed_cat36',\n",
       " 'stringindexed_cat37',\n",
       " 'stringindexed_cat38',\n",
       " 'stringindexed_cat39',\n",
       " 'stringindexed_cat40',\n",
       " 'stringindexed_cat41',\n",
       " 'stringindexed_cat42',\n",
       " 'stringindexed_cat43',\n",
       " 'stringindexed_cat44',\n",
       " 'stringindexed_cat45',\n",
       " 'stringindexed_cat46',\n",
       " 'stringindexed_cat47',\n",
       " 'stringindexed_cat48',\n",
       " 'stringindexed_cat49',\n",
       " 'stringindexed_cat50',\n",
       " 'stringindexed_cat51',\n",
       " 'stringindexed_cat52',\n",
       " 'stringindexed_cat53',\n",
       " 'stringindexed_cat54',\n",
       " 'stringindexed_cat55',\n",
       " 'stringindexed_cat56',\n",
       " 'stringindexed_cat57',\n",
       " 'stringindexed_cat58',\n",
       " 'stringindexed_cat59',\n",
       " 'stringindexed_cat60',\n",
       " 'stringindexed_cat61',\n",
       " 'stringindexed_cat62',\n",
       " 'stringindexed_cat63',\n",
       " 'stringindexed_cat64',\n",
       " 'stringindexed_cat65',\n",
       " 'stringindexed_cat66',\n",
       " 'stringindexed_cat67',\n",
       " 'stringindexed_cat68',\n",
       " 'stringindexed_cat69',\n",
       " 'stringindexed_cat70',\n",
       " 'stringindexed_cat71',\n",
       " 'stringindexed_cat72',\n",
       " 'stringindexed_cat73',\n",
       " 'stringindexed_cat74',\n",
       " 'stringindexed_cat75',\n",
       " 'stringindexed_cat76',\n",
       " 'stringindexed_cat77',\n",
       " 'stringindexed_cat78',\n",
       " 'stringindexed_cat79',\n",
       " 'stringindexed_cat80',\n",
       " 'stringindexed_cat81',\n",
       " 'stringindexed_cat82',\n",
       " 'stringindexed_cat83',\n",
       " 'stringindexed_cat84',\n",
       " 'stringindexed_cat85',\n",
       " 'stringindexed_cat86',\n",
       " 'stringindexed_cat87',\n",
       " 'stringindexed_cat88',\n",
       " 'stringindexed_cat89',\n",
       " 'stringindexed_cat90',\n",
       " 'stringindexed_cat91',\n",
       " 'stringindexed_cat92',\n",
       " 'stringindexed_cat93',\n",
       " 'stringindexed_cat94',\n",
       " 'stringindexed_cat95',\n",
       " 'stringindexed_cat96',\n",
       " 'stringindexed_cat97',\n",
       " 'stringindexed_cat98',\n",
       " 'stringindexed_cat99',\n",
       " 'stringindexed_cat100',\n",
       " 'stringindexed_cat101',\n",
       " 'stringindexed_cat102',\n",
       " 'stringindexed_cat103',\n",
       " 'stringindexed_cat104',\n",
       " 'stringindexed_cat105',\n",
       " 'stringindexed_cat106',\n",
       " 'stringindexed_cat107',\n",
       " 'stringindexed_cat108',\n",
       " 'stringindexed_cat109',\n",
       " 'stringindexed_cat110',\n",
       " 'stringindexed_cat111',\n",
       " 'stringindexed_cat112',\n",
       " 'stringindexed_cat113',\n",
       " 'stringindexed_cat114',\n",
       " 'stringindexed_cat115',\n",
       " 'stringindexed_cat116',\n",
       " 'onehotencoded_cat3',\n",
       " 'onehotencoded_cat11',\n",
       " 'onehotencoded_cat16',\n",
       " 'onehotencoded_cat112',\n",
       " 'onehotencoded_cat66',\n",
       " 'onehotencoded_cat27',\n",
       " 'onehotencoded_cat101',\n",
       " 'onehotencoded_cat92',\n",
       " 'onehotencoded_cat84',\n",
       " 'onehotencoded_cat100',\n",
       " 'onehotencoded_cat55',\n",
       " 'onehotencoded_cat95',\n",
       " 'onehotencoded_cat44',\n",
       " 'onehotencoded_cat1',\n",
       " 'onehotencoded_cat81',\n",
       " 'onehotencoded_cat116',\n",
       " 'onehotencoded_cat77',\n",
       " 'onehotencoded_cat22',\n",
       " 'onehotencoded_cat105',\n",
       " 'onehotencoded_cat48',\n",
       " 'onehotencoded_cat106',\n",
       " 'onehotencoded_cat88',\n",
       " 'onehotencoded_cat37',\n",
       " 'onehotencoded_cat32',\n",
       " 'onehotencoded_cat99',\n",
       " 'onehotencoded_cat21',\n",
       " 'onehotencoded_cat73',\n",
       " 'onehotencoded_cat70',\n",
       " 'onehotencoded_cat59',\n",
       " 'onehotencoded_cat28',\n",
       " 'onehotencoded_cat91',\n",
       " 'onehotencoded_cat96',\n",
       " 'onehotencoded_cat17',\n",
       " 'onehotencoded_cat80',\n",
       " 'onehotencoded_cat67',\n",
       " 'onehotencoded_cat69',\n",
       " 'onehotencoded_cat85',\n",
       " 'onehotencoded_cat10',\n",
       " 'onehotencoded_cat58',\n",
       " 'onehotencoded_cat78',\n",
       " 'onehotencoded_cat56',\n",
       " 'onehotencoded_cat6',\n",
       " 'onehotencoded_cat45',\n",
       " 'onehotencoded_cat42',\n",
       " 'onehotencoded_cat36',\n",
       " 'onehotencoded_cat52',\n",
       " 'onehotencoded_cat41',\n",
       " 'onehotencoded_cat47',\n",
       " 'onehotencoded_cat7',\n",
       " 'onehotencoded_cat35',\n",
       " 'onehotencoded_cat102',\n",
       " 'onehotencoded_cat24',\n",
       " 'onehotencoded_cat63',\n",
       " 'onehotencoded_cat89',\n",
       " 'onehotencoded_cat113',\n",
       " 'onehotencoded_cat74',\n",
       " 'onehotencoded_cat79',\n",
       " 'onehotencoded_cat68',\n",
       " 'onehotencoded_cat29',\n",
       " 'onehotencoded_cat90',\n",
       " 'onehotencoded_cat50',\n",
       " 'onehotencoded_cat108',\n",
       " 'onehotencoded_cat86',\n",
       " 'onehotencoded_cat18',\n",
       " 'onehotencoded_cat46',\n",
       " 'onehotencoded_cat13',\n",
       " 'onehotencoded_cat25',\n",
       " 'onehotencoded_cat5',\n",
       " 'onehotencoded_cat57',\n",
       " 'onehotencoded_cat97',\n",
       " 'onehotencoded_cat14',\n",
       " 'onehotencoded_cat31',\n",
       " 'onehotencoded_cat20',\n",
       " 'onehotencoded_cat12',\n",
       " 'onehotencoded_cat103',\n",
       " 'onehotencoded_cat109',\n",
       " 'onehotencoded_cat93',\n",
       " 'onehotencoded_cat53',\n",
       " 'onehotencoded_cat23',\n",
       " 'onehotencoded_cat64',\n",
       " 'onehotencoded_cat114',\n",
       " 'onehotencoded_cat75',\n",
       " 'onehotencoded_cat39',\n",
       " 'onehotencoded_cat8',\n",
       " 'onehotencoded_cat34',\n",
       " 'onehotencoded_cat51',\n",
       " 'onehotencoded_cat49',\n",
       " 'onehotencoded_cat40',\n",
       " 'onehotencoded_cat38',\n",
       " 'onehotencoded_cat110',\n",
       " 'onehotencoded_cat15',\n",
       " 'onehotencoded_cat4',\n",
       " 'onehotencoded_cat43',\n",
       " 'onehotencoded_cat76',\n",
       " 'onehotencoded_cat107',\n",
       " 'onehotencoded_cat26',\n",
       " 'onehotencoded_cat62',\n",
       " 'onehotencoded_cat54',\n",
       " 'onehotencoded_cat2',\n",
       " 'onehotencoded_cat82',\n",
       " 'onehotencoded_cat65',\n",
       " 'onehotencoded_cat60',\n",
       " 'onehotencoded_cat83',\n",
       " 'onehotencoded_cat71',\n",
       " 'onehotencoded_cat72',\n",
       " 'onehotencoded_cat9',\n",
       " 'onehotencoded_cat33',\n",
       " 'onehotencoded_cat94',\n",
       " 'onehotencoded_cat61',\n",
       " 'onehotencoded_cat30',\n",
       " 'onehotencoded_cat111',\n",
       " 'onehotencoded_cat87',\n",
       " 'onehotencoded_cat115',\n",
       " 'onehotencoded_cat19',\n",
       " 'onehotencoded_cat104',\n",
       " 'onehotencoded_cat98',\n",
       " 'rawFeatures',\n",
       " 'features',\n",
       " 'prediction']"
      ]
     },
     "execution_count": 38,
     "metadata": {},
     "output_type": "execute_result"
    }
   ],
   "source": [
    "TestPred = pipelineModel.transform(test)\n",
    "type(TestPred)               # Spark Dataframe\n",
    "TestPred.columns"
   ]
  },
  {
   "cell_type": "code",
   "execution_count": 40,
   "metadata": {},
   "outputs": [
    {
     "name": "stdout",
     "output_type": "stream",
     "text": [
      "+--------+------------------+--------------------+--------------------+\n",
      "|    loss|        prediction|         rawFeatures|            features|\n",
      "+--------+------------------+--------------------+--------------------+\n",
      "|13060.49|3852.4314130148123|(1002,[0,1,2,3,4,...|(1002,[0,1,2,3,4,...|\n",
      "|  1736.8|3695.1504840652365|(1002,[0,1,2,3,4,...|(1002,[0,1,2,3,4,...|\n",
      "| 2377.72| 2438.393046529025|(1002,[0,1,2,3,4,...|(1002,[0,1,2,3,4,...|\n",
      "| 1347.16|3415.5908951531414|(1002,[0,1,2,3,4,...|(1002,[0,1,2,3,4,...|\n",
      "+--------+------------------+--------------------+--------------------+\n",
      "only showing top 4 rows\n",
      "\n"
     ]
    }
   ],
   "source": [
    "\n",
    "TestPred.select(\"loss\", \"prediction\",\"rawFeatures\",\"features\").show(4)"
   ]
  },
  {
   "cell_type": "markdown",
   "metadata": {},
   "source": [
    "# Evaluate results"
   ]
  },
  {
   "cell_type": "code",
   "execution_count": 41,
   "metadata": {},
   "outputs": [],
   "source": [
    "# Ref: http://spark.apache.org/docs/2.2.0/api/python/pyspark.ml.html#pyspark.ml.evaluation.RegressionEvaluator\n",
    "# Create evaluator object.  class is, as:\n",
    "#  RegressionEvaluator(self, predictionCol=\"prediction\", labelCol=\"label\", metricName=\"rmse\")\n",
    "# 10.4\n",
    "eval = RegressionEvaluator(predictionCol=\"prediction\",\n",
    "                           labelCol = 'loss',\n",
    "                            metricName=\"rmse\"\n",
    "                          )"
   ]
  },
  {
   "cell_type": "code",
   "execution_count": 42,
   "metadata": {},
   "outputs": [
    {
     "data": {
      "text/plain": [
       "RegressionEvaluator_f2719243033a"
      ]
     },
     "execution_count": 42,
     "metadata": {},
     "output_type": "execute_result"
    }
   ],
   "source": [
    "eval"
   ]
  },
  {
   "cell_type": "code",
   "execution_count": 43,
   "metadata": {},
   "outputs": [
    {
     "ename": "Py4JJavaError",
     "evalue": "An error occurred while calling o7429.evaluate.\n: org.apache.spark.SparkException: Job aborted due to stage failure: Task 1 in stage 529.0 failed 1 times, most recent failure: Lost task 1.0 in stage 529.0 (TID 2027, localhost, executor driver): org.apache.spark.SparkException: Failed to execute user defined function($anonfun$9: (string) => double)\n\tat org.apache.spark.sql.catalyst.expressions.GeneratedClass$SpecificUnsafeProjection.writeFields_0_12$(Unknown Source)\n\tat org.apache.spark.sql.catalyst.expressions.GeneratedClass$SpecificUnsafeProjection.apply(Unknown Source)\n\tat org.apache.spark.sql.catalyst.expressions.GeneratedClass$SpecificUnsafeProjection.apply(Unknown Source)\n\tat scala.collection.Iterator$$anon$11.next(Iterator.scala:410)\n\tat scala.collection.Iterator$$anon$11.next(Iterator.scala:410)\n\tat org.apache.spark.sql.catalyst.expressions.GeneratedClass$GeneratedIteratorForCodegenStage1.processNext(Unknown Source)\n\tat org.apache.spark.sql.execution.BufferedRowIterator.hasNext(BufferedRowIterator.java:43)\n\tat org.apache.spark.sql.execution.WholeStageCodegenExec$$anonfun$13$$anon$1.hasNext(WholeStageCodegenExec.scala:636)\n\tat scala.collection.Iterator$$anon$11.hasNext(Iterator.scala:409)\n\tat scala.collection.Iterator$$anon$11.hasNext(Iterator.scala:409)\n\tat scala.collection.Iterator$$anon$11.hasNext(Iterator.scala:409)\n\tat scala.collection.Iterator$$anon$11.hasNext(Iterator.scala:409)\n\tat scala.collection.Iterator$class.foreach(Iterator.scala:891)\n\tat scala.collection.AbstractIterator.foreach(Iterator.scala:1334)\n\tat scala.collection.TraversableOnce$class.foldLeft(TraversableOnce.scala:157)\n\tat scala.collection.AbstractIterator.foldLeft(Iterator.scala:1334)\n\tat scala.collection.TraversableOnce$class.aggregate(TraversableOnce.scala:214)\n\tat scala.collection.AbstractIterator.aggregate(Iterator.scala:1334)\n\tat org.apache.spark.rdd.RDD$$anonfun$treeAggregate$1$$anonfun$24.apply(RDD.scala:1145)\n\tat org.apache.spark.rdd.RDD$$anonfun$treeAggregate$1$$anonfun$24.apply(RDD.scala:1145)\n\tat org.apache.spark.rdd.RDD$$anonfun$treeAggregate$1$$anonfun$25.apply(RDD.scala:1146)\n\tat org.apache.spark.rdd.RDD$$anonfun$treeAggregate$1$$anonfun$25.apply(RDD.scala:1146)\n\tat org.apache.spark.rdd.RDD$$anonfun$mapPartitions$1$$anonfun$apply$23.apply(RDD.scala:801)\n\tat org.apache.spark.rdd.RDD$$anonfun$mapPartitions$1$$anonfun$apply$23.apply(RDD.scala:801)\n\tat org.apache.spark.rdd.MapPartitionsRDD.compute(MapPartitionsRDD.scala:52)\n\tat org.apache.spark.rdd.RDD.computeOrReadCheckpoint(RDD.scala:324)\n\tat org.apache.spark.rdd.RDD.iterator(RDD.scala:288)\n\tat org.apache.spark.scheduler.ResultTask.runTask(ResultTask.scala:90)\n\tat org.apache.spark.scheduler.Task.run(Task.scala:121)\n\tat org.apache.spark.executor.Executor$TaskRunner$$anonfun$10.apply(Executor.scala:408)\n\tat org.apache.spark.util.Utils$.tryWithSafeFinally(Utils.scala:1360)\n\tat org.apache.spark.executor.Executor$TaskRunner.run(Executor.scala:414)\n\tat java.util.concurrent.ThreadPoolExecutor.runWorker(ThreadPoolExecutor.java:1149)\n\tat java.util.concurrent.ThreadPoolExecutor$Worker.run(ThreadPoolExecutor.java:624)\n\tat java.lang.Thread.run(Thread.java:748)\nCaused by: org.apache.spark.SparkException: Unseen label: AS.  To handle unseen labels, set Param handleInvalid to keep.\n\tat org.apache.spark.ml.feature.StringIndexerModel$$anonfun$9.apply(StringIndexer.scala:260)\n\tat org.apache.spark.ml.feature.StringIndexerModel$$anonfun$9.apply(StringIndexer.scala:246)\n\t... 35 more\n\nDriver stacktrace:\n\tat org.apache.spark.scheduler.DAGScheduler.org$apache$spark$scheduler$DAGScheduler$$failJobAndIndependentStages(DAGScheduler.scala:1889)\n\tat org.apache.spark.scheduler.DAGScheduler$$anonfun$abortStage$1.apply(DAGScheduler.scala:1877)\n\tat org.apache.spark.scheduler.DAGScheduler$$anonfun$abortStage$1.apply(DAGScheduler.scala:1876)\n\tat scala.collection.mutable.ResizableArray$class.foreach(ResizableArray.scala:59)\n\tat scala.collection.mutable.ArrayBuffer.foreach(ArrayBuffer.scala:48)\n\tat org.apache.spark.scheduler.DAGScheduler.abortStage(DAGScheduler.scala:1876)\n\tat org.apache.spark.scheduler.DAGScheduler$$anonfun$handleTaskSetFailed$1.apply(DAGScheduler.scala:926)\n\tat org.apache.spark.scheduler.DAGScheduler$$anonfun$handleTaskSetFailed$1.apply(DAGScheduler.scala:926)\n\tat scala.Option.foreach(Option.scala:257)\n\tat org.apache.spark.scheduler.DAGScheduler.handleTaskSetFailed(DAGScheduler.scala:926)\n\tat org.apache.spark.scheduler.DAGSchedulerEventProcessLoop.doOnReceive(DAGScheduler.scala:2110)\n\tat org.apache.spark.scheduler.DAGSchedulerEventProcessLoop.onReceive(DAGScheduler.scala:2059)\n\tat org.apache.spark.scheduler.DAGSchedulerEventProcessLoop.onReceive(DAGScheduler.scala:2048)\n\tat org.apache.spark.util.EventLoop$$anon$1.run(EventLoop.scala:49)\n\tat org.apache.spark.scheduler.DAGScheduler.runJob(DAGScheduler.scala:737)\n\tat org.apache.spark.SparkContext.runJob(SparkContext.scala:2061)\n\tat org.apache.spark.SparkContext.runJob(SparkContext.scala:2158)\n\tat org.apache.spark.rdd.RDD$$anonfun$fold$1.apply(RDD.scala:1098)\n\tat org.apache.spark.rdd.RDDOperationScope$.withScope(RDDOperationScope.scala:151)\n\tat org.apache.spark.rdd.RDDOperationScope$.withScope(RDDOperationScope.scala:112)\n\tat org.apache.spark.rdd.RDD.withScope(RDD.scala:363)\n\tat org.apache.spark.rdd.RDD.fold(RDD.scala:1092)\n\tat org.apache.spark.rdd.RDD$$anonfun$treeAggregate$1.apply(RDD.scala:1161)\n\tat org.apache.spark.rdd.RDDOperationScope$.withScope(RDDOperationScope.scala:151)\n\tat org.apache.spark.rdd.RDDOperationScope$.withScope(RDDOperationScope.scala:112)\n\tat org.apache.spark.rdd.RDD.withScope(RDD.scala:363)\n\tat org.apache.spark.rdd.RDD.treeAggregate(RDD.scala:1137)\n\tat org.apache.spark.mllib.evaluation.RegressionMetrics.summary$lzycompute(RegressionMetrics.scala:57)\n\tat org.apache.spark.mllib.evaluation.RegressionMetrics.summary(RegressionMetrics.scala:54)\n\tat org.apache.spark.mllib.evaluation.RegressionMetrics.SSerr$lzycompute(RegressionMetrics.scala:65)\n\tat org.apache.spark.mllib.evaluation.RegressionMetrics.SSerr(RegressionMetrics.scala:65)\n\tat org.apache.spark.mllib.evaluation.RegressionMetrics.meanSquaredError(RegressionMetrics.scala:100)\n\tat org.apache.spark.mllib.evaluation.RegressionMetrics.rootMeanSquaredError(RegressionMetrics.scala:109)\n\tat org.apache.spark.ml.evaluation.RegressionEvaluator.evaluate(RegressionEvaluator.scala:86)\n\tat sun.reflect.NativeMethodAccessorImpl.invoke0(Native Method)\n\tat sun.reflect.NativeMethodAccessorImpl.invoke(NativeMethodAccessorImpl.java:62)\n\tat sun.reflect.DelegatingMethodAccessorImpl.invoke(DelegatingMethodAccessorImpl.java:43)\n\tat java.lang.reflect.Method.invoke(Method.java:498)\n\tat py4j.reflection.MethodInvoker.invoke(MethodInvoker.java:244)\n\tat py4j.reflection.ReflectionEngine.invoke(ReflectionEngine.java:357)\n\tat py4j.Gateway.invoke(Gateway.java:282)\n\tat py4j.commands.AbstractCommand.invokeMethod(AbstractCommand.java:132)\n\tat py4j.commands.CallCommand.execute(CallCommand.java:79)\n\tat py4j.GatewayConnection.run(GatewayConnection.java:238)\n\tat java.lang.Thread.run(Thread.java:748)\nCaused by: org.apache.spark.SparkException: Failed to execute user defined function($anonfun$9: (string) => double)\n\tat org.apache.spark.sql.catalyst.expressions.GeneratedClass$SpecificUnsafeProjection.writeFields_0_12$(Unknown Source)\n\tat org.apache.spark.sql.catalyst.expressions.GeneratedClass$SpecificUnsafeProjection.apply(Unknown Source)\n\tat org.apache.spark.sql.catalyst.expressions.GeneratedClass$SpecificUnsafeProjection.apply(Unknown Source)\n\tat scala.collection.Iterator$$anon$11.next(Iterator.scala:410)\n\tat scala.collection.Iterator$$anon$11.next(Iterator.scala:410)\n\tat org.apache.spark.sql.catalyst.expressions.GeneratedClass$GeneratedIteratorForCodegenStage1.processNext(Unknown Source)\n\tat org.apache.spark.sql.execution.BufferedRowIterator.hasNext(BufferedRowIterator.java:43)\n\tat org.apache.spark.sql.execution.WholeStageCodegenExec$$anonfun$13$$anon$1.hasNext(WholeStageCodegenExec.scala:636)\n\tat scala.collection.Iterator$$anon$11.hasNext(Iterator.scala:409)\n\tat scala.collection.Iterator$$anon$11.hasNext(Iterator.scala:409)\n\tat scala.collection.Iterator$$anon$11.hasNext(Iterator.scala:409)\n\tat scala.collection.Iterator$$anon$11.hasNext(Iterator.scala:409)\n\tat scala.collection.Iterator$class.foreach(Iterator.scala:891)\n\tat scala.collection.AbstractIterator.foreach(Iterator.scala:1334)\n\tat scala.collection.TraversableOnce$class.foldLeft(TraversableOnce.scala:157)\n\tat scala.collection.AbstractIterator.foldLeft(Iterator.scala:1334)\n\tat scala.collection.TraversableOnce$class.aggregate(TraversableOnce.scala:214)\n\tat scala.collection.AbstractIterator.aggregate(Iterator.scala:1334)\n\tat org.apache.spark.rdd.RDD$$anonfun$treeAggregate$1$$anonfun$24.apply(RDD.scala:1145)\n\tat org.apache.spark.rdd.RDD$$anonfun$treeAggregate$1$$anonfun$24.apply(RDD.scala:1145)\n\tat org.apache.spark.rdd.RDD$$anonfun$treeAggregate$1$$anonfun$25.apply(RDD.scala:1146)\n\tat org.apache.spark.rdd.RDD$$anonfun$treeAggregate$1$$anonfun$25.apply(RDD.scala:1146)\n\tat org.apache.spark.rdd.RDD$$anonfun$mapPartitions$1$$anonfun$apply$23.apply(RDD.scala:801)\n\tat org.apache.spark.rdd.RDD$$anonfun$mapPartitions$1$$anonfun$apply$23.apply(RDD.scala:801)\n\tat org.apache.spark.rdd.MapPartitionsRDD.compute(MapPartitionsRDD.scala:52)\n\tat org.apache.spark.rdd.RDD.computeOrReadCheckpoint(RDD.scala:324)\n\tat org.apache.spark.rdd.RDD.iterator(RDD.scala:288)\n\tat org.apache.spark.scheduler.ResultTask.runTask(ResultTask.scala:90)\n\tat org.apache.spark.scheduler.Task.run(Task.scala:121)\n\tat org.apache.spark.executor.Executor$TaskRunner$$anonfun$10.apply(Executor.scala:408)\n\tat org.apache.spark.util.Utils$.tryWithSafeFinally(Utils.scala:1360)\n\tat org.apache.spark.executor.Executor$TaskRunner.run(Executor.scala:414)\n\tat java.util.concurrent.ThreadPoolExecutor.runWorker(ThreadPoolExecutor.java:1149)\n\tat java.util.concurrent.ThreadPoolExecutor$Worker.run(ThreadPoolExecutor.java:624)\n\t... 1 more\nCaused by: org.apache.spark.SparkException: Unseen label: AS.  To handle unseen labels, set Param handleInvalid to keep.\n\tat org.apache.spark.ml.feature.StringIndexerModel$$anonfun$9.apply(StringIndexer.scala:260)\n\tat org.apache.spark.ml.feature.StringIndexerModel$$anonfun$9.apply(StringIndexer.scala:246)\n\t... 35 more\n",
     "output_type": "error",
     "traceback": [
      "\u001b[0;31m---------------------------------------------------------------------------\u001b[0m",
      "\u001b[0;31mPy4JJavaError\u001b[0m                             Traceback (most recent call last)",
      "\u001b[0;32m<ipython-input-43-a65c15c4687a>\u001b[0m in \u001b[0;36m<module>\u001b[0;34m\u001b[0m\n\u001b[0;32m----> 1\u001b[0;31m \u001b[0mRMSE\u001b[0m \u001b[0;34m=\u001b[0m \u001b[0meval\u001b[0m\u001b[0;34m.\u001b[0m\u001b[0mevaluate\u001b[0m\u001b[0;34m(\u001b[0m\u001b[0mTestPred\u001b[0m\u001b[0;34m)\u001b[0m\u001b[0;34m\u001b[0m\u001b[0;34m\u001b[0m\u001b[0m\n\u001b[0m\u001b[1;32m      2\u001b[0m \u001b[0;31m# 10.6\u001b[0m\u001b[0;34m\u001b[0m\u001b[0;34m\u001b[0m\u001b[0;34m\u001b[0m\u001b[0m\n\u001b[1;32m      3\u001b[0m \u001b[0mprint\u001b[0m \u001b[0;34m(\u001b[0m\u001b[0;34m\"RMSE on our test set: %g\"\u001b[0m \u001b[0;34m%\u001b[0m \u001b[0mRMSE\u001b[0m\u001b[0;34m)\u001b[0m\u001b[0;34m\u001b[0m\u001b[0;34m\u001b[0m\u001b[0m\n",
      "\u001b[0;32m/opt/spark-2.4.3-bin-hadoop2.7/python/pyspark/ml/evaluation.py\u001b[0m in \u001b[0;36mevaluate\u001b[0;34m(self, dataset, params)\u001b[0m\n\u001b[1;32m     69\u001b[0m                 \u001b[0;32mreturn\u001b[0m \u001b[0mself\u001b[0m\u001b[0;34m.\u001b[0m\u001b[0mcopy\u001b[0m\u001b[0;34m(\u001b[0m\u001b[0mparams\u001b[0m\u001b[0;34m)\u001b[0m\u001b[0;34m.\u001b[0m\u001b[0m_evaluate\u001b[0m\u001b[0;34m(\u001b[0m\u001b[0mdataset\u001b[0m\u001b[0;34m)\u001b[0m\u001b[0;34m\u001b[0m\u001b[0;34m\u001b[0m\u001b[0m\n\u001b[1;32m     70\u001b[0m             \u001b[0;32melse\u001b[0m\u001b[0;34m:\u001b[0m\u001b[0;34m\u001b[0m\u001b[0;34m\u001b[0m\u001b[0m\n\u001b[0;32m---> 71\u001b[0;31m                 \u001b[0;32mreturn\u001b[0m \u001b[0mself\u001b[0m\u001b[0;34m.\u001b[0m\u001b[0m_evaluate\u001b[0m\u001b[0;34m(\u001b[0m\u001b[0mdataset\u001b[0m\u001b[0;34m)\u001b[0m\u001b[0;34m\u001b[0m\u001b[0;34m\u001b[0m\u001b[0m\n\u001b[0m\u001b[1;32m     72\u001b[0m         \u001b[0;32melse\u001b[0m\u001b[0;34m:\u001b[0m\u001b[0;34m\u001b[0m\u001b[0;34m\u001b[0m\u001b[0m\n\u001b[1;32m     73\u001b[0m             \u001b[0;32mraise\u001b[0m \u001b[0mValueError\u001b[0m\u001b[0;34m(\u001b[0m\u001b[0;34m\"Params must be a param map but got %s.\"\u001b[0m \u001b[0;34m%\u001b[0m \u001b[0mtype\u001b[0m\u001b[0;34m(\u001b[0m\u001b[0mparams\u001b[0m\u001b[0;34m)\u001b[0m\u001b[0;34m)\u001b[0m\u001b[0;34m\u001b[0m\u001b[0;34m\u001b[0m\u001b[0m\n",
      "\u001b[0;32m/opt/spark-2.4.3-bin-hadoop2.7/python/pyspark/ml/evaluation.py\u001b[0m in \u001b[0;36m_evaluate\u001b[0;34m(self, dataset)\u001b[0m\n\u001b[1;32m     99\u001b[0m         \"\"\"\n\u001b[1;32m    100\u001b[0m         \u001b[0mself\u001b[0m\u001b[0;34m.\u001b[0m\u001b[0m_transfer_params_to_java\u001b[0m\u001b[0;34m(\u001b[0m\u001b[0;34m)\u001b[0m\u001b[0;34m\u001b[0m\u001b[0;34m\u001b[0m\u001b[0m\n\u001b[0;32m--> 101\u001b[0;31m         \u001b[0;32mreturn\u001b[0m \u001b[0mself\u001b[0m\u001b[0;34m.\u001b[0m\u001b[0m_java_obj\u001b[0m\u001b[0;34m.\u001b[0m\u001b[0mevaluate\u001b[0m\u001b[0;34m(\u001b[0m\u001b[0mdataset\u001b[0m\u001b[0;34m.\u001b[0m\u001b[0m_jdf\u001b[0m\u001b[0;34m)\u001b[0m\u001b[0;34m\u001b[0m\u001b[0;34m\u001b[0m\u001b[0m\n\u001b[0m\u001b[1;32m    102\u001b[0m \u001b[0;34m\u001b[0m\u001b[0m\n\u001b[1;32m    103\u001b[0m     \u001b[0;32mdef\u001b[0m \u001b[0misLargerBetter\u001b[0m\u001b[0;34m(\u001b[0m\u001b[0mself\u001b[0m\u001b[0;34m)\u001b[0m\u001b[0;34m:\u001b[0m\u001b[0;34m\u001b[0m\u001b[0;34m\u001b[0m\u001b[0m\n",
      "\u001b[0;32m/opt/spark-2.4.3-bin-hadoop2.7/python/lib/py4j-0.10.7-src.zip/py4j/java_gateway.py\u001b[0m in \u001b[0;36m__call__\u001b[0;34m(self, *args)\u001b[0m\n\u001b[1;32m   1255\u001b[0m         \u001b[0manswer\u001b[0m \u001b[0;34m=\u001b[0m \u001b[0mself\u001b[0m\u001b[0;34m.\u001b[0m\u001b[0mgateway_client\u001b[0m\u001b[0;34m.\u001b[0m\u001b[0msend_command\u001b[0m\u001b[0;34m(\u001b[0m\u001b[0mcommand\u001b[0m\u001b[0;34m)\u001b[0m\u001b[0;34m\u001b[0m\u001b[0;34m\u001b[0m\u001b[0m\n\u001b[1;32m   1256\u001b[0m         return_value = get_return_value(\n\u001b[0;32m-> 1257\u001b[0;31m             answer, self.gateway_client, self.target_id, self.name)\n\u001b[0m\u001b[1;32m   1258\u001b[0m \u001b[0;34m\u001b[0m\u001b[0m\n\u001b[1;32m   1259\u001b[0m         \u001b[0;32mfor\u001b[0m \u001b[0mtemp_arg\u001b[0m \u001b[0;32min\u001b[0m \u001b[0mtemp_args\u001b[0m\u001b[0;34m:\u001b[0m\u001b[0;34m\u001b[0m\u001b[0;34m\u001b[0m\u001b[0m\n",
      "\u001b[0;32m/opt/spark-2.4.3-bin-hadoop2.7/python/pyspark/sql/utils.py\u001b[0m in \u001b[0;36mdeco\u001b[0;34m(*a, **kw)\u001b[0m\n\u001b[1;32m     61\u001b[0m     \u001b[0;32mdef\u001b[0m \u001b[0mdeco\u001b[0m\u001b[0;34m(\u001b[0m\u001b[0;34m*\u001b[0m\u001b[0ma\u001b[0m\u001b[0;34m,\u001b[0m \u001b[0;34m**\u001b[0m\u001b[0mkw\u001b[0m\u001b[0;34m)\u001b[0m\u001b[0;34m:\u001b[0m\u001b[0;34m\u001b[0m\u001b[0;34m\u001b[0m\u001b[0m\n\u001b[1;32m     62\u001b[0m         \u001b[0;32mtry\u001b[0m\u001b[0;34m:\u001b[0m\u001b[0;34m\u001b[0m\u001b[0;34m\u001b[0m\u001b[0m\n\u001b[0;32m---> 63\u001b[0;31m             \u001b[0;32mreturn\u001b[0m \u001b[0mf\u001b[0m\u001b[0;34m(\u001b[0m\u001b[0;34m*\u001b[0m\u001b[0ma\u001b[0m\u001b[0;34m,\u001b[0m \u001b[0;34m**\u001b[0m\u001b[0mkw\u001b[0m\u001b[0;34m)\u001b[0m\u001b[0;34m\u001b[0m\u001b[0;34m\u001b[0m\u001b[0m\n\u001b[0m\u001b[1;32m     64\u001b[0m         \u001b[0;32mexcept\u001b[0m \u001b[0mpy4j\u001b[0m\u001b[0;34m.\u001b[0m\u001b[0mprotocol\u001b[0m\u001b[0;34m.\u001b[0m\u001b[0mPy4JJavaError\u001b[0m \u001b[0;32mas\u001b[0m \u001b[0me\u001b[0m\u001b[0;34m:\u001b[0m\u001b[0;34m\u001b[0m\u001b[0;34m\u001b[0m\u001b[0m\n\u001b[1;32m     65\u001b[0m             \u001b[0ms\u001b[0m \u001b[0;34m=\u001b[0m \u001b[0me\u001b[0m\u001b[0;34m.\u001b[0m\u001b[0mjava_exception\u001b[0m\u001b[0;34m.\u001b[0m\u001b[0mtoString\u001b[0m\u001b[0;34m(\u001b[0m\u001b[0;34m)\u001b[0m\u001b[0;34m\u001b[0m\u001b[0;34m\u001b[0m\u001b[0m\n",
      "\u001b[0;32m/opt/spark-2.4.3-bin-hadoop2.7/python/lib/py4j-0.10.7-src.zip/py4j/protocol.py\u001b[0m in \u001b[0;36mget_return_value\u001b[0;34m(answer, gateway_client, target_id, name)\u001b[0m\n\u001b[1;32m    326\u001b[0m                 raise Py4JJavaError(\n\u001b[1;32m    327\u001b[0m                     \u001b[0;34m\"An error occurred while calling {0}{1}{2}.\\n\"\u001b[0m\u001b[0;34m.\u001b[0m\u001b[0;34m\u001b[0m\u001b[0;34m\u001b[0m\u001b[0m\n\u001b[0;32m--> 328\u001b[0;31m                     format(target_id, \".\", name), value)\n\u001b[0m\u001b[1;32m    329\u001b[0m             \u001b[0;32melse\u001b[0m\u001b[0;34m:\u001b[0m\u001b[0;34m\u001b[0m\u001b[0;34m\u001b[0m\u001b[0m\n\u001b[1;32m    330\u001b[0m                 raise Py4JError(\n",
      "\u001b[0;31mPy4JJavaError\u001b[0m: An error occurred while calling o7429.evaluate.\n: org.apache.spark.SparkException: Job aborted due to stage failure: Task 1 in stage 529.0 failed 1 times, most recent failure: Lost task 1.0 in stage 529.0 (TID 2027, localhost, executor driver): org.apache.spark.SparkException: Failed to execute user defined function($anonfun$9: (string) => double)\n\tat org.apache.spark.sql.catalyst.expressions.GeneratedClass$SpecificUnsafeProjection.writeFields_0_12$(Unknown Source)\n\tat org.apache.spark.sql.catalyst.expressions.GeneratedClass$SpecificUnsafeProjection.apply(Unknown Source)\n\tat org.apache.spark.sql.catalyst.expressions.GeneratedClass$SpecificUnsafeProjection.apply(Unknown Source)\n\tat scala.collection.Iterator$$anon$11.next(Iterator.scala:410)\n\tat scala.collection.Iterator$$anon$11.next(Iterator.scala:410)\n\tat org.apache.spark.sql.catalyst.expressions.GeneratedClass$GeneratedIteratorForCodegenStage1.processNext(Unknown Source)\n\tat org.apache.spark.sql.execution.BufferedRowIterator.hasNext(BufferedRowIterator.java:43)\n\tat org.apache.spark.sql.execution.WholeStageCodegenExec$$anonfun$13$$anon$1.hasNext(WholeStageCodegenExec.scala:636)\n\tat scala.collection.Iterator$$anon$11.hasNext(Iterator.scala:409)\n\tat scala.collection.Iterator$$anon$11.hasNext(Iterator.scala:409)\n\tat scala.collection.Iterator$$anon$11.hasNext(Iterator.scala:409)\n\tat scala.collection.Iterator$$anon$11.hasNext(Iterator.scala:409)\n\tat scala.collection.Iterator$class.foreach(Iterator.scala:891)\n\tat scala.collection.AbstractIterator.foreach(Iterator.scala:1334)\n\tat scala.collection.TraversableOnce$class.foldLeft(TraversableOnce.scala:157)\n\tat scala.collection.AbstractIterator.foldLeft(Iterator.scala:1334)\n\tat scala.collection.TraversableOnce$class.aggregate(TraversableOnce.scala:214)\n\tat scala.collection.AbstractIterator.aggregate(Iterator.scala:1334)\n\tat org.apache.spark.rdd.RDD$$anonfun$treeAggregate$1$$anonfun$24.apply(RDD.scala:1145)\n\tat org.apache.spark.rdd.RDD$$anonfun$treeAggregate$1$$anonfun$24.apply(RDD.scala:1145)\n\tat org.apache.spark.rdd.RDD$$anonfun$treeAggregate$1$$anonfun$25.apply(RDD.scala:1146)\n\tat org.apache.spark.rdd.RDD$$anonfun$treeAggregate$1$$anonfun$25.apply(RDD.scala:1146)\n\tat org.apache.spark.rdd.RDD$$anonfun$mapPartitions$1$$anonfun$apply$23.apply(RDD.scala:801)\n\tat org.apache.spark.rdd.RDD$$anonfun$mapPartitions$1$$anonfun$apply$23.apply(RDD.scala:801)\n\tat org.apache.spark.rdd.MapPartitionsRDD.compute(MapPartitionsRDD.scala:52)\n\tat org.apache.spark.rdd.RDD.computeOrReadCheckpoint(RDD.scala:324)\n\tat org.apache.spark.rdd.RDD.iterator(RDD.scala:288)\n\tat org.apache.spark.scheduler.ResultTask.runTask(ResultTask.scala:90)\n\tat org.apache.spark.scheduler.Task.run(Task.scala:121)\n\tat org.apache.spark.executor.Executor$TaskRunner$$anonfun$10.apply(Executor.scala:408)\n\tat org.apache.spark.util.Utils$.tryWithSafeFinally(Utils.scala:1360)\n\tat org.apache.spark.executor.Executor$TaskRunner.run(Executor.scala:414)\n\tat java.util.concurrent.ThreadPoolExecutor.runWorker(ThreadPoolExecutor.java:1149)\n\tat java.util.concurrent.ThreadPoolExecutor$Worker.run(ThreadPoolExecutor.java:624)\n\tat java.lang.Thread.run(Thread.java:748)\nCaused by: org.apache.spark.SparkException: Unseen label: AS.  To handle unseen labels, set Param handleInvalid to keep.\n\tat org.apache.spark.ml.feature.StringIndexerModel$$anonfun$9.apply(StringIndexer.scala:260)\n\tat org.apache.spark.ml.feature.StringIndexerModel$$anonfun$9.apply(StringIndexer.scala:246)\n\t... 35 more\n\nDriver stacktrace:\n\tat org.apache.spark.scheduler.DAGScheduler.org$apache$spark$scheduler$DAGScheduler$$failJobAndIndependentStages(DAGScheduler.scala:1889)\n\tat org.apache.spark.scheduler.DAGScheduler$$anonfun$abortStage$1.apply(DAGScheduler.scala:1877)\n\tat org.apache.spark.scheduler.DAGScheduler$$anonfun$abortStage$1.apply(DAGScheduler.scala:1876)\n\tat scala.collection.mutable.ResizableArray$class.foreach(ResizableArray.scala:59)\n\tat scala.collection.mutable.ArrayBuffer.foreach(ArrayBuffer.scala:48)\n\tat org.apache.spark.scheduler.DAGScheduler.abortStage(DAGScheduler.scala:1876)\n\tat org.apache.spark.scheduler.DAGScheduler$$anonfun$handleTaskSetFailed$1.apply(DAGScheduler.scala:926)\n\tat org.apache.spark.scheduler.DAGScheduler$$anonfun$handleTaskSetFailed$1.apply(DAGScheduler.scala:926)\n\tat scala.Option.foreach(Option.scala:257)\n\tat org.apache.spark.scheduler.DAGScheduler.handleTaskSetFailed(DAGScheduler.scala:926)\n\tat org.apache.spark.scheduler.DAGSchedulerEventProcessLoop.doOnReceive(DAGScheduler.scala:2110)\n\tat org.apache.spark.scheduler.DAGSchedulerEventProcessLoop.onReceive(DAGScheduler.scala:2059)\n\tat org.apache.spark.scheduler.DAGSchedulerEventProcessLoop.onReceive(DAGScheduler.scala:2048)\n\tat org.apache.spark.util.EventLoop$$anon$1.run(EventLoop.scala:49)\n\tat org.apache.spark.scheduler.DAGScheduler.runJob(DAGScheduler.scala:737)\n\tat org.apache.spark.SparkContext.runJob(SparkContext.scala:2061)\n\tat org.apache.spark.SparkContext.runJob(SparkContext.scala:2158)\n\tat org.apache.spark.rdd.RDD$$anonfun$fold$1.apply(RDD.scala:1098)\n\tat org.apache.spark.rdd.RDDOperationScope$.withScope(RDDOperationScope.scala:151)\n\tat org.apache.spark.rdd.RDDOperationScope$.withScope(RDDOperationScope.scala:112)\n\tat org.apache.spark.rdd.RDD.withScope(RDD.scala:363)\n\tat org.apache.spark.rdd.RDD.fold(RDD.scala:1092)\n\tat org.apache.spark.rdd.RDD$$anonfun$treeAggregate$1.apply(RDD.scala:1161)\n\tat org.apache.spark.rdd.RDDOperationScope$.withScope(RDDOperationScope.scala:151)\n\tat org.apache.spark.rdd.RDDOperationScope$.withScope(RDDOperationScope.scala:112)\n\tat org.apache.spark.rdd.RDD.withScope(RDD.scala:363)\n\tat org.apache.spark.rdd.RDD.treeAggregate(RDD.scala:1137)\n\tat org.apache.spark.mllib.evaluation.RegressionMetrics.summary$lzycompute(RegressionMetrics.scala:57)\n\tat org.apache.spark.mllib.evaluation.RegressionMetrics.summary(RegressionMetrics.scala:54)\n\tat org.apache.spark.mllib.evaluation.RegressionMetrics.SSerr$lzycompute(RegressionMetrics.scala:65)\n\tat org.apache.spark.mllib.evaluation.RegressionMetrics.SSerr(RegressionMetrics.scala:65)\n\tat org.apache.spark.mllib.evaluation.RegressionMetrics.meanSquaredError(RegressionMetrics.scala:100)\n\tat org.apache.spark.mllib.evaluation.RegressionMetrics.rootMeanSquaredError(RegressionMetrics.scala:109)\n\tat org.apache.spark.ml.evaluation.RegressionEvaluator.evaluate(RegressionEvaluator.scala:86)\n\tat sun.reflect.NativeMethodAccessorImpl.invoke0(Native Method)\n\tat sun.reflect.NativeMethodAccessorImpl.invoke(NativeMethodAccessorImpl.java:62)\n\tat sun.reflect.DelegatingMethodAccessorImpl.invoke(DelegatingMethodAccessorImpl.java:43)\n\tat java.lang.reflect.Method.invoke(Method.java:498)\n\tat py4j.reflection.MethodInvoker.invoke(MethodInvoker.java:244)\n\tat py4j.reflection.ReflectionEngine.invoke(ReflectionEngine.java:357)\n\tat py4j.Gateway.invoke(Gateway.java:282)\n\tat py4j.commands.AbstractCommand.invokeMethod(AbstractCommand.java:132)\n\tat py4j.commands.CallCommand.execute(CallCommand.java:79)\n\tat py4j.GatewayConnection.run(GatewayConnection.java:238)\n\tat java.lang.Thread.run(Thread.java:748)\nCaused by: org.apache.spark.SparkException: Failed to execute user defined function($anonfun$9: (string) => double)\n\tat org.apache.spark.sql.catalyst.expressions.GeneratedClass$SpecificUnsafeProjection.writeFields_0_12$(Unknown Source)\n\tat org.apache.spark.sql.catalyst.expressions.GeneratedClass$SpecificUnsafeProjection.apply(Unknown Source)\n\tat org.apache.spark.sql.catalyst.expressions.GeneratedClass$SpecificUnsafeProjection.apply(Unknown Source)\n\tat scala.collection.Iterator$$anon$11.next(Iterator.scala:410)\n\tat scala.collection.Iterator$$anon$11.next(Iterator.scala:410)\n\tat org.apache.spark.sql.catalyst.expressions.GeneratedClass$GeneratedIteratorForCodegenStage1.processNext(Unknown Source)\n\tat org.apache.spark.sql.execution.BufferedRowIterator.hasNext(BufferedRowIterator.java:43)\n\tat org.apache.spark.sql.execution.WholeStageCodegenExec$$anonfun$13$$anon$1.hasNext(WholeStageCodegenExec.scala:636)\n\tat scala.collection.Iterator$$anon$11.hasNext(Iterator.scala:409)\n\tat scala.collection.Iterator$$anon$11.hasNext(Iterator.scala:409)\n\tat scala.collection.Iterator$$anon$11.hasNext(Iterator.scala:409)\n\tat scala.collection.Iterator$$anon$11.hasNext(Iterator.scala:409)\n\tat scala.collection.Iterator$class.foreach(Iterator.scala:891)\n\tat scala.collection.AbstractIterator.foreach(Iterator.scala:1334)\n\tat scala.collection.TraversableOnce$class.foldLeft(TraversableOnce.scala:157)\n\tat scala.collection.AbstractIterator.foldLeft(Iterator.scala:1334)\n\tat scala.collection.TraversableOnce$class.aggregate(TraversableOnce.scala:214)\n\tat scala.collection.AbstractIterator.aggregate(Iterator.scala:1334)\n\tat org.apache.spark.rdd.RDD$$anonfun$treeAggregate$1$$anonfun$24.apply(RDD.scala:1145)\n\tat org.apache.spark.rdd.RDD$$anonfun$treeAggregate$1$$anonfun$24.apply(RDD.scala:1145)\n\tat org.apache.spark.rdd.RDD$$anonfun$treeAggregate$1$$anonfun$25.apply(RDD.scala:1146)\n\tat org.apache.spark.rdd.RDD$$anonfun$treeAggregate$1$$anonfun$25.apply(RDD.scala:1146)\n\tat org.apache.spark.rdd.RDD$$anonfun$mapPartitions$1$$anonfun$apply$23.apply(RDD.scala:801)\n\tat org.apache.spark.rdd.RDD$$anonfun$mapPartitions$1$$anonfun$apply$23.apply(RDD.scala:801)\n\tat org.apache.spark.rdd.MapPartitionsRDD.compute(MapPartitionsRDD.scala:52)\n\tat org.apache.spark.rdd.RDD.computeOrReadCheckpoint(RDD.scala:324)\n\tat org.apache.spark.rdd.RDD.iterator(RDD.scala:288)\n\tat org.apache.spark.scheduler.ResultTask.runTask(ResultTask.scala:90)\n\tat org.apache.spark.scheduler.Task.run(Task.scala:121)\n\tat org.apache.spark.executor.Executor$TaskRunner$$anonfun$10.apply(Executor.scala:408)\n\tat org.apache.spark.util.Utils$.tryWithSafeFinally(Utils.scala:1360)\n\tat org.apache.spark.executor.Executor$TaskRunner.run(Executor.scala:414)\n\tat java.util.concurrent.ThreadPoolExecutor.runWorker(ThreadPoolExecutor.java:1149)\n\tat java.util.concurrent.ThreadPoolExecutor$Worker.run(ThreadPoolExecutor.java:624)\n\t... 1 more\nCaused by: org.apache.spark.SparkException: Unseen label: AS.  To handle unseen labels, set Param handleInvalid to keep.\n\tat org.apache.spark.ml.feature.StringIndexerModel$$anonfun$9.apply(StringIndexer.scala:260)\n\tat org.apache.spark.ml.feature.StringIndexerModel$$anonfun$9.apply(StringIndexer.scala:246)\n\t... 35 more\n"
     ]
    }
   ],
   "source": [
    "RMSE = eval.evaluate(TestPred)\n",
    "# 10.6\n",
    "print (\"RMSE on our test set: %g\" % RMSE)"
   ]
  },
  {
   "cell_type": "code",
   "execution_count": null,
   "metadata": {},
   "outputs": [],
   "source": []
  }
 ],
 "metadata": {
  "kernelspec": {
   "display_name": "Python 3",
   "language": "python",
   "name": "python3"
  },
  "language_info": {
   "codemirror_mode": {
    "name": "ipython",
    "version": 3
   },
   "file_extension": ".py",
   "mimetype": "text/x-python",
   "name": "python",
   "nbconvert_exporter": "python",
   "pygments_lexer": "ipython3",
   "version": "3.7.3"
  }
 },
 "nbformat": 4,
 "nbformat_minor": 2
}
